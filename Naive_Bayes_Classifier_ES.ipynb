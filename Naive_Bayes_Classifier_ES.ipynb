{
  "nbformat": 4,
  "nbformat_minor": 0,
  "metadata": {
    "colab": {
      "name": "Naive Bayes Classifier ES.ipynb",
      "provenance": [],
      "collapsed_sections": [],
      "authorship_tag": "ABX9TyMpGEQ2oYlLg2bTAGN9YWCS",
      "include_colab_link": true
    },
    "kernelspec": {
      "name": "python3",
      "display_name": "Python 3"
    },
    "language_info": {
      "name": "python"
    }
  },
  "cells": [
    {
      "cell_type": "markdown",
      "metadata": {
        "id": "view-in-github",
        "colab_type": "text"
      },
      "source": [
        "<a href=\"https://colab.research.google.com/github/Parth7/ML-for-finance/blob/main/Naive_Bayes_Classifier_ES.ipynb\" target=\"_parent\"><img src=\"https://colab.research.google.com/assets/colab-badge.svg\" alt=\"Open In Colab\"/></a>"
      ]
    },
    {
      "cell_type": "code",
      "metadata": {
        "colab": {
          "resources": {
            "http://localhost:8080/nbextensions/google.colab/files.js": {
              "data": "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",
              "ok": true,
              "headers": [
                [
                  "content-type",
                  "application/javascript"
                ]
              ],
              "status": 200,
              "status_text": ""
            }
          },
          "base_uri": "https://localhost:8080/",
          "height": 72
        },
        "id": "VVbTEYRyVvt2",
        "outputId": "8d831a84-1fde-4fc3-b971-29e48f6d7c99"
      },
      "source": [
        "from google.colab import files\n",
        "uploaded = files.upload()"
      ],
      "execution_count": null,
      "outputs": [
        {
          "output_type": "display_data",
          "data": {
            "text/html": [
              "\n",
              "     <input type=\"file\" id=\"files-3db1634c-2698-4da9-b785-6c7c4faa8878\" name=\"files[]\" multiple disabled\n",
              "        style=\"border:none\" />\n",
              "     <output id=\"result-3db1634c-2698-4da9-b785-6c7c4faa8878\">\n",
              "      Upload widget is only available when the cell has been executed in the\n",
              "      current browser session. Please rerun this cell to enable.\n",
              "      </output>\n",
              "      <script src=\"/nbextensions/google.colab/files.js\"></script> "
            ],
            "text/plain": [
              "<IPython.core.display.HTML object>"
            ]
          },
          "metadata": {
            "tags": []
          }
        },
        {
          "output_type": "stream",
          "text": [
            "Saving logistic data.csv to logistic data.csv\n"
          ],
          "name": "stdout"
        }
      ]
    },
    {
      "cell_type": "code",
      "metadata": {
        "id": "cufqVoMsWGtd"
      },
      "source": [
        "import pandas as pd\n",
        "dataset = pd.read_csv('logistic data.csv') \n",
        "X = dataset.iloc[:, [1]].values\n",
        "y = dataset.iloc[:, -2].values"
      ],
      "execution_count": null,
      "outputs": []
    },
    {
      "cell_type": "code",
      "metadata": {
        "colab": {
          "base_uri": "https://localhost:8080/"
        },
        "id": "U8T3GyzqWL-B",
        "outputId": "4221dfb7-31bb-418f-e8e6-abde5e5ea61c"
      },
      "source": [
        "print(X.shape, y.shape)\n",
        "print(X[:5])\n",
        "print(y[:5])"
      ],
      "execution_count": null,
      "outputs": [
        {
          "output_type": "stream",
          "text": [
            "(10000, 1) (10000,)\n",
            "[[2.111112]\n",
            " [2.112977]\n",
            " [2.111623]\n",
            " [2.11149 ]\n",
            " [2.109245]]\n",
            "[1 1 1 1 1]\n"
          ],
          "name": "stdout"
        }
      ]
    },
    {
      "cell_type": "code",
      "metadata": {
        "id": "V4fpPUZFWhAa"
      },
      "source": [
        "import numpy as np\n",
        "from scipy.stats import norm\n",
        "def fit_distribution(data):\n",
        "  # estimate parameters\n",
        "  mu = np.mean(data)\n",
        "  sigma = np.std(data)\n",
        "  #print(mu, sigma)\n",
        "  # fit distribution\n",
        "  dist = norm(mu, sigma)\n",
        "  return dist"
      ],
      "execution_count": null,
      "outputs": []
    },
    {
      "cell_type": "code",
      "metadata": {
        "id": "C_8yT4Q4jSyV"
      },
      "source": [
        "Xy = np.zeros((50,200))"
      ],
      "execution_count": null,
      "outputs": []
    },
    {
      "cell_type": "code",
      "metadata": {
        "colab": {
          "base_uri": "https://localhost:8080/"
        },
        "id": "xMh7dM30uEeo",
        "outputId": "646a5b12-6160-4247-ddf6-aae22e33929a"
      },
      "source": [
        "Xy.shape"
      ],
      "execution_count": null,
      "outputs": [
        {
          "output_type": "execute_result",
          "data": {
            "text/plain": [
              "(50, 200)"
            ]
          },
          "metadata": {
            "tags": []
          },
          "execution_count": 9
        }
      ]
    },
    {
      "cell_type": "code",
      "metadata": {
        "colab": {
          "base_uri": "https://localhost:8080/"
        },
        "id": "s4vDYo3AjW0j",
        "outputId": "098619c9-da9a-40d0-c2d9-42e5ba43568c"
      },
      "source": [
        "Xy[1][199]"
      ],
      "execution_count": null,
      "outputs": [
        {
          "output_type": "execute_result",
          "data": {
            "text/plain": [
              "0.0"
            ]
          },
          "metadata": {
            "tags": []
          },
          "execution_count": 10
        }
      ]
    },
    {
      "cell_type": "code",
      "metadata": {
        "colab": {
          "base_uri": "https://localhost:8080/"
        },
        "id": "nW_Xt74GlktI",
        "outputId": "d975c4a2-4b01-4a59-eef2-6992e028ab09"
      },
      "source": [
        "X[y == 49][0]"
      ],
      "execution_count": null,
      "outputs": [
        {
          "output_type": "execute_result",
          "data": {
            "text/plain": [
              "array([1.220234])"
            ]
          },
          "metadata": {
            "tags": []
          },
          "execution_count": 11
        }
      ]
    },
    {
      "cell_type": "code",
      "metadata": {
        "id": "v01Ap-SyjIvv"
      },
      "source": [
        "for i in range(50):\n",
        "    for j in range(0,200):\n",
        "      Xy[i][j] = X[y == i+1][j]"
      ],
      "execution_count": null,
      "outputs": []
    },
    {
      "cell_type": "code",
      "metadata": {
        "colab": {
          "base_uri": "https://localhost:8080/"
        },
        "id": "nNjJvL1vkIPB",
        "outputId": "e5d56372-2fca-4bf6-f6dc-e4ea8beac7b8"
      },
      "source": [
        "Xy[48][0]"
      ],
      "execution_count": null,
      "outputs": [
        {
          "output_type": "execute_result",
          "data": {
            "text/plain": [
              "1.220234"
            ]
          },
          "metadata": {
            "tags": []
          },
          "execution_count": 13
        }
      ]
    },
    {
      "cell_type": "code",
      "metadata": {
        "colab": {
          "base_uri": "https://localhost:8080/",
          "height": 164
        },
        "id": "TmV_jrKQFsGU",
        "outputId": "ffbaeef8-11b6-4454-cec9-836403a45fe1"
      },
      "source": [
        "Xy49[0]"
      ],
      "execution_count": null,
      "outputs": [
        {
          "output_type": "error",
          "ename": "NameError",
          "evalue": "ignored",
          "traceback": [
            "\u001b[0;31m---------------------------------------------------------------------------\u001b[0m",
            "\u001b[0;31mNameError\u001b[0m                                 Traceback (most recent call last)",
            "\u001b[0;32m<ipython-input-14-c2f24f9e354e>\u001b[0m in \u001b[0;36m<module>\u001b[0;34m()\u001b[0m\n\u001b[0;32m----> 1\u001b[0;31m \u001b[0mXy49\u001b[0m\u001b[0;34m[\u001b[0m\u001b[0;36m0\u001b[0m\u001b[0;34m]\u001b[0m\u001b[0;34m\u001b[0m\u001b[0;34m\u001b[0m\u001b[0m\n\u001b[0m",
            "\u001b[0;31mNameError\u001b[0m: name 'Xy49' is not defined"
          ]
        }
      ]
    },
    {
      "cell_type": "code",
      "metadata": {
        "id": "NQ_Ug8ZCJPAi"
      },
      "source": [
        "priory = np.zeros(50)\n",
        "\n",
        "for i in range(50):\n",
        "  priory[i] = len(Xy[i])/len(X)"
      ],
      "execution_count": null,
      "outputs": []
    },
    {
      "cell_type": "code",
      "metadata": {
        "colab": {
          "base_uri": "https://localhost:8080/"
        },
        "id": "KpvXYhhEJjNa",
        "outputId": "51ed7400-550a-406e-a68c-8b0b38fa93c0"
      },
      "source": [
        "print(priory[30])"
      ],
      "execution_count": null,
      "outputs": [
        {
          "output_type": "stream",
          "text": [
            "0.02\n"
          ],
          "name": "stdout"
        }
      ]
    },
    {
      "cell_type": "code",
      "metadata": {
        "id": "QKw2OGEAZ0fh"
      },
      "source": [
        "def probability(X, prior, dist1):\n",
        "\treturn prior * dist1.pdf(X[0])"
      ],
      "execution_count": null,
      "outputs": []
    },
    {
      "cell_type": "code",
      "metadata": {
        "colab": {
          "base_uri": "https://localhost:8080/"
        },
        "id": "QCvbXc93PUfL",
        "outputId": "2505e864-7dce-4f56-abe6-3dde47015264"
      },
      "source": [
        "Xy[i].mean()"
      ],
      "execution_count": null,
      "outputs": [
        {
          "output_type": "execute_result",
          "data": {
            "text/plain": [
              "2.12031452"
            ]
          },
          "metadata": {
            "tags": []
          },
          "execution_count": 18
        }
      ]
    },
    {
      "cell_type": "code",
      "metadata": {
        "colab": {
          "base_uri": "https://localhost:8080/"
        },
        "id": "bGMph-ogSO0p",
        "outputId": "84e11eb0-aaf5-4eef-e6a0-4165b2d6c6b4"
      },
      "source": [
        "fit_distribution(Xy[1])"
      ],
      "execution_count": null,
      "outputs": [
        {
          "output_type": "stream",
          "text": [
            "2.16078444 0.0012923816372883109\n"
          ],
          "name": "stdout"
        },
        {
          "output_type": "execute_result",
          "data": {
            "text/plain": [
              "<scipy.stats._distn_infrastructure.rv_frozen at 0x7f5e8f913050>"
            ]
          },
          "metadata": {
            "tags": []
          },
          "execution_count": 21
        }
      ]
    },
    {
      "cell_type": "code",
      "metadata": {
        "id": "O9R3-rboh5uC"
      },
      "source": [
        "distXy = []\n",
        "for i in range(50):\n",
        "  distXy.append(fit_distribution(Xy[i]))"
      ],
      "execution_count": null,
      "outputs": []
    },
    {
      "cell_type": "code",
      "metadata": {
        "colab": {
          "base_uri": "https://localhost:8080/"
        },
        "id": "lJzpKhUiY5At",
        "outputId": "fa11f2b9-afe2-403a-e7f9-35c920e7820a"
      },
      "source": [
        "from sklearn.model_selection import train_test_split\n",
        "X_train, X_test, y_train, y_test = train_test_split(X, y, test_size=0.4, random_state=1)\n",
        "  \n",
        "# training the model on training set\n",
        "from sklearn.naive_bayes import GaussianNB\n",
        "gnb = GaussianNB()\n",
        "gnb.fit(X_train, y_train)"
      ],
      "execution_count": null,
      "outputs": [
        {
          "output_type": "execute_result",
          "data": {
            "text/plain": [
              "GaussianNB(priors=None, var_smoothing=1e-09)"
            ]
          },
          "metadata": {
            "tags": []
          },
          "execution_count": 257
        }
      ]
    },
    {
      "cell_type": "code",
      "metadata": {
        "colab": {
          "base_uri": "https://localhost:8080/"
        },
        "id": "rplj_DwmwZK8",
        "outputId": "2fbcb41a-283e-41e8-c74f-36e8844c745e"
      },
      "source": [
        "# classify one example\n",
        "py = np.zeros((50,1))\n",
        "Xsample, ysample = X[0], y[0]\n",
        "\n",
        "for i in range(50):\n",
        "  py[i] = probability(Xsample, priory[i], distXy[i])\n",
        "\n",
        "for i in range(50):\n",
        "  print('P(y=%d | %s) = %.3f' % (i+1,Xsample, py[i]*100))\n",
        "\n",
        "print('Truth: y=%d' % ysample)"
      ],
      "execution_count": null,
      "outputs": [
        {
          "output_type": "stream",
          "text": [
            "P(y=1 | [2.111112]) = 306.909\n",
            "P(y=2 | [2.111112]) = 0.000\n",
            "P(y=3 | [2.111112]) = 0.000\n",
            "P(y=4 | [2.111112]) = 0.000\n",
            "P(y=5 | [2.111112]) = 0.000\n",
            "P(y=6 | [2.111112]) = 0.000\n",
            "P(y=7 | [2.111112]) = 0.000\n",
            "P(y=8 | [2.111112]) = 0.000\n",
            "P(y=9 | [2.111112]) = 0.000\n",
            "P(y=10 | [2.111112]) = 0.000\n",
            "P(y=11 | [2.111112]) = 0.000\n",
            "P(y=12 | [2.111112]) = 0.000\n",
            "P(y=13 | [2.111112]) = 0.000\n",
            "P(y=14 | [2.111112]) = 0.000\n",
            "P(y=15 | [2.111112]) = 0.000\n",
            "P(y=16 | [2.111112]) = 0.000\n",
            "P(y=17 | [2.111112]) = 0.000\n",
            "P(y=18 | [2.111112]) = 0.000\n",
            "P(y=19 | [2.111112]) = 0.000\n",
            "P(y=20 | [2.111112]) = 0.000\n",
            "P(y=21 | [2.111112]) = 0.000\n",
            "P(y=22 | [2.111112]) = 0.000\n",
            "P(y=23 | [2.111112]) = 0.000\n",
            "P(y=24 | [2.111112]) = 0.000\n",
            "P(y=25 | [2.111112]) = 0.000\n",
            "P(y=26 | [2.111112]) = 0.000\n",
            "P(y=27 | [2.111112]) = 0.000\n",
            "P(y=28 | [2.111112]) = 0.000\n",
            "P(y=29 | [2.111112]) = 0.000\n",
            "P(y=30 | [2.111112]) = 0.000\n",
            "P(y=31 | [2.111112]) = 0.000\n",
            "P(y=32 | [2.111112]) = 0.000\n",
            "P(y=33 | [2.111112]) = 0.000\n",
            "P(y=34 | [2.111112]) = 0.000\n",
            "P(y=35 | [2.111112]) = 0.000\n",
            "P(y=36 | [2.111112]) = 0.000\n",
            "P(y=37 | [2.111112]) = 0.000\n",
            "P(y=38 | [2.111112]) = 0.000\n",
            "P(y=39 | [2.111112]) = 0.000\n",
            "P(y=40 | [2.111112]) = 0.000\n",
            "P(y=41 | [2.111112]) = 0.000\n",
            "P(y=42 | [2.111112]) = 0.000\n",
            "P(y=43 | [2.111112]) = 0.000\n",
            "P(y=44 | [2.111112]) = 0.000\n",
            "P(y=45 | [2.111112]) = 0.000\n",
            "P(y=46 | [2.111112]) = 0.000\n",
            "P(y=47 | [2.111112]) = 0.000\n",
            "P(y=48 | [2.111112]) = 0.000\n",
            "P(y=49 | [2.111112]) = 0.000\n",
            "P(y=50 | [2.111112]) = 0.000\n",
            "Truth: y=1\n"
          ],
          "name": "stdout"
        }
      ]
    },
    {
      "cell_type": "code",
      "metadata": {
        "colab": {
          "base_uri": "https://localhost:8080/"
        },
        "id": "QGqDjZXPYG19",
        "outputId": "d1d49f8a-e390-416c-d7ad-d0f367f42ccf"
      },
      "source": [
        "# classify one example\n",
        "py = np.zeros((50,1))\n",
        "Xsample, ysample = X[2764], y[2764]\n",
        "\n",
        "for i in range(50):\n",
        "  py[i] = probability(Xsample, priory[i], distXy[i])\n",
        "\n",
        "for i in range(50):\n",
        "  print('P(y=%d | %s) = %.3f' % (i+1,Xsample, py[i]*100))\n",
        "\n",
        "print('Truth: y=%d' % ysample)"
      ],
      "execution_count": null,
      "outputs": [
        {
          "output_type": "stream",
          "text": [
            "P(y=1 | [2.727806]) = 0.000\n",
            "P(y=2 | [2.727806]) = 0.000\n",
            "P(y=3 | [2.727806]) = 0.000\n",
            "P(y=4 | [2.727806]) = 0.000\n",
            "P(y=5 | [2.727806]) = 0.000\n",
            "P(y=6 | [2.727806]) = 0.000\n",
            "P(y=7 | [2.727806]) = 0.000\n",
            "P(y=8 | [2.727806]) = 0.000\n",
            "P(y=9 | [2.727806]) = 0.000\n",
            "P(y=10 | [2.727806]) = 0.000\n",
            "P(y=11 | [2.727806]) = 0.000\n",
            "P(y=12 | [2.727806]) = 0.000\n",
            "P(y=13 | [2.727806]) = 0.000\n",
            "P(y=14 | [2.727806]) = 391.762\n",
            "P(y=15 | [2.727806]) = 0.000\n",
            "P(y=16 | [2.727806]) = 0.000\n",
            "P(y=17 | [2.727806]) = 0.000\n",
            "P(y=18 | [2.727806]) = 0.000\n",
            "P(y=19 | [2.727806]) = 0.000\n",
            "P(y=20 | [2.727806]) = 0.000\n",
            "P(y=21 | [2.727806]) = 0.000\n",
            "P(y=22 | [2.727806]) = 0.000\n",
            "P(y=23 | [2.727806]) = 0.000\n",
            "P(y=24 | [2.727806]) = 0.000\n",
            "P(y=25 | [2.727806]) = 0.000\n",
            "P(y=26 | [2.727806]) = 0.000\n",
            "P(y=27 | [2.727806]) = 0.000\n",
            "P(y=28 | [2.727806]) = 0.000\n",
            "P(y=29 | [2.727806]) = 0.000\n",
            "P(y=30 | [2.727806]) = 0.000\n",
            "P(y=31 | [2.727806]) = 0.000\n",
            "P(y=32 | [2.727806]) = 0.000\n",
            "P(y=33 | [2.727806]) = 0.000\n",
            "P(y=34 | [2.727806]) = 0.000\n",
            "P(y=35 | [2.727806]) = 0.000\n",
            "P(y=36 | [2.727806]) = 0.000\n",
            "P(y=37 | [2.727806]) = 0.000\n",
            "P(y=38 | [2.727806]) = 0.000\n",
            "P(y=39 | [2.727806]) = 0.000\n",
            "P(y=40 | [2.727806]) = 0.000\n",
            "P(y=41 | [2.727806]) = 0.000\n",
            "P(y=42 | [2.727806]) = 0.000\n",
            "P(y=43 | [2.727806]) = 0.000\n",
            "P(y=44 | [2.727806]) = 0.000\n",
            "P(y=45 | [2.727806]) = 0.000\n",
            "P(y=46 | [2.727806]) = 0.000\n",
            "P(y=47 | [2.727806]) = 0.000\n",
            "P(y=48 | [2.727806]) = 0.000\n",
            "P(y=49 | [2.727806]) = 0.000\n",
            "P(y=50 | [2.727806]) = 0.000\n",
            "Truth: y=14\n"
          ],
          "name": "stdout"
        }
      ]
    },
    {
      "cell_type": "code",
      "metadata": {
        "colab": {
          "base_uri": "https://localhost:8080/"
        },
        "id": "3DazfdM3ZDIL",
        "outputId": "651a7aa3-1a2d-4b51-8531-e52fc5f6fa57"
      },
      "source": [
        "# classify one example\n",
        "py = np.zeros((50,1))\n",
        "Xsample, ysample = X[764], y[764]\n",
        "\n",
        "for i in range(50):\n",
        "  py[i] = probability(Xsample, priory[i], distXy[i])\n",
        "\n",
        "for i in range(50):\n",
        "  print('P(y=%d | %s) = %.3f' % (i+1,Xsample, py[i]*100))\n",
        "\n",
        "print('Truth: y=%d' % ysample)"
      ],
      "execution_count": null,
      "outputs": [
        {
          "output_type": "stream",
          "text": [
            "P(y=1 | [2.337729]) = 0.000\n",
            "P(y=2 | [2.337729]) = 0.000\n",
            "P(y=3 | [2.337729]) = 0.000\n",
            "P(y=4 | [2.337729]) = 294.672\n",
            "P(y=5 | [2.337729]) = 0.000\n",
            "P(y=6 | [2.337729]) = 0.000\n",
            "P(y=7 | [2.337729]) = 0.000\n",
            "P(y=8 | [2.337729]) = 0.000\n",
            "P(y=9 | [2.337729]) = 0.000\n",
            "P(y=10 | [2.337729]) = 0.000\n",
            "P(y=11 | [2.337729]) = 0.000\n",
            "P(y=12 | [2.337729]) = 0.000\n",
            "P(y=13 | [2.337729]) = 0.000\n",
            "P(y=14 | [2.337729]) = 0.000\n",
            "P(y=15 | [2.337729]) = 0.000\n",
            "P(y=16 | [2.337729]) = 0.000\n",
            "P(y=17 | [2.337729]) = 0.000\n",
            "P(y=18 | [2.337729]) = 0.000\n",
            "P(y=19 | [2.337729]) = 0.000\n",
            "P(y=20 | [2.337729]) = 0.000\n",
            "P(y=21 | [2.337729]) = 0.000\n",
            "P(y=22 | [2.337729]) = 0.000\n",
            "P(y=23 | [2.337729]) = 0.000\n",
            "P(y=24 | [2.337729]) = 0.000\n",
            "P(y=25 | [2.337729]) = 0.000\n",
            "P(y=26 | [2.337729]) = 0.000\n",
            "P(y=27 | [2.337729]) = 0.000\n",
            "P(y=28 | [2.337729]) = 0.000\n",
            "P(y=29 | [2.337729]) = 0.000\n",
            "P(y=30 | [2.337729]) = 0.000\n",
            "P(y=31 | [2.337729]) = 0.000\n",
            "P(y=32 | [2.337729]) = 0.000\n",
            "P(y=33 | [2.337729]) = 0.000\n",
            "P(y=34 | [2.337729]) = 0.000\n",
            "P(y=35 | [2.337729]) = 0.000\n",
            "P(y=36 | [2.337729]) = 0.000\n",
            "P(y=37 | [2.337729]) = 0.000\n",
            "P(y=38 | [2.337729]) = 0.000\n",
            "P(y=39 | [2.337729]) = 0.000\n",
            "P(y=40 | [2.337729]) = 0.000\n",
            "P(y=41 | [2.337729]) = 0.000\n",
            "P(y=42 | [2.337729]) = 0.000\n",
            "P(y=43 | [2.337729]) = 0.000\n",
            "P(y=44 | [2.337729]) = 0.000\n",
            "P(y=45 | [2.337729]) = 0.000\n",
            "P(y=46 | [2.337729]) = 0.000\n",
            "P(y=47 | [2.337729]) = 0.000\n",
            "P(y=48 | [2.337729]) = 0.000\n",
            "P(y=49 | [2.337729]) = 0.000\n",
            "P(y=50 | [2.337729]) = 0.000\n",
            "Truth: y=4\n"
          ],
          "name": "stdout"
        }
      ]
    },
    {
      "cell_type": "code",
      "metadata": {
        "id": "HyswXnHNbhc6"
      },
      "source": [
        "from random import randint\n",
        "value = randint(0,10000)"
      ],
      "execution_count": null,
      "outputs": []
    },
    {
      "cell_type": "code",
      "metadata": {
        "id": "NFMybrSGaM3z"
      },
      "source": [
        "# classify 5 example\n",
        "count = 0\n",
        "for j in range(10000):\n",
        "  py = {}\n",
        "  Xsample, ysample = X[j], y[j]\n",
        "  for i in range(50):\n",
        "    py[i] = probability(Xsample, priory[i], distXy[i])\n",
        "\n",
        "  #for i in range(50):\n",
        "    #print('P(y=%d | %s) = %.3f' % (i+1,Xsample, py[i]*100))\n",
        "\n",
        "  a = np.array(sorted(py, key=py.get, reverse=True)[:5])+1\n",
        "\n",
        "  for k in range(5):\n",
        "    if(ysample==a[k]):\n",
        "      count+=1"
      ],
      "execution_count": null,
      "outputs": []
    },
    {
      "cell_type": "code",
      "metadata": {
        "colab": {
          "base_uri": "https://localhost:8080/"
        },
        "id": "Ex9JiQ49cx46",
        "outputId": "ee9a920e-1f74-4f4a-df45-461768e31f27"
      },
      "source": [
        "count/10000 *100"
      ],
      "execution_count": null,
      "outputs": [
        {
          "output_type": "execute_result",
          "data": {
            "text/plain": [
              "99.97"
            ]
          },
          "metadata": {
            "tags": []
          },
          "execution_count": 29
        }
      ]
    },
    {
      "cell_type": "code",
      "metadata": {
        "id": "v61Xdv2EoKwl"
      },
      "source": [
        "# classify one example\n",
        "count = 0\n",
        "for j in range(10000):\n",
        "  py = {}\n",
        "  Xsample, ysample = X[j], y[j]\n",
        "  for i in range(50):\n",
        "    py[i] = probability(Xsample, priory[i], distXy[i])\n",
        "\n",
        "  #for i in range(50):\n",
        "    #print('P(y=%d | %s) = %.3f' % (i+1,Xsample, py[i]*100))\n",
        "\n",
        "  a = np.array(sorted(py, key=py.get, reverse=True)[:1])+1\n",
        "\n",
        "  for k in range(1):\n",
        "    if(ysample==a[k]):\n",
        "      count+=1"
      ],
      "execution_count": null,
      "outputs": []
    },
    {
      "cell_type": "code",
      "metadata": {
        "colab": {
          "base_uri": "https://localhost:8080/"
        },
        "id": "V-5yajYuhv2r",
        "outputId": "ae3c7653-9a94-495d-a64f-ad76e875927a"
      },
      "source": [
        "count/10000 *100"
      ],
      "execution_count": null,
      "outputs": [
        {
          "output_type": "execute_result",
          "data": {
            "text/plain": [
              "84.59"
            ]
          },
          "metadata": {
            "tags": []
          },
          "execution_count": 32
        }
      ]
    },
    {
      "cell_type": "code",
      "metadata": {
        "id": "4oDuS9KDiHDH"
      },
      "source": [
        ""
      ],
      "execution_count": null,
      "outputs": []
    }
  ]
}