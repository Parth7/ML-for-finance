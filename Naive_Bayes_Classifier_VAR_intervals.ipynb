{
  "nbformat": 4,
  "nbformat_minor": 0,
  "metadata": {
    "colab": {
      "name": "Naive Bayes Classifier VAR intervals.ipynb",
      "provenance": [],
      "collapsed_sections": [],
      "authorship_tag": "ABX9TyMWnsO+mZQzI6nPwhaSXhSC",
      "include_colab_link": true
    },
    "kernelspec": {
      "name": "python3",
      "display_name": "Python 3"
    },
    "language_info": {
      "name": "python"
    }
  },
  "cells": [
    {
      "cell_type": "markdown",
      "metadata": {
        "id": "view-in-github",
        "colab_type": "text"
      },
      "source": [
        "<a href=\"https://colab.research.google.com/github/Parth7/ML-for-finance/blob/main/Naive_Bayes_Classifier_VAR_intervals.ipynb\" target=\"_parent\"><img src=\"https://colab.research.google.com/assets/colab-badge.svg\" alt=\"Open In Colab\"/></a>"
      ]
    },
    {
      "cell_type": "code",
      "metadata": {
        "colab": {
          "resources": {
            "http://localhost:8080/nbextensions/google.colab/files.js": {
              "data": "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",
              "ok": true,
              "headers": [
                [
                  "content-type",
                  "application/javascript"
                ]
              ],
              "status": 200,
              "status_text": ""
            }
          },
          "base_uri": "https://localhost:8080/",
          "height": 72
        },
        "id": "VVbTEYRyVvt2",
        "outputId": "f2387148-c5aa-4c79-afff-a46ecaa8e143"
      },
      "source": [
        "from google.colab import files\n",
        "uploaded = files.upload()"
      ],
      "execution_count": null,
      "outputs": [
        {
          "output_type": "display_data",
          "data": {
            "text/html": [
              "\n",
              "     <input type=\"file\" id=\"files-85d3bed2-6bf6-42aa-b669-d1502fb3c3a1\" name=\"files[]\" multiple disabled\n",
              "        style=\"border:none\" />\n",
              "     <output id=\"result-85d3bed2-6bf6-42aa-b669-d1502fb3c3a1\">\n",
              "      Upload widget is only available when the cell has been executed in the\n",
              "      current browser session. Please rerun this cell to enable.\n",
              "      </output>\n",
              "      <script src=\"/nbextensions/google.colab/files.js\"></script> "
            ],
            "text/plain": [
              "<IPython.core.display.HTML object>"
            ]
          },
          "metadata": {
            "tags": []
          }
        },
        {
          "output_type": "stream",
          "text": [
            "Saving cummulative_data_complete_corrected.xlsx to cummulative_data_complete_corrected.xlsx\n"
          ],
          "name": "stdout"
        }
      ]
    },
    {
      "cell_type": "code",
      "metadata": {
        "id": "cufqVoMsWGtd"
      },
      "source": [
        "import pandas as pd\n",
        "file = pd.read_excel('cummulative_data_complete_corrected.xlsx') \n",
        "file = file.to_numpy()"
      ],
      "execution_count": null,
      "outputs": []
    },
    {
      "cell_type": "code",
      "metadata": {
        "id": "SpTSavSM9CAV"
      },
      "source": [
        "file = file[file[:, 0].argsort()]"
      ],
      "execution_count": null,
      "outputs": []
    },
    {
      "cell_type": "code",
      "metadata": {
        "colab": {
          "base_uri": "https://localhost:8080/"
        },
        "id": "U8T3GyzqWL-B",
        "outputId": "9afe7c57-73d7-4eb1-9a2c-751fb2c85915"
      },
      "source": [
        "print(file)"
      ],
      "execution_count": null,
      "outputs": [
        {
          "output_type": "stream",
          "text": [
            "[[ 5.63616403 49.        ]\n",
            " [ 5.66762219 49.        ]\n",
            " [ 5.68632317 49.        ]\n",
            " ...\n",
            " [32.98609    46.        ]\n",
            " [33.10701    46.        ]\n",
            " [33.1144     46.        ]]\n"
          ],
          "name": "stdout"
        }
      ]
    },
    {
      "cell_type": "code",
      "metadata": {
        "id": "z53z3c8C9BZk"
      },
      "source": [
        "for i in range(file.shape[0]):\n",
        "    file[i,0] = int(file[i,0])"
      ],
      "execution_count": null,
      "outputs": []
    },
    {
      "cell_type": "code",
      "metadata": {
        "id": "V4fpPUZFWhAa"
      },
      "source": [
        "import numpy as np\n",
        "from scipy.stats import norm\n",
        "def fit_distribution(data):\n",
        "  # estimate parameters\n",
        "  mu = np.mean(data)\n",
        "  sigma = np.std(data)\n",
        "  #print(mu, sigma)\n",
        "  # fit distribution\n",
        "  dist = norm(mu, sigma)\n",
        "  return dist"
      ],
      "execution_count": null,
      "outputs": []
    },
    {
      "cell_type": "code",
      "metadata": {
        "id": "kxqCuyNa9Uys"
      },
      "source": [
        "np.random.shuffle(file) "
      ],
      "execution_count": null,
      "outputs": []
    },
    {
      "cell_type": "code",
      "metadata": {
        "id": "C_8yT4Q4jSyV"
      },
      "source": [
        "Xy = np.zeros((50,200))"
      ],
      "execution_count": null,
      "outputs": []
    },
    {
      "cell_type": "code",
      "metadata": {
        "colab": {
          "base_uri": "https://localhost:8080/"
        },
        "id": "xMh7dM30uEeo",
        "outputId": "b0526618-741d-4098-e11a-9bd54b187fe2"
      },
      "source": [
        "Xy.shape"
      ],
      "execution_count": null,
      "outputs": [
        {
          "output_type": "execute_result",
          "data": {
            "text/plain": [
              "(50, 200)"
            ]
          },
          "metadata": {
            "tags": []
          },
          "execution_count": 10
        }
      ]
    },
    {
      "cell_type": "code",
      "metadata": {
        "colab": {
          "base_uri": "https://localhost:8080/"
        },
        "id": "s4vDYo3AjW0j",
        "outputId": "84603b27-d6f9-48d8-ea4f-6b129ea19226"
      },
      "source": [
        "Xy[1][199]"
      ],
      "execution_count": null,
      "outputs": [
        {
          "output_type": "execute_result",
          "data": {
            "text/plain": [
              "0.0"
            ]
          },
          "metadata": {
            "tags": []
          },
          "execution_count": 11
        }
      ]
    },
    {
      "cell_type": "code",
      "metadata": {
        "id": "UpQyyLggAeqx"
      },
      "source": [
        "X = file[:,0]\n",
        "y = file[:,1]"
      ],
      "execution_count": null,
      "outputs": []
    },
    {
      "cell_type": "code",
      "metadata": {
        "colab": {
          "base_uri": "https://localhost:8080/"
        },
        "id": "nW_Xt74GlktI",
        "outputId": "77fbb078-061c-4c7f-b912-f197c1d303d4"
      },
      "source": [
        "X[y == 49][0]"
      ],
      "execution_count": null,
      "outputs": [
        {
          "output_type": "execute_result",
          "data": {
            "text/plain": [
              "5.0"
            ]
          },
          "metadata": {
            "tags": []
          },
          "execution_count": 16
        }
      ]
    },
    {
      "cell_type": "code",
      "metadata": {
        "id": "v01Ap-SyjIvv"
      },
      "source": [
        "for i in range(50):\n",
        "    for j in range(0,200):\n",
        "      Xy[i][j] = X[y == i+1][j]"
      ],
      "execution_count": null,
      "outputs": []
    },
    {
      "cell_type": "code",
      "metadata": {
        "colab": {
          "base_uri": "https://localhost:8080/"
        },
        "id": "nNjJvL1vkIPB",
        "outputId": "f77720b5-d5a2-4b5c-d90b-0cfafd804cf6"
      },
      "source": [
        "Xy[48][0]"
      ],
      "execution_count": null,
      "outputs": [
        {
          "output_type": "execute_result",
          "data": {
            "text/plain": [
              "5.0"
            ]
          },
          "metadata": {
            "tags": []
          },
          "execution_count": 18
        }
      ]
    },
    {
      "cell_type": "code",
      "metadata": {
        "colab": {
          "base_uri": "https://localhost:8080/",
          "height": 164
        },
        "id": "TmV_jrKQFsGU",
        "outputId": "1fdc91e8-ece3-444c-b4bf-50b3ced75307"
      },
      "source": [
        "Xy49[0]"
      ],
      "execution_count": null,
      "outputs": [
        {
          "output_type": "error",
          "ename": "NameError",
          "evalue": "ignored",
          "traceback": [
            "\u001b[0;31m---------------------------------------------------------------------------\u001b[0m",
            "\u001b[0;31mNameError\u001b[0m                                 Traceback (most recent call last)",
            "\u001b[0;32m<ipython-input-19-c2f24f9e354e>\u001b[0m in \u001b[0;36m<module>\u001b[0;34m()\u001b[0m\n\u001b[0;32m----> 1\u001b[0;31m \u001b[0mXy49\u001b[0m\u001b[0;34m[\u001b[0m\u001b[0;36m0\u001b[0m\u001b[0;34m]\u001b[0m\u001b[0;34m\u001b[0m\u001b[0;34m\u001b[0m\u001b[0m\n\u001b[0m",
            "\u001b[0;31mNameError\u001b[0m: name 'Xy49' is not defined"
          ]
        }
      ]
    },
    {
      "cell_type": "code",
      "metadata": {
        "id": "NQ_Ug8ZCJPAi"
      },
      "source": [
        "priory = np.zeros(50)\n",
        "\n",
        "for i in range(50):\n",
        "  priory[i] = len(Xy[i])/len(X)"
      ],
      "execution_count": null,
      "outputs": []
    },
    {
      "cell_type": "code",
      "metadata": {
        "colab": {
          "base_uri": "https://localhost:8080/"
        },
        "id": "KpvXYhhEJjNa",
        "outputId": "8c54ad0b-b4b2-423a-cca0-e1855e6023a1"
      },
      "source": [
        "print(priory[30])"
      ],
      "execution_count": null,
      "outputs": [
        {
          "output_type": "stream",
          "text": [
            "0.02\n"
          ],
          "name": "stdout"
        }
      ]
    },
    {
      "cell_type": "code",
      "metadata": {
        "id": "QKw2OGEAZ0fh"
      },
      "source": [
        "def probability(X, prior, dist1):\n",
        "\treturn prior * dist1.pdf(X)"
      ],
      "execution_count": null,
      "outputs": []
    },
    {
      "cell_type": "code",
      "metadata": {
        "colab": {
          "base_uri": "https://localhost:8080/"
        },
        "id": "QCvbXc93PUfL",
        "outputId": "da3882cf-9493-4bae-89b5-36d054f6411d"
      },
      "source": [
        "Xy[i].mean()"
      ],
      "execution_count": null,
      "outputs": [
        {
          "output_type": "execute_result",
          "data": {
            "text/plain": [
              "14.82"
            ]
          },
          "metadata": {
            "tags": []
          },
          "execution_count": 23
        }
      ]
    },
    {
      "cell_type": "code",
      "metadata": {
        "colab": {
          "base_uri": "https://localhost:8080/"
        },
        "id": "bGMph-ogSO0p",
        "outputId": "182d33f8-51d3-4201-873f-ad94cbb11f4c"
      },
      "source": [
        "fit_distribution(Xy[1])"
      ],
      "execution_count": null,
      "outputs": [
        {
          "output_type": "execute_result",
          "data": {
            "text/plain": [
              "<scipy.stats._distn_infrastructure.rv_frozen at 0x7f5982b1bd10>"
            ]
          },
          "metadata": {
            "tags": []
          },
          "execution_count": 24
        }
      ]
    },
    {
      "cell_type": "code",
      "metadata": {
        "id": "O9R3-rboh5uC"
      },
      "source": [
        "distXy = []\n",
        "for i in range(50):\n",
        "  distXy.append(fit_distribution(Xy[i]))"
      ],
      "execution_count": null,
      "outputs": []
    },
    {
      "cell_type": "code",
      "metadata": {
        "id": "J6kPYhMXCXj_"
      },
      "source": [
        "from sklearn.model_selection import train_test_split\n",
        "X_train, X_test, y_train, y_test = train_test_split(X, y, test_size=0.4, random_state=1)\n",
        "  \n",
        "# training the model on training set\n",
        "from sklearn.naive_bayes import GaussianNB\n",
        "gnb = GaussianNB()\n",
        "gnb.fit(X_train, y_train)"
      ],
      "execution_count": null,
      "outputs": []
    },
    {
      "cell_type": "code",
      "metadata": {
        "colab": {
          "base_uri": "https://localhost:8080/"
        },
        "id": "O-ENx2m7C2hO",
        "outputId": "7933a8e9-7a5a-4797-9c41-43aed709f36c"
      },
      "source": [
        "X[0]"
      ],
      "execution_count": null,
      "outputs": [
        {
          "output_type": "execute_result",
          "data": {
            "text/plain": [
              "13.0"
            ]
          },
          "metadata": {
            "tags": []
          },
          "execution_count": 32
        }
      ]
    },
    {
      "cell_type": "code",
      "metadata": {
        "colab": {
          "base_uri": "https://localhost:8080/"
        },
        "id": "rplj_DwmwZK8",
        "outputId": "fb01fefa-717c-43f0-a3be-9e3dd3d2523f"
      },
      "source": [
        "# classify one example\n",
        "py = np.zeros((50,1))\n",
        "Xsample, ysample = X[0], y[0]\n",
        "\n",
        "for i in range(50):\n",
        "  py[i] = probability(Xsample, priory[i], distXy[i])\n",
        "\n",
        "for i in range(50):\n",
        "  print('P(y=%d | %s) = %.3f' % (i+1,Xsample, py[i]*100))\n",
        "\n",
        "print('Truth: y=%d' % ysample)"
      ],
      "execution_count": null,
      "outputs": [
        {
          "output_type": "stream",
          "text": [
            "P(y=1 | 13.0) = 1.188\n",
            "P(y=2 | 13.0) = 0.026\n",
            "P(y=3 | 13.0) = 0.000\n",
            "P(y=4 | 13.0) = 0.000\n",
            "P(y=5 | 13.0) = nan\n",
            "P(y=6 | 13.0) = nan\n",
            "P(y=7 | 13.0) = 0.035\n",
            "P(y=8 | 13.0) = 0.000\n",
            "P(y=9 | 13.0) = 0.000\n",
            "P(y=10 | 13.0) = nan\n",
            "P(y=11 | 13.0) = 0.000\n",
            "P(y=12 | 13.0) = 0.033\n",
            "P(y=13 | 13.0) = 0.000\n",
            "P(y=14 | 13.0) = 0.000\n",
            "P(y=15 | 13.0) = 0.006\n",
            "P(y=16 | 13.0) = 0.000\n",
            "P(y=17 | 13.0) = 0.042\n",
            "P(y=18 | 13.0) = 0.000\n",
            "P(y=19 | 13.0) = 0.000\n",
            "P(y=20 | 13.0) = 0.013\n",
            "P(y=21 | 13.0) = nan\n",
            "P(y=22 | 13.0) = 0.020\n",
            "P(y=23 | 13.0) = 0.000\n",
            "P(y=24 | 13.0) = 0.000\n",
            "P(y=25 | 13.0) = 0.000\n",
            "P(y=26 | 13.0) = 0.000\n",
            "P(y=27 | 13.0) = 0.011\n",
            "P(y=28 | 13.0) = 0.000\n",
            "P(y=29 | 13.0) = nan\n",
            "P(y=30 | 13.0) = 0.000\n",
            "P(y=31 | 13.0) = 0.000\n",
            "P(y=32 | 13.0) = 0.002\n",
            "P(y=33 | 13.0) = 2.397\n",
            "P(y=34 | 13.0) = 0.000\n",
            "P(y=35 | 13.0) = 0.000\n",
            "P(y=36 | 13.0) = 0.000\n",
            "P(y=37 | 13.0) = 0.000\n",
            "P(y=38 | 13.0) = 1.221\n",
            "P(y=39 | 13.0) = 0.000\n",
            "P(y=40 | 13.0) = 0.000\n",
            "P(y=41 | 13.0) = 0.000\n",
            "P(y=42 | 13.0) = 0.000\n",
            "P(y=43 | 13.0) = 0.000\n",
            "P(y=44 | 13.0) = nan\n",
            "P(y=45 | 13.0) = 0.000\n",
            "P(y=46 | 13.0) = 0.000\n",
            "P(y=47 | 13.0) = 0.000\n",
            "P(y=48 | 13.0) = 0.000\n",
            "P(y=49 | 13.0) = nan\n",
            "P(y=50 | 13.0) = 0.000\n",
            "Truth: y=29\n"
          ],
          "name": "stdout"
        },
        {
          "output_type": "stream",
          "text": [
            "/usr/local/lib/python3.7/dist-packages/scipy/stats/_distn_infrastructure.py:1740: RuntimeWarning: divide by zero encountered in double_scalars\n",
            "  x = np.asarray((x - loc)/scale, dtype=dtyp)\n",
            "/usr/local/lib/python3.7/dist-packages/scipy/stats/_distn_infrastructure.py:1740: RuntimeWarning: invalid value encountered in double_scalars\n",
            "  x = np.asarray((x - loc)/scale, dtype=dtyp)\n"
          ],
          "name": "stderr"
        }
      ]
    },
    {
      "cell_type": "code",
      "metadata": {
        "colab": {
          "base_uri": "https://localhost:8080/"
        },
        "id": "QGqDjZXPYG19",
        "outputId": "940ce6d7-be33-454a-a16b-738e348d7078"
      },
      "source": [
        "# classify one example\n",
        "py = np.zeros((50,1))\n",
        "Xsample, ysample = X[2764], y[2764]\n",
        "\n",
        "for i in range(50):\n",
        "  py[i] = probability(Xsample, priory[i], distXy[i])\n",
        "\n",
        "for i in range(50):\n",
        "  print('P(y=%d | %s) = %.3f' % (i+1,Xsample, py[i]*100))\n",
        "\n",
        "print('Truth: y=%d' % ysample)"
      ],
      "execution_count": null,
      "outputs": [
        {
          "output_type": "stream",
          "text": [
            "P(y=1 | 15.0) = 0.007\n",
            "P(y=2 | 15.0) = 1.173\n",
            "P(y=3 | 15.0) = 0.001\n",
            "P(y=4 | 15.0) = 0.000\n",
            "P(y=5 | 15.0) = nan\n",
            "P(y=6 | 15.0) = nan\n",
            "P(y=7 | 15.0) = 1.121\n",
            "P(y=8 | 15.0) = 0.001\n",
            "P(y=9 | 15.0) = 0.000\n",
            "P(y=10 | 15.0) = nan\n",
            "P(y=11 | 15.0) = 0.000\n",
            "P(y=12 | 15.0) = 1.103\n",
            "P(y=13 | 15.0) = 0.000\n",
            "P(y=14 | 15.0) = 0.000\n",
            "P(y=15 | 15.0) = 1.224\n",
            "P(y=16 | 15.0) = 0.000\n",
            "P(y=17 | 15.0) = 1.050\n",
            "P(y=18 | 15.0) = 0.000\n",
            "P(y=19 | 15.0) = 0.000\n",
            "P(y=20 | 15.0) = 1.217\n",
            "P(y=21 | 15.0) = nan\n",
            "P(y=22 | 15.0) = 1.210\n",
            "P(y=23 | 15.0) = 0.000\n",
            "P(y=24 | 15.0) = 0.000\n",
            "P(y=25 | 15.0) = 5.045\n",
            "P(y=26 | 15.0) = 0.000\n",
            "P(y=27 | 15.0) = 1.146\n",
            "P(y=28 | 15.0) = 0.000\n",
            "P(y=29 | 15.0) = nan\n",
            "P(y=30 | 15.0) = 3.759\n",
            "P(y=31 | 15.0) = 0.000\n",
            "P(y=32 | 15.0) = 0.835\n",
            "P(y=33 | 15.0) = 0.000\n",
            "P(y=34 | 15.0) = 0.000\n",
            "P(y=35 | 15.0) = 7.979\n",
            "P(y=36 | 15.0) = 0.000\n",
            "P(y=37 | 15.0) = 0.369\n",
            "P(y=38 | 15.0) = 0.000\n",
            "P(y=39 | 15.0) = 0.000\n",
            "P(y=40 | 15.0) = 3.254\n",
            "P(y=41 | 15.0) = 0.000\n",
            "P(y=42 | 15.0) = 0.044\n",
            "P(y=43 | 15.0) = 0.000\n",
            "P(y=44 | 15.0) = nan\n",
            "P(y=45 | 15.0) = 2.120\n",
            "P(y=46 | 15.0) = 0.000\n",
            "P(y=47 | 15.0) = 0.001\n",
            "P(y=48 | 15.0) = 0.000\n",
            "P(y=49 | 15.0) = nan\n",
            "P(y=50 | 15.0) = 1.861\n",
            "Truth: y=22\n"
          ],
          "name": "stdout"
        },
        {
          "output_type": "stream",
          "text": [
            "/usr/local/lib/python3.7/dist-packages/scipy/stats/_distn_infrastructure.py:1740: RuntimeWarning: invalid value encountered in double_scalars\n",
            "  x = np.asarray((x - loc)/scale, dtype=dtyp)\n",
            "/usr/local/lib/python3.7/dist-packages/scipy/stats/_distn_infrastructure.py:1740: RuntimeWarning: divide by zero encountered in double_scalars\n",
            "  x = np.asarray((x - loc)/scale, dtype=dtyp)\n"
          ],
          "name": "stderr"
        }
      ]
    },
    {
      "cell_type": "code",
      "metadata": {
        "colab": {
          "base_uri": "https://localhost:8080/"
        },
        "id": "3DazfdM3ZDIL",
        "outputId": "60f77d02-3985-47e5-c349-b8a015323901"
      },
      "source": [
        "# classify one example\n",
        "py = np.zeros((50,1))\n",
        "Xsample, ysample = X[764], y[764]\n",
        "\n",
        "for i in range(50):\n",
        "  py[i] = probability(Xsample, priory[i], distXy[i])\n",
        "\n",
        "for i in range(50):\n",
        "  print('P(y=%d | %s) = %.3f' % (i+1,Xsample, py[i]*100))\n",
        "\n",
        "print('Truth: y=%d' % ysample)"
      ],
      "execution_count": null,
      "outputs": [
        {
          "output_type": "stream",
          "text": [
            "P(y=1 | 16.0) = 0.000\n",
            "P(y=2 | 16.0) = 0.152\n",
            "P(y=3 | 16.0) = 3.399\n",
            "P(y=4 | 16.0) = 0.000\n",
            "P(y=5 | 16.0) = nan\n",
            "P(y=6 | 16.0) = nan\n",
            "P(y=7 | 16.0) = 0.151\n",
            "P(y=8 | 16.0) = 0.491\n",
            "P(y=9 | 16.0) = 0.000\n",
            "P(y=10 | 16.0) = nan\n",
            "P(y=11 | 16.0) = 0.000\n",
            "P(y=12 | 16.0) = 0.101\n",
            "P(y=13 | 16.0) = 0.021\n",
            "P(y=14 | 16.0) = 0.000\n",
            "P(y=15 | 16.0) = 0.471\n",
            "P(y=16 | 16.0) = 0.000\n",
            "P(y=17 | 16.0) = 0.092\n",
            "P(y=18 | 16.0) = 0.000\n",
            "P(y=19 | 16.0) = 0.000\n",
            "P(y=20 | 16.0) = 0.354\n",
            "P(y=21 | 16.0) = nan\n",
            "P(y=22 | 16.0) = 0.166\n",
            "P(y=23 | 16.0) = 0.000\n",
            "P(y=24 | 16.0) = 0.000\n",
            "P(y=25 | 16.0) = 0.000\n",
            "P(y=26 | 16.0) = 0.009\n",
            "P(y=27 | 16.0) = 0.498\n",
            "P(y=28 | 16.0) = 0.000\n",
            "P(y=29 | 16.0) = nan\n",
            "P(y=30 | 16.0) = 0.000\n",
            "P(y=31 | 16.0) = 0.000\n",
            "P(y=32 | 16.0) = 0.923\n",
            "P(y=33 | 16.0) = 0.000\n",
            "P(y=34 | 16.0) = 0.000\n",
            "P(y=35 | 16.0) = 0.000\n",
            "P(y=36 | 16.0) = 0.000\n",
            "P(y=37 | 16.0) = 1.203\n",
            "P(y=38 | 16.0) = 0.000\n",
            "P(y=39 | 16.0) = 0.000\n",
            "P(y=40 | 16.0) = 0.000\n",
            "P(y=41 | 16.0) = 0.000\n",
            "P(y=42 | 16.0) = 0.548\n",
            "P(y=43 | 16.0) = 0.000\n",
            "P(y=44 | 16.0) = nan\n",
            "P(y=45 | 16.0) = 0.010\n",
            "P(y=46 | 16.0) = 0.000\n",
            "P(y=47 | 16.0) = 0.033\n",
            "P(y=48 | 16.0) = 0.000\n",
            "P(y=49 | 16.0) = nan\n",
            "P(y=50 | 16.0) = 0.019\n",
            "Truth: y=27\n"
          ],
          "name": "stdout"
        },
        {
          "output_type": "stream",
          "text": [
            "/usr/local/lib/python3.7/dist-packages/scipy/stats/_distn_infrastructure.py:1740: RuntimeWarning: divide by zero encountered in double_scalars\n",
            "  x = np.asarray((x - loc)/scale, dtype=dtyp)\n"
          ],
          "name": "stderr"
        }
      ]
    },
    {
      "cell_type": "code",
      "metadata": {
        "id": "HyswXnHNbhc6"
      },
      "source": [
        "from random import randint\n",
        "value = randint(0,10000)"
      ],
      "execution_count": null,
      "outputs": []
    },
    {
      "cell_type": "code",
      "metadata": {
        "id": "NFMybrSGaM3z",
        "colab": {
          "base_uri": "https://localhost:8080/"
        },
        "outputId": "c3fe451d-b6c6-4df6-e517-414c85854d74"
      },
      "source": [
        "# classify one example\n",
        "count = 0\n",
        "for j in range(10000):\n",
        "  py = {}\n",
        "  Xsample, ysample = X[j], y[j]\n",
        "  for i in range(50):\n",
        "    py[i] = probability(Xsample, priory[i], distXy[i])\n",
        "\n",
        "  #for i in range(50):\n",
        "    #print('P(y=%d | %s) = %.3f' % (i+1,Xsample, py[i]*100))\n",
        "\n",
        "  a = np.array(sorted(py, key=py.get, reverse=True)[:5])+1\n",
        "\n",
        "  for k in range(5):\n",
        "    if(ysample==a[k]):\n",
        "      count+=1"
      ],
      "execution_count": null,
      "outputs": [
        {
          "output_type": "stream",
          "text": [
            "/usr/local/lib/python3.7/dist-packages/scipy/stats/_distn_infrastructure.py:1740: RuntimeWarning: divide by zero encountered in double_scalars\n",
            "  x = np.asarray((x - loc)/scale, dtype=dtyp)\n",
            "/usr/local/lib/python3.7/dist-packages/scipy/stats/_distn_infrastructure.py:1740: RuntimeWarning: invalid value encountered in double_scalars\n",
            "  x = np.asarray((x - loc)/scale, dtype=dtyp)\n"
          ],
          "name": "stderr"
        }
      ]
    },
    {
      "cell_type": "code",
      "metadata": {
        "colab": {
          "base_uri": "https://localhost:8080/"
        },
        "id": "Ex9JiQ49cx46",
        "outputId": "f5b550fd-d09d-4f19-f4fb-75fc763a0239"
      },
      "source": [
        "count/10000 *100"
      ],
      "execution_count": null,
      "outputs": [
        {
          "output_type": "execute_result",
          "data": {
            "text/plain": [
              "30.659999999999997"
            ]
          },
          "metadata": {
            "tags": []
          },
          "execution_count": 39
        }
      ]
    },
    {
      "cell_type": "code",
      "metadata": {
        "id": "v61Xdv2EoKwl"
      },
      "source": [
        ""
      ],
      "execution_count": null,
      "outputs": []
    }
  ]
}