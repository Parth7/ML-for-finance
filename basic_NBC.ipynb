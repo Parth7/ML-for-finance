{
  "nbformat": 4,
  "nbformat_minor": 0,
  "metadata": {
    "colab": {
      "name": "basic NBC.ipynb",
      "provenance": [],
      "authorship_tag": "ABX9TyN9yYMf6MrxriPuyAjiseyV",
      "include_colab_link": true
    },
    "kernelspec": {
      "name": "python3",
      "display_name": "Python 3"
    },
    "language_info": {
      "name": "python"
    }
  },
  "cells": [
    {
      "cell_type": "markdown",
      "metadata": {
        "id": "view-in-github",
        "colab_type": "text"
      },
      "source": [
        "<a href=\"https://colab.research.google.com/github/Parth7/ML-for-finance/blob/main/basic_NBC.ipynb\" target=\"_parent\"><img src=\"https://colab.research.google.com/assets/colab-badge.svg\" alt=\"Open In Colab\"/></a>"
      ]
    },
    {
      "cell_type": "code",
      "metadata": {
        "colab": {
          "base_uri": "https://localhost:8080/"
        },
        "id": "zbXXNba3SFkA",
        "outputId": "b17109bd-81a1-424e-9090-b931b33abb6b"
      },
      "source": [
        "from sklearn.datasets import make_blobs\n",
        "# generate 2d classification dataset\n",
        "X, y = make_blobs(n_samples=100, centers=2, n_features=2, random_state=1)\n",
        "# summarize\n",
        "print(X.shape, y.shape)\n",
        "print(X[:5])\n",
        "print(y[:5])"
      ],
      "execution_count": 1,
      "outputs": [
        {
          "output_type": "stream",
          "text": [
            "(100, 2) (100,)\n",
            "[[-0.79415228  2.10495117]\n",
            " [-9.15155186 -4.81286449]\n",
            " [-3.10367371  3.90202401]\n",
            " [-1.42946517  5.16850105]\n",
            " [-7.4693868  -4.20198333]]\n",
            "[0 1 0 0 1]\n"
          ],
          "name": "stdout"
        }
      ]
    },
    {
      "cell_type": "code",
      "metadata": {
        "id": "PNhc7kdqSJcb"
      },
      "source": [
        "import numpy as np\n",
        "from scipy.stats import norm\n",
        "def fit_distribution(data):\n",
        "\t# estimate parameters\n",
        "\tmu = np.mean(data)\n",
        "\tsigma = np.std(data)\n",
        "\tprint(mu, sigma)\n",
        "\t# fit distribution\n",
        "\tdist = norm(mu, sigma)\n",
        "\treturn dist"
      ],
      "execution_count": 12,
      "outputs": []
    },
    {
      "cell_type": "code",
      "metadata": {
        "colab": {
          "base_uri": "https://localhost:8080/"
        },
        "id": "6B3e0XDkSRHl",
        "outputId": "b4c8e5ec-a20a-4f2d-ea52-ca632451473f"
      },
      "source": [
        "Xy0 = X[y == 0]\n",
        "Xy1 = X[y == 1]\n",
        "print(Xy0.shape, Xy1.shape)"
      ],
      "execution_count": 7,
      "outputs": [
        {
          "output_type": "stream",
          "text": [
            "(50, 2) (50, 2)\n"
          ],
          "name": "stdout"
        }
      ]
    },
    {
      "cell_type": "code",
      "metadata": {
        "colab": {
          "base_uri": "https://localhost:8080/"
        },
        "id": "kXlSmkl_ST9j",
        "outputId": "bdba4e21-d248-44dc-b4f3-a406311352a5"
      },
      "source": [
        "# calculate priors\n",
        "priory0 = len(Xy0) / len(X)\n",
        "priory1 = len(Xy1) / len(X)\n",
        "print(priory0, priory1)"
      ],
      "execution_count": 8,
      "outputs": [
        {
          "output_type": "stream",
          "text": [
            "0.5 0.5\n"
          ],
          "name": "stdout"
        }
      ]
    },
    {
      "cell_type": "code",
      "metadata": {
        "colab": {
          "base_uri": "https://localhost:8080/"
        },
        "id": "Y3j9KU3TSWs3",
        "outputId": "4acc17bd-15f3-44ad-918b-b30ad62bf1e8"
      },
      "source": [
        "X1y0 = fit_distribution(Xy0[:,0])\n",
        "X2y0 = fit_distribution(Xy0[:,1])\n",
        "# create PDFs for y==1\n",
        "X1y1 = fit_distribution(Xy1[:, 0])\n",
        "X2y1 = fit_distribution(Xy1[:, 1])"
      ],
      "execution_count": 13,
      "outputs": [
        {
          "output_type": "stream",
          "text": [
            "-1.5632888906409914 0.787444265443213\n",
            "4.426680361487157 0.958296071258367\n",
            "-9.681177100524485 0.8943078901048118\n",
            "-3.9713794295185845 0.9308177595208521\n"
          ],
          "name": "stdout"
        }
      ]
    },
    {
      "cell_type": "code",
      "metadata": {
        "id": "az321xytTy1B"
      },
      "source": [
        "def probability(X, prior, dist1, dist2):\n",
        "\treturn prior * dist1.pdf(X[0]) * dist2.pdf(X[1])"
      ],
      "execution_count": 14,
      "outputs": []
    },
    {
      "cell_type": "code",
      "metadata": {
        "colab": {
          "base_uri": "https://localhost:8080/"
        },
        "id": "CGxoSlihTHlL",
        "outputId": "3368cccb-e47b-4b0c-b9c8-6207a0825fee"
      },
      "source": [
        "distX1y0 = fit_distribution(Xy0[:, 0])\n",
        "distX2y0 = fit_distribution(Xy0[:, 1])\n",
        "# create PDFs for y==1\n",
        "distX1y1 = fit_distribution(Xy1[:, 0])\n",
        "distX2y1 = fit_distribution(Xy1[:, 1])\n",
        "# classify one example\n",
        "Xsample, ysample = X[0], y[0]\n",
        "py0 = probability(Xsample, priory0, distX1y0, distX2y0)\n",
        "py1 = probability(Xsample, priory1, distX1y1, distX2y1)\n",
        "print('P(y=0 | %s) = %.3f' % (Xsample, py0*100))\n",
        "print('P(y=1 | %s) = %.3f' % (Xsample, py1*100))\n",
        "print('Truth: y=%d' % ysample)"
      ],
      "execution_count": 16,
      "outputs": [
        {
          "output_type": "stream",
          "text": [
            "-1.5632888906409914 0.787444265443213\n",
            "4.426680361487157 0.958296071258367\n",
            "-9.681177100524485 0.8943078901048118\n",
            "-3.9713794295185845 0.9308177595208521\n",
            "P(y=0 | [-0.79415228  2.10495117]) = 0.348\n",
            "P(y=1 | [-0.79415228  2.10495117]) = 0.000\n",
            "Truth: y=0\n"
          ],
          "name": "stdout"
        }
      ]
    },
    {
      "cell_type": "code",
      "metadata": {
        "id": "ukKpN9m9T5Ql"
      },
      "source": [
        ""
      ],
      "execution_count": null,
      "outputs": []
    }
  ]
}