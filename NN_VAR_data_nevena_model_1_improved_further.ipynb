{
  "nbformat": 4,
  "nbformat_minor": 0,
  "metadata": {
    "colab": {
      "name": "NN VAR data - nevena model 1 improved further.ipynb",
      "provenance": [],
      "collapsed_sections": [],
      "authorship_tag": "ABX9TyOsGN9bsq2h6YEN7vPbjRMu",
      "include_colab_link": true
    },
    "kernelspec": {
      "name": "python3",
      "display_name": "Python 3"
    },
    "language_info": {
      "name": "python"
    },
    "accelerator": "GPU"
  },
  "cells": [
    {
      "cell_type": "markdown",
      "metadata": {
        "id": "view-in-github",
        "colab_type": "text"
      },
      "source": [
        "<a href=\"https://colab.research.google.com/github/Parth7/ML-for-finance/blob/main/NN_VAR_data_nevena_model_1_improved_further.ipynb\" target=\"_parent\"><img src=\"https://colab.research.google.com/assets/colab-badge.svg\" alt=\"Open In Colab\"/></a>"
      ]
    },
    {
      "cell_type": "code",
      "metadata": {
        "id": "KYcxZyPVViqM",
        "colab": {
          "base_uri": "https://localhost:8080/"
        },
        "outputId": "78482dbb-9ab2-4d84-a918-4bf4b39f67e1"
      },
      "source": [
        "# TensorFlow and tf.keras\n",
        "import tensorflow as tf\n",
        "from tensorflow import keras\n",
        "from tensorflow.keras.layers import Conv2D, MaxPooling2D, Dropout, Flatten, Dense\n",
        "\n",
        "# Commonly used modules\n",
        "import numpy as np\n",
        "import os\n",
        "import sys\n",
        "\n",
        "# Images, plots, display, and visualization\n",
        "import matplotlib.pyplot as plt\n",
        "import pandas as pd\n",
        "import seaborn as sns\n",
        "import cv2\n",
        "import IPython\n",
        "from six.moves import urllib\n",
        "import random\n",
        "print(tf.__version__)"
      ],
      "execution_count": 1,
      "outputs": [
        {
          "output_type": "stream",
          "text": [
            "2.5.0\n"
          ],
          "name": "stdout"
        }
      ]
    },
    {
      "cell_type": "code",
      "metadata": {
        "id": "iZAX4jkkxYVi",
        "colab": {
          "resources": {
            "http://localhost:8080/nbextensions/google.colab/files.js": {
              "data": "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",
              "ok": true,
              "headers": [
                [
                  "content-type",
                  "application/javascript"
                ]
              ],
              "status": 200,
              "status_text": ""
            }
          },
          "base_uri": "https://localhost:8080/",
          "height": 72
        },
        "outputId": "0ef4ac00-985c-49b5-99ce-3934d7347430"
      },
      "source": [
        "from google.colab import files\n",
        "uploaded = files.upload()"
      ],
      "execution_count": 2,
      "outputs": [
        {
          "output_type": "display_data",
          "data": {
            "text/html": [
              "\n",
              "     <input type=\"file\" id=\"files-19687699-7b1f-49fb-bfe9-3f61fae772e9\" name=\"files[]\" multiple disabled\n",
              "        style=\"border:none\" />\n",
              "     <output id=\"result-19687699-7b1f-49fb-bfe9-3f61fae772e9\">\n",
              "      Upload widget is only available when the cell has been executed in the\n",
              "      current browser session. Please rerun this cell to enable.\n",
              "      </output>\n",
              "      <script src=\"/nbextensions/google.colab/files.js\"></script> "
            ],
            "text/plain": [
              "<IPython.core.display.HTML object>"
            ]
          },
          "metadata": {
            "tags": []
          }
        },
        {
          "output_type": "stream",
          "text": [
            "Saving cummulative_data.xls to cummulative_data.xls\n"
          ],
          "name": "stdout"
        }
      ]
    },
    {
      "cell_type": "code",
      "metadata": {
        "id": "sM30XWmPVjk_"
      },
      "source": [
        "file = pd.read_excel('cummulative_data.xls') \n",
        "# Data for three-dimensional scattered points\n",
        "\n",
        "\n",
        "#(train_features, train_labels), (test_features, test_labels) = keras.datasets.boston_housing.load_data()\n",
        "\n",
        "# get per-feature statistics (mean, standard deviation) from the training set to normalize by\n",
        "#train_mean = np.mean(train_features, axis=0)\n",
        "#train_std = np.std(train_features, axis=0)\n",
        "#train_features = (train_features - train_mean) / train_std"
      ],
      "execution_count": 3,
      "outputs": []
    },
    {
      "cell_type": "code",
      "metadata": {
        "id": "sfBOtckgPEPM"
      },
      "source": [
        "file = file.to_numpy()"
      ],
      "execution_count": 4,
      "outputs": []
    },
    {
      "cell_type": "code",
      "metadata": {
        "colab": {
          "base_uri": "https://localhost:8080/"
        },
        "id": "wU7eKk-KQC-K",
        "outputId": "896180b0-789c-4969-eb73-461c962e57c9"
      },
      "source": [
        "file[:10]"
      ],
      "execution_count": 5,
      "outputs": [
        {
          "output_type": "execute_result",
          "data": {
            "text/plain": [
              "array([[ 13.992114  ,  13.99      ,  -8.85993485,  25.        ,\n",
              "         10.        ],\n",
              "       [ 13.930585  ,  13.93      ,  -9.25081433,  25.        ,\n",
              "         10.        ],\n",
              "       [ 13.809978  ,  13.81      , -10.03257329,  25.        ,\n",
              "         10.        ],\n",
              "       [ 13.911977  ,  13.91      ,  -9.38110749,  25.        ,\n",
              "         10.        ],\n",
              "       [ 13.810281  ,  13.81      , -10.03257329,  25.        ,\n",
              "         10.        ],\n",
              "       [ 13.961872  ,  13.96      ,  -9.05537459,  25.        ,\n",
              "         10.        ],\n",
              "       [ 14.06189   ,  14.06      ,  -8.40390879,  25.        ,\n",
              "         10.        ],\n",
              "       [ 13.994377  ,  13.99      ,  -8.85993485,  25.        ,\n",
              "         10.        ],\n",
              "       [ 13.922221  ,  13.92      ,  -9.31596091,  25.        ,\n",
              "         10.        ],\n",
              "       [ 13.952919  ,  13.95      ,  -9.12052117,  25.        ,\n",
              "         10.        ]])"
            ]
          },
          "metadata": {
            "tags": []
          },
          "execution_count": 5
        }
      ]
    },
    {
      "cell_type": "code",
      "metadata": {
        "id": "_p8zMOnaPq3e"
      },
      "source": [
        "np.random.shuffle(file) "
      ],
      "execution_count": 6,
      "outputs": []
    },
    {
      "cell_type": "code",
      "metadata": {
        "colab": {
          "base_uri": "https://localhost:8080/"
        },
        "id": "VaE-gjzsLpFE",
        "outputId": "7e9c63e7-5792-457d-8382-5b334c57f60f"
      },
      "source": [
        "file[:10]"
      ],
      "execution_count": 7,
      "outputs": [
        {
          "output_type": "execute_result",
          "data": {
            "text/plain": [
              "array([[ 16.29099294,  16.29      ,   6.1237785 ,  75.        ,\n",
              "         10.        ],\n",
              "       [ 15.47607   ,  15.48      ,   0.84690554, 125.        ,\n",
              "         10.        ],\n",
              "       [ 11.62468154,  11.62      , -24.29967427,  75.        ,\n",
              "        -50.        ],\n",
              "       [ 17.245293  ,  17.25      ,  12.37785016,  50.        ,\n",
              "        -30.        ],\n",
              "       [ 24.44753504,  24.45      ,  59.28338762, 100.        ,\n",
              "         30.        ],\n",
              "       [ 19.8547508 ,  19.85      ,  29.31596091,  75.        ,\n",
              "         50.        ],\n",
              "       [ 15.473048  ,  15.47      ,   0.78175896,  50.        ,\n",
              "         40.        ],\n",
              "       [ 13.00644761,  13.01      , -15.24429967,  75.        ,\n",
              "        -30.        ],\n",
              "       [ 16.199056  ,  16.2       ,   5.53745928,  50.        ,\n",
              "        -30.        ],\n",
              "       [ 11.97796   ,  11.98      , -21.95439739,  25.        ,\n",
              "         30.        ]])"
            ]
          },
          "metadata": {
            "tags": []
          },
          "execution_count": 7
        }
      ]
    },
    {
      "cell_type": "code",
      "metadata": {
        "colab": {
          "base_uri": "https://localhost:8080/"
        },
        "id": "hwipTtZCTbK5",
        "outputId": "26f2e376-e570-4a9e-cdbe-330a3f6c2620"
      },
      "source": [
        "file[:,0]"
      ],
      "execution_count": 8,
      "outputs": [
        {
          "output_type": "execute_result",
          "data": {
            "text/plain": [
              "array([16.29099294, 15.47607   , 11.62468154, ...,  7.43093056,\n",
              "       17.31633538, 15.55338   ])"
            ]
          },
          "metadata": {
            "tags": []
          },
          "execution_count": 8
        }
      ]
    },
    {
      "cell_type": "code",
      "metadata": {
        "id": "t-Spe9MPLkje"
      },
      "source": [
        "zdata = file[:,0]\n",
        "xdata = file[:,1]\n",
        "ydata = file[:,2]\n",
        "\n",
        "data = np.array([xdata,ydata])\n",
        "zd = np.array([zdata])"
      ],
      "execution_count": 52,
      "outputs": []
    },
    {
      "cell_type": "code",
      "metadata": {
        "id": "CiCl9X6DrXpm"
      },
      "source": [
        "#data = (data*2)/100\n",
        "#zd = (zd-zd.min())/(zd.max())"
      ],
      "execution_count": 53,
      "outputs": []
    },
    {
      "cell_type": "code",
      "metadata": {
        "id": "w9qNUrOnwRKP"
      },
      "source": [
        "test_set_size = int(np.round(0.2*data.shape[1]));\n",
        "train_set_size = data.shape[1] - (test_set_size);"
      ],
      "execution_count": 54,
      "outputs": []
    },
    {
      "cell_type": "code",
      "metadata": {
        "id": "nABObTTbxfnp"
      },
      "source": [
        "x_train = data[:,:train_set_size]\n",
        "y_train = zd[:,:train_set_size]\n",
        "\n",
        "x_test = data[:,train_set_size:]\n",
        "y_test = zd[:,train_set_size:]"
      ],
      "execution_count": 55,
      "outputs": []
    },
    {
      "cell_type": "code",
      "metadata": {
        "colab": {
          "base_uri": "https://localhost:8080/"
        },
        "id": "hdFdGj4T5Ggs",
        "outputId": "667ff44c-ef01-433c-efe4-1482896e2688"
      },
      "source": [
        "x_train[:15]"
      ],
      "execution_count": 56,
      "outputs": [
        {
          "output_type": "execute_result",
          "data": {
            "text/plain": [
              "array([[ 16.29      ,  15.48      ,  11.62      , ...,  24.23      ,\n",
              "         17.31      ,  14.82      ],\n",
              "       [  6.1237785 ,   0.84690554, -24.29967427, ...,  57.85016287,\n",
              "         12.76872964,  -3.45276873]])"
            ]
          },
          "metadata": {
            "tags": []
          },
          "execution_count": 56
        }
      ]
    },
    {
      "cell_type": "code",
      "metadata": {
        "id": "3EXeC9GxAEOa"
      },
      "source": [
        "train_features = x_train"
      ],
      "execution_count": 57,
      "outputs": []
    },
    {
      "cell_type": "code",
      "metadata": {
        "colab": {
          "base_uri": "https://localhost:8080/"
        },
        "id": "sIkArTIxynLd",
        "outputId": "be58a1f7-d895-4c1d-9885-8be90ff94a8b"
      },
      "source": [
        "y_train.T.shape"
      ],
      "execution_count": 58,
      "outputs": [
        {
          "output_type": "execute_result",
          "data": {
            "text/plain": [
              "(8000, 1)"
            ]
          },
          "metadata": {
            "tags": []
          },
          "execution_count": 58
        }
      ]
    },
    {
      "cell_type": "code",
      "metadata": {
        "colab": {
          "base_uri": "https://localhost:8080/"
        },
        "id": "A5KMkMoGyrPq",
        "outputId": "e25607c7-9875-4f3b-b397-83ba50a9a878"
      },
      "source": [
        "x_train.T.shape"
      ],
      "execution_count": 59,
      "outputs": [
        {
          "output_type": "execute_result",
          "data": {
            "text/plain": [
              "(8000, 2)"
            ]
          },
          "metadata": {
            "tags": []
          },
          "execution_count": 59
        }
      ]
    },
    {
      "cell_type": "code",
      "metadata": {
        "id": "odG9_amzruZ0"
      },
      "source": [
        "x_train = x_train.T\n",
        "y_train = y_train.T\n",
        "x_test = x_test.T\n",
        "y_test = y_test.T"
      ],
      "execution_count": 60,
      "outputs": []
    },
    {
      "cell_type": "code",
      "metadata": {
        "id": "nRXCWHuJywfH"
      },
      "source": [
        "#Define training hyperprameters.\n",
        "batch_size = 50\n",
        "num_epochs = 200\n",
        "learning_rate = 0.01\n",
        "size_hidden= 20\n",
        "\n",
        "#Calculate some other hyperparameters based on data.  \n",
        "batch_no = len(x_train) // batch_size  #batches\n",
        "cols=x_train.shape[1] #Number of columns in input matrix\n",
        "n_output=1"
      ],
      "execution_count": 61,
      "outputs": []
    },
    {
      "cell_type": "code",
      "metadata": {
        "id": "f9vvFrK2sr_G"
      },
      "source": [
        "import torch\n",
        "import torch.nn as nn\n",
        "import torch.nn.functional as F"
      ],
      "execution_count": 62,
      "outputs": []
    },
    {
      "cell_type": "code",
      "metadata": {
        "colab": {
          "base_uri": "https://localhost:8080/"
        },
        "id": "eQqalT0mk4yv",
        "outputId": "82b03d2d-f851-4a69-c6f0-eae80e2400ed"
      },
      "source": [
        "import tensorflow as tf\n",
        "from tensorflow import keras\n",
        "from keras import Sequential\n",
        "from keras.layers import Dense\n",
        "from keras.layers import Dropout\n",
        "from keras.wrappers.scikit_learn import KerasClassifier\n",
        "from keras.constraints import maxnorm\n",
        "from keras.optimizers import Adam\n",
        "\n",
        "#build our model\n",
        "model = Sequential()\n",
        "model.add(Dense(50,input_dim=x_train.shape[1],kernel_initializer='normal', activation='relu'))\n",
        "model.add(Dense(100,kernel_initializer='normal', activation='relu'))\n",
        "model.add(Dropout(0.05))\n",
        "model.add(Dense(50,kernel_initializer='normal', activation='relu'))\n",
        "model.add(Dense(1,activation='linear'))\n",
        "# Compile model\n",
        "optimizer = Adam(learning_rate=0.01, beta_1=0.9, beta_2=0.999, epsilon=1e-08, decay=0.0)\n",
        "#optimizer = SGD(learning_rate=0.01, momentum=0)\n",
        "model.compile(loss='mean_squared_error', optimizer='Adam')\n",
        "\n",
        "# Train the model\n",
        "model.fit(\n",
        "    x_train,\n",
        "    y_train,\n",
        "    epochs=50,\n",
        "    batch_size = 10,\n",
        "    shuffle=True,\n",
        "    verbose=1\n",
        ")"
      ],
      "execution_count": 119,
      "outputs": [
        {
          "output_type": "stream",
          "text": [
            "Epoch 1/50\n",
            "800/800 [==============================] - 2s 2ms/step - loss: 35.2442\n",
            "Epoch 2/50\n",
            "800/800 [==============================] - 1s 2ms/step - loss: 0.4306\n",
            "Epoch 3/50\n",
            "800/800 [==============================] - 1s 2ms/step - loss: 0.3256\n",
            "Epoch 4/50\n",
            "800/800 [==============================] - 1s 2ms/step - loss: 0.3494\n",
            "Epoch 5/50\n",
            "800/800 [==============================] - 1s 2ms/step - loss: 0.2839\n",
            "Epoch 6/50\n",
            "800/800 [==============================] - 1s 2ms/step - loss: 0.2569\n",
            "Epoch 7/50\n",
            "800/800 [==============================] - 1s 2ms/step - loss: 0.2892\n",
            "Epoch 8/50\n",
            "800/800 [==============================] - 1s 2ms/step - loss: 0.2338\n",
            "Epoch 9/50\n",
            "800/800 [==============================] - 1s 2ms/step - loss: 0.2401\n",
            "Epoch 10/50\n",
            "800/800 [==============================] - 1s 2ms/step - loss: 0.2104\n",
            "Epoch 11/50\n",
            "800/800 [==============================] - 1s 2ms/step - loss: 0.1855\n",
            "Epoch 12/50\n",
            "800/800 [==============================] - 1s 2ms/step - loss: 0.1633\n",
            "Epoch 13/50\n",
            "800/800 [==============================] - 1s 2ms/step - loss: 0.1478\n",
            "Epoch 14/50\n",
            "800/800 [==============================] - 1s 2ms/step - loss: 0.1155\n",
            "Epoch 15/50\n",
            "800/800 [==============================] - 1s 2ms/step - loss: 0.1010\n",
            "Epoch 16/50\n",
            "800/800 [==============================] - 1s 2ms/step - loss: 0.0665\n",
            "Epoch 17/50\n",
            "800/800 [==============================] - 1s 2ms/step - loss: 0.0639\n",
            "Epoch 18/50\n",
            "800/800 [==============================] - 1s 2ms/step - loss: 0.0567\n",
            "Epoch 19/50\n",
            "800/800 [==============================] - 1s 2ms/step - loss: 0.0808\n",
            "Epoch 20/50\n",
            "800/800 [==============================] - 1s 2ms/step - loss: 0.0507\n",
            "Epoch 21/50\n",
            "800/800 [==============================] - 1s 2ms/step - loss: 0.0469\n",
            "Epoch 22/50\n",
            "800/800 [==============================] - 1s 2ms/step - loss: 0.0527\n",
            "Epoch 23/50\n",
            "800/800 [==============================] - 1s 2ms/step - loss: 0.0725\n",
            "Epoch 24/50\n",
            "800/800 [==============================] - 1s 2ms/step - loss: 0.0474\n",
            "Epoch 25/50\n",
            "800/800 [==============================] - 1s 2ms/step - loss: 0.0493\n",
            "Epoch 26/50\n",
            "800/800 [==============================] - 1s 2ms/step - loss: 0.0398\n",
            "Epoch 27/50\n",
            "800/800 [==============================] - 1s 2ms/step - loss: 0.0378\n",
            "Epoch 28/50\n",
            "800/800 [==============================] - 1s 2ms/step - loss: 0.0586\n",
            "Epoch 29/50\n",
            "800/800 [==============================] - 1s 2ms/step - loss: 0.0294\n",
            "Epoch 30/50\n",
            "800/800 [==============================] - 1s 2ms/step - loss: 0.0220\n",
            "Epoch 31/50\n",
            "800/800 [==============================] - 1s 2ms/step - loss: 0.0240\n",
            "Epoch 32/50\n",
            "800/800 [==============================] - 1s 2ms/step - loss: 0.0532\n",
            "Epoch 33/50\n",
            "800/800 [==============================] - 1s 2ms/step - loss: 0.0261\n",
            "Epoch 34/50\n",
            "800/800 [==============================] - 1s 2ms/step - loss: 0.0241\n",
            "Epoch 35/50\n",
            "800/800 [==============================] - 1s 2ms/step - loss: 0.0249\n",
            "Epoch 36/50\n",
            "800/800 [==============================] - 1s 2ms/step - loss: 0.0333\n",
            "Epoch 37/50\n",
            "800/800 [==============================] - 1s 2ms/step - loss: 0.0392\n",
            "Epoch 38/50\n",
            "800/800 [==============================] - 1s 2ms/step - loss: 0.0220\n",
            "Epoch 39/50\n",
            "800/800 [==============================] - 1s 2ms/step - loss: 0.0264\n",
            "Epoch 40/50\n",
            "800/800 [==============================] - 1s 2ms/step - loss: 0.0322\n",
            "Epoch 41/50\n",
            "800/800 [==============================] - 1s 2ms/step - loss: 0.0349\n",
            "Epoch 42/50\n",
            "800/800 [==============================] - 1s 2ms/step - loss: 0.0312\n",
            "Epoch 43/50\n",
            "800/800 [==============================] - 1s 2ms/step - loss: 0.0401\n",
            "Epoch 44/50\n",
            "800/800 [==============================] - 1s 2ms/step - loss: 0.1440\n",
            "Epoch 45/50\n",
            "800/800 [==============================] - 1s 2ms/step - loss: 0.0480\n",
            "Epoch 46/50\n",
            "800/800 [==============================] - 1s 2ms/step - loss: 0.0487\n",
            "Epoch 47/50\n",
            "800/800 [==============================] - 1s 2ms/step - loss: 0.0265\n",
            "Epoch 48/50\n",
            "800/800 [==============================] - 1s 2ms/step - loss: 0.0341\n",
            "Epoch 49/50\n",
            "800/800 [==============================] - 1s 2ms/step - loss: 0.0489\n",
            "Epoch 50/50\n",
            "800/800 [==============================] - 1s 2ms/step - loss: 0.0379\n"
          ],
          "name": "stdout"
        },
        {
          "output_type": "execute_result",
          "data": {
            "text/plain": [
              "<keras.callbacks.History at 0x7f129a464090>"
            ]
          },
          "metadata": {
            "tags": []
          },
          "execution_count": 119
        }
      ]
    },
    {
      "cell_type": "code",
      "metadata": {
        "colab": {
          "base_uri": "https://localhost:8080/"
        },
        "id": "cZStqPl7DLci",
        "outputId": "b4198eb2-a75d-44ff-811a-ad1769c87f89"
      },
      "source": [
        "x_test[1].T"
      ],
      "execution_count": 120,
      "outputs": [
        {
          "output_type": "execute_result",
          "data": {
            "text/plain": [
              "array([17.76      , 15.70032573])"
            ]
          },
          "metadata": {
            "tags": []
          },
          "execution_count": 120
        }
      ]
    },
    {
      "cell_type": "code",
      "metadata": {
        "colab": {
          "base_uri": "https://localhost:8080/"
        },
        "id": "t87-d6n0WA9u",
        "outputId": "f9c90343-4f8f-4d07-9002-ebd9104e05c9"
      },
      "source": [
        "x_test[0:1]"
      ],
      "execution_count": 121,
      "outputs": [
        {
          "output_type": "execute_result",
          "data": {
            "text/plain": [
              "array([[ 12.97      , -15.50488599]])"
            ]
          },
          "metadata": {
            "tags": []
          },
          "execution_count": 121
        }
      ]
    },
    {
      "cell_type": "code",
      "metadata": {
        "colab": {
          "base_uri": "https://localhost:8080/"
        },
        "id": "RtImAkCwWEO6",
        "outputId": "67642c6e-2d4d-4c43-86e7-1bf7d49c7d51"
      },
      "source": [
        "y_test[0:1]"
      ],
      "execution_count": 122,
      "outputs": [
        {
          "output_type": "execute_result",
          "data": {
            "text/plain": [
              "array([[12.96794592]])"
            ]
          },
          "metadata": {
            "tags": []
          },
          "execution_count": 122
        }
      ]
    },
    {
      "cell_type": "code",
      "metadata": {
        "colab": {
          "base_uri": "https://localhost:8080/"
        },
        "id": "w57JYoUOmMP3",
        "outputId": "a5eaf6cb-3e27-47c9-cc43-bae7b44a3cc9"
      },
      "source": [
        "a = [1,2,3,4,5,6,7,8,9];\n",
        "for i in a: \n",
        "  prediction = model.predict(x_test[i-1:i])\n",
        "  y_0 = prediction[0][0]\n",
        "  print('Prediction - {}',format(y_0))\n",
        "  print('Actual',y_test[i-1:i])"
      ],
      "execution_count": 123,
      "outputs": [
        {
          "output_type": "stream",
          "text": [
            "Prediction - {} 12.679925918579102\n",
            "Actual [[12.96794592]]\n",
            "Prediction - {} 17.194049835205078\n",
            "Actual [[17.764919]]\n",
            "Prediction - {} 10.371971130371094\n",
            "Actual [[10.47534]]\n",
            "Prediction - {} 14.606964111328125\n",
            "Actual [[15.02230306]]\n",
            "Prediction - {} 11.501254081726074\n",
            "Actual [[11.70563]]\n",
            "Prediction - {} 18.307580947875977\n",
            "Actual [[18.94415048]]\n",
            "Prediction - {} 12.717337608337402\n",
            "Actual [[13.00929954]]\n",
            "Prediction - {} 15.079110145568848\n",
            "Actual [[15.52385]]\n",
            "Prediction - {} 10.178160667419434\n",
            "Actual [[10.26869]]\n"
          ],
          "name": "stdout"
        }
      ]
    },
    {
      "cell_type": "code",
      "metadata": {
        "id": "IN6kYYo1AQRl",
        "colab": {
          "base_uri": "https://localhost:8080/",
          "height": 279
        },
        "outputId": "67043c20-ceaf-4abb-e4df-dd49ced185c0"
      },
      "source": [
        "test_predictions = model.predict(x_test).flatten()\n",
        "train_predictions = model.predict(x_train).flatten()\n",
        "\n",
        "plt.scatter(y_test, test_predictions)\n",
        "plt.xlabel('True Values [MEDV]')\n",
        "plt.ylabel('Predictions [MEDV]')\n",
        "plt.axis('equal')\n",
        "plt.axis('square')\n",
        "plt.xlim([0,plt.xlim()[1]])\n",
        "plt.ylim([0,plt.ylim()[1]])\n",
        "_ = plt.plot([-100, 100], [-100, 100])"
      ],
      "execution_count": 124,
      "outputs": [
        {
          "output_type": "display_data",
          "data": {
            "image/png": "[encoded data removed]",
            "text/plain": [
              "<Figure size 432x288 with 1 Axes>"
            ]
          },
          "metadata": {
            "tags": [],
            "needs_background": "light"
          }
        }
      ]
    },
    {
      "cell_type": "code",
      "metadata": {
        "id": "TOKBYJ800WVy"
      },
      "source": [
        "error = np.zeros(1000)\n",
        "for i in range(1000):\n",
        "  error[i] = test_predictions[i] - y_test[i]"
      ],
      "execution_count": 125,
      "outputs": []
    },
    {
      "cell_type": "code",
      "metadata": {
        "colab": {
          "base_uri": "https://localhost:8080/"
        },
        "id": "CEdCgW0l0laq",
        "outputId": "cb36389d-b31a-49e9-f419-a6f693fdf4c2"
      },
      "source": [
        "error[:10]"
      ],
      "execution_count": 126,
      "outputs": [
        {
          "output_type": "execute_result",
          "data": {
            "text/plain": [
              "array([-0.28802096, -0.57086916, -0.10336887, -0.41533895, -0.20437592,\n",
              "       -0.63657144, -0.29196098, -0.44473985, -0.09052838, -0.51189514])"
            ]
          },
          "metadata": {
            "tags": []
          },
          "execution_count": 126
        }
      ]
    },
    {
      "cell_type": "code",
      "metadata": {
        "colab": {
          "base_uri": "https://localhost:8080/",
          "height": 279
        },
        "id": "_Uk5FkmJz4ov",
        "outputId": "91865504-1700-4657-9fa7-fb06e4a47b0a"
      },
      "source": [
        "\n",
        "plt.hist(error, bins = 25)\n",
        "plt.xlabel(\"Prediction Error [MEDV]\")\n",
        "_ = plt.ylabel(\"Count\")"
      ],
      "execution_count": 127,
      "outputs": [
        {
          "output_type": "display_data",
          "data": {
            "image/png": "[encoded data removed]",
            "text/plain": [
              "<Figure size 432x288 with 1 Axes>"
            ]
          },
          "metadata": {
            "tags": [],
            "needs_background": "light"
          }
        }
      ]
    },
    {
      "cell_type": "code",
      "metadata": {
        "colab": {
          "base_uri": "https://localhost:8080/"
        },
        "id": "5kSAeFeQz-G8",
        "outputId": "6dfa250a-1a5b-45c9-8e67-6f1a0ea49e78"
      },
      "source": [
        "from sklearn.metrics import mean_squared_error, mean_absolute_error, r2_score\n",
        "mse = mean_squared_error(y_test, test_predictions)\n",
        "print('Mean Squared Error: ',mse)\n",
        "mae = mean_absolute_error(y_test, test_predictions)\n",
        "print('Mean Absolute Error: ',mae)\n",
        "rsq = r2_score(y_train,train_predictions) #R-Squared on the training data\n",
        "print('R-square, Training: ',rsq)\n",
        "rsq = r2_score(y_test,test_predictions) #R-Squared on the testing data\n",
        "print('R-square, Testing: ',rsq)"
      ],
      "execution_count": 128,
      "outputs": [
        {
          "output_type": "stream",
          "text": [
            "Mean Squared Error:  0.30141334576390494\n",
            "Mean Absolute Error:  0.4791032400872096\n",
            "R-square, Training:  0.9879128159345588\n",
            "R-square, Testing:  0.987939618386786\n"
          ],
          "name": "stdout"
        }
      ]
    },
    {
      "cell_type": "code",
      "metadata": {
        "id": "6XabiXwG3VDq"
      },
      "source": [
        ""
      ],
      "execution_count": null,
      "outputs": []
    }
  ]
}