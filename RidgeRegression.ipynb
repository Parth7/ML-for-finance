{
 "cells": [
  {
   "cell_type": "code",
   "execution_count": 92,
   "id": "optimum-stocks",
   "metadata": {},
   "outputs": [
    {
     "data": {
      "image/png": "[encoded data removed]",
      "text/plain": [
       "<Figure size 432x288 with 1 Axes>"
      ]
     },
     "metadata": {
      "needs_background": "light"
     },
     "output_type": "display_data"
    }
   ],
   "source": [
    "#!/usr/bin/python3.7\n",
    "#RidgeRegression.ipynb\n",
    "#Parth Parakh\n",
    "#purpose: this file performs Ridge regression using gradient descent\n",
    "#---------------------------------------------------------------------\n",
    "#import modules\n",
    "import numpy as np\n",
    "import matplotlib.pyplot as plt\n",
    "#---------------------------------------------------------------------\n",
    "#helper function\n",
    "def readFile(fileName):\n",
    "    with open(fileName) as f:\n",
    "        reader = csv.reader(f, delimiter=\"\\t\")\n",
    "        d = list(reader)\n",
    "    return d\n",
    "\n",
    "#---------------------------------------------------------------------\n",
    "def myRidgeRegression0(y,X,alpha,tol,lambdaa) : \n",
    "    N=len(X); #number of samples\n",
    "    p=len(X[0]); #number of parameters (it includes the intercept)\n",
    "    beta=np.zeros((p,1)); #parameters\n",
    "    y = y.reshape(N,1)\n",
    "    err=1.0;\n",
    "    iteration=1;\n",
    "    '''\n",
    "    while (err>tol) : \n",
    "        a = (np.dot(X,beta)-y);\n",
    "        a_T = np.transpose(a);\n",
    "        J= np.dot(a_T,a);                           #objective function (RSS/2)\n",
    "        gradient = 2*(np.dot(a_T,X)).transpose();       # gradient of J\n",
    "        beta = beta-(alpha/N)*gradient;         #taking a step along the gradient\n",
    "        a = (np.dot(X,beta)-y);\n",
    "        a_T = np.transpose(a);\n",
    "        err=np.abs(J-np.dot(a_T,a));                     #computing the change in J\n",
    "        print(err)\n",
    "        iteration=iteration+1;\n",
    "    return beta, iteration;\n",
    "    '''\n",
    "    while (err>tol):\n",
    "        \n",
    "        a = X@beta-y;\n",
    "        #print(np.shape(a))\n",
    "        aT = np.transpose(a);\n",
    "        betaT = np.transpose(beta)\n",
    "        J = aT@a + lambdaa*(betaT@beta);              #objective function\n",
    "        #print(np.shape(aT@a))\n",
    "        gradient = 2*(aT@X).transpose()+lambdaa*beta;         #gradient of J\n",
    "        \n",
    "        beta = beta - (alpha/N)*gradient;                       #taking a step along the gradient\n",
    "        \n",
    "        a = X@beta-y;\n",
    "        aT = np.transpose(a);\n",
    "        betaT = np.transpose(beta)\n",
    "        err=np.abs( J - (aT@a+lambdaa*(betaT@beta)) );    #computing the change in J\n",
    "        #print(np.shape(err))\n",
    "        iteration=iteration+1;\n",
    "        \n",
    "    return beta, iteration\n",
    "\n",
    "#---------------------------------------------------------------------\n",
    "if __name__ == '__main__':\n",
    "    file = np.loadtxt(open(\"X.csv\", \"rb\"), delimiter=\",\")\n",
    "    X = (file)\n",
    "    \n",
    "    file = np.loadtxt(open(\"y.csv\", \"rb\"), delimiter=\",\")\n",
    "    y = (file)\n",
    "    \n",
    "    p = len(X[0]);\n",
    "    N = len(X);\n",
    "\n",
    "    XTrain = X[0:70,:];\n",
    "    yTrain = y[0:70];\n",
    "\n",
    "    XTest = X[70:100,:];\n",
    "    yTest = y[70:100];\n",
    "\n",
    "\n",
    "    MSE=[];\n",
    "    L=[];\n",
    "    for lambdaa in np.arange(0.0,10,0.01):\n",
    "        XTrainTr = np.transpose(XTrain);      \n",
    "        beta = np.linalg.inv((XTrainTr@XTrain)+lambdaa*np.identity(p)) @ (XTrainTr@yTrain );    \n",
    "        #beta, iteration = myRidgeRegression0(yTrain,XTrain,0.01,1e-9,lambdaa)   \n",
    "        yHat = XTest@beta;    \n",
    "        b = np.mean((yHat-yTest)**2)\n",
    "        MSE = np.append(MSE,b);\n",
    "        L = np.append(L,lambdaa);\n",
    "\n",
    "    plt.plot(L,MSE)"
   ]
  },
  {
   "cell_type": "code",
   "execution_count": null,
   "id": "fewer-depression",
   "metadata": {},
   "outputs": [],
   "source": []
  }
 ],
 "metadata": {
  "kernelspec": {
   "display_name": "Python 3",
   "language": "python",
   "name": "python3"
  },
  "language_info": {
   "codemirror_mode": {
    "name": "ipython",
    "version": 3
   },
   "file_extension": ".py",
   "mimetype": "text/x-python",
   "name": "python",
   "nbconvert_exporter": "python",
   "pygments_lexer": "ipython3",
   "version": "3.7.7"
  }
 },
 "nbformat": 4,
 "nbformat_minor": 5
}
