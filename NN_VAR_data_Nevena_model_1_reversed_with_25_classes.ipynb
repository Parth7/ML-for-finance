{
  "nbformat": 4,
  "nbformat_minor": 0,
  "metadata": {
    "colab": {
      "name": "NN VAR data - Nevena model 1 reversed with 25 classes.ipynb",
      "provenance": [],
      "collapsed_sections": [],
      "include_colab_link": true
    },
    "kernelspec": {
      "display_name": "Python 3",
      "name": "python3"
    },
    "language_info": {
      "name": "python"
    },
    "accelerator": "GPU"
  },
  "cells": [
    {
      "cell_type": "markdown",
      "metadata": {
        "id": "view-in-github",
        "colab_type": "text"
      },
      "source": [
        "<a href=\"https://colab.research.google.com/github/Parth7/ML-for-finance/blob/main/NN_VAR_data_Nevena_model_1_reversed_with_25_classes.ipynb\" target=\"_parent\"><img src=\"https://colab.research.google.com/assets/colab-badge.svg\" alt=\"Open In Colab\"/></a>"
      ]
    },
    {
      "cell_type": "code",
      "metadata": {
        "id": "KYcxZyPVViqM",
        "colab": {
          "base_uri": "https://localhost:8080/"
        },
        "outputId": "13102fc4-fe1a-485e-92cc-85b4e0ebfde5"
      },
      "source": [
        "# TensorFlow and tf.keras\n",
        "import tensorflow as tf\n",
        "from tensorflow import keras\n",
        "\n",
        "# Commonly used modules\n",
        "import numpy as np\n",
        "import os\n",
        "import sys\n",
        "\n",
        "# Images, plots, display, and visualization\n",
        "import matplotlib.pyplot as plt\n",
        "import pandas as pd\n",
        "import seaborn as sns\n",
        "import cv2\n",
        "import IPython\n",
        "from six.moves import urllib\n",
        "import random\n",
        "print(tf.__version__)"
      ],
      "execution_count": 1,
      "outputs": [
        {
          "output_type": "stream",
          "text": [
            "2.5.0\n"
          ],
          "name": "stdout"
        }
      ]
    },
    {
      "cell_type": "code",
      "metadata": {
        "colab": {
          "resources": {
            "http://localhost:8080/nbextensions/google.colab/files.js": {
              "data": "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",
              "ok": true,
              "headers": [
                [
                  "content-type",
                  "application/javascript"
                ]
              ],
              "status": 200,
              "status_text": ""
            }
          },
          "base_uri": "https://localhost:8080/",
          "height": 72
        },
        "id": "iZAX4jkkxYVi",
        "outputId": "e241d191-cd75-4e0b-dfa5-84080e60d77d"
      },
      "source": [
        "from google.colab import files\n",
        "uploaded = files.upload()"
      ],
      "execution_count": 2,
      "outputs": [
        {
          "output_type": "display_data",
          "data": {
            "text/html": [
              "\n",
              "     <input type=\"file\" id=\"files-f554a71e-3730-4717-abf3-3d4e0fdee6ac\" name=\"files[]\" multiple disabled\n",
              "        style=\"border:none\" />\n",
              "     <output id=\"result-f554a71e-3730-4717-abf3-3d4e0fdee6ac\">\n",
              "      Upload widget is only available when the cell has been executed in the\n",
              "      current browser session. Please rerun this cell to enable.\n",
              "      </output>\n",
              "      <script src=\"/nbextensions/google.colab/files.js\"></script> "
            ],
            "text/plain": [
              "<IPython.core.display.HTML object>"
            ]
          },
          "metadata": {
            "tags": []
          }
        },
        {
          "output_type": "stream",
          "text": [
            "Saving cummulative_data_NN3.xlsx to cummulative_data_NN3.xlsx\n"
          ],
          "name": "stdout"
        }
      ]
    },
    {
      "cell_type": "code",
      "metadata": {
        "id": "sM30XWmPVjk_"
      },
      "source": [
        "file = pd.read_excel('cummulative_data_NN3.xlsx') \n",
        "# Data for three-dimensional scattered points\n",
        "\n",
        "\n",
        "#(train_features, train_labels), (test_features, test_labels) = keras.datasets.boston_housing.load_data()\n",
        "\n",
        "# get per-feature statistics (mean, standard deviation) from the training set to normalize by\n",
        "#train_mean = np.mean(train_features, axis=0)\n",
        "#train_std = np.std(train_features, axis=0)\n",
        "#train_features = (train_features - train_mean) / train_std"
      ],
      "execution_count": 4,
      "outputs": []
    },
    {
      "cell_type": "code",
      "metadata": {
        "id": "sfBOtckgPEPM"
      },
      "source": [
        "file = file.to_numpy()"
      ],
      "execution_count": 5,
      "outputs": []
    },
    {
      "cell_type": "code",
      "metadata": {
        "id": "wU7eKk-KQC-K",
        "colab": {
          "base_uri": "https://localhost:8080/"
        },
        "outputId": "f5537028-b869-4f37-9fb0-6456d0a0399b"
      },
      "source": [
        "file[:10]"
      ],
      "execution_count": 6,
      "outputs": [
        {
          "output_type": "execute_result",
          "data": {
            "text/plain": [
              "array([[13.99,  1.  ,   nan,   nan,   nan,   nan],\n",
              "       [13.93,  1.  ,   nan,   nan,   nan,   nan],\n",
              "       [13.81,  1.  ,   nan,   nan,   nan,   nan],\n",
              "       [13.91,  1.  ,   nan,   nan,   nan,   nan],\n",
              "       [13.81,  1.  ,   nan,   nan,   nan,   nan],\n",
              "       [13.96,  1.  ,   nan,   nan,   nan,   nan],\n",
              "       [14.06,  1.  ,   nan,   nan,   nan,   nan],\n",
              "       [13.99,  1.  ,   nan,   nan,   nan,   nan],\n",
              "       [13.92,  1.  ,   nan,   nan,   nan,   nan],\n",
              "       [13.95,  1.  ,   nan,   nan,   nan,   nan]])"
            ]
          },
          "metadata": {
            "tags": []
          },
          "execution_count": 6
        }
      ]
    },
    {
      "cell_type": "code",
      "metadata": {
        "id": "_p8zMOnaPq3e"
      },
      "source": [
        "np.random.shuffle(file) "
      ],
      "execution_count": 7,
      "outputs": []
    },
    {
      "cell_type": "code",
      "metadata": {
        "colab": {
          "base_uri": "https://localhost:8080/"
        },
        "id": "VaE-gjzsLpFE",
        "outputId": "8031858a-54e9-4d93-8102-f81f07d287ac"
      },
      "source": [
        "file[:10]"
      ],
      "execution_count": 8,
      "outputs": [
        {
          "output_type": "execute_result",
          "data": {
            "text/plain": [
              "array([[27.05, 14.  ,   nan,   nan,   nan,   nan],\n",
              "       [13.01, 18.  ,   nan,   nan,   nan,   nan],\n",
              "       [14.99, 15.  ,   nan,   nan,   nan,   nan],\n",
              "       [18.29, 22.  ,   nan,   nan,   nan,   nan],\n",
              "       [ 9.22, 19.  ,   nan,   nan,   nan,   nan],\n",
              "       [16.51,  7.  ,   nan,   nan,   nan,   nan],\n",
              "       [15.32,  7.  ,   nan,   nan,   nan,   nan],\n",
              "       [26.81, 14.  ,   nan,   nan,   nan,   nan],\n",
              "       [24.91,  9.  ,   nan,   nan,   nan,   nan],\n",
              "       [18.73, 13.  ,   nan,   nan,   nan,   nan]])"
            ]
          },
          "metadata": {
            "tags": []
          },
          "execution_count": 8
        }
      ]
    },
    {
      "cell_type": "code",
      "metadata": {
        "colab": {
          "base_uri": "https://localhost:8080/"
        },
        "id": "hwipTtZCTbK5",
        "outputId": "be3c6cc9-25d8-4927-ac9a-f6000769af84"
      },
      "source": [
        "file[:,0]"
      ],
      "execution_count": 9,
      "outputs": [
        {
          "output_type": "execute_result",
          "data": {
            "text/plain": [
              "array([27.05, 13.01, 14.99, ..., 32.05, 12.36, 10.45])"
            ]
          },
          "metadata": {
            "tags": []
          },
          "execution_count": 9
        }
      ]
    },
    {
      "cell_type": "code",
      "metadata": {
        "id": "t-Spe9MPLkje"
      },
      "source": [
        "zdata = file[:,0]\n",
        "xdata = file[:,1]\n",
        "\n",
        "data = np.array([xdata])\n",
        "zd = np.array([zdata])"
      ],
      "execution_count": 10,
      "outputs": []
    },
    {
      "cell_type": "code",
      "metadata": {
        "colab": {
          "base_uri": "https://localhost:8080/"
        },
        "id": "5TNOwUOX1n4I",
        "outputId": "c942a187-b15e-420f-b084-c2048789f195"
      },
      "source": [
        "data[:,8000]"
      ],
      "execution_count": 11,
      "outputs": [
        {
          "output_type": "execute_result",
          "data": {
            "text/plain": [
              "array([6.])"
            ]
          },
          "metadata": {
            "tags": []
          },
          "execution_count": 11
        }
      ]
    },
    {
      "cell_type": "code",
      "metadata": {
        "id": "YnffAuuj1Dhq"
      },
      "source": [
        "d = np.zeros(data.size)\n",
        "for i in range(data.size):\n",
        "  d[i] = int(data[:,i])"
      ],
      "execution_count": 12,
      "outputs": []
    },
    {
      "cell_type": "code",
      "metadata": {
        "colab": {
          "base_uri": "https://localhost:8080/"
        },
        "id": "CbYe5VmH16cr",
        "outputId": "970fcef1-2fee-4534-f2b1-31adbdf7648a"
      },
      "source": [
        "int(d[45])"
      ],
      "execution_count": 13,
      "outputs": [
        {
          "output_type": "execute_result",
          "data": {
            "text/plain": [
              "16"
            ]
          },
          "metadata": {
            "tags": []
          },
          "execution_count": 13
        }
      ]
    },
    {
      "cell_type": "code",
      "metadata": {
        "id": "ysqo7sXa0X_l"
      },
      "source": [
        "d = pd.get_dummies(d)"
      ],
      "execution_count": 14,
      "outputs": []
    },
    {
      "cell_type": "code",
      "metadata": {
        "colab": {
          "base_uri": "https://localhost:8080/",
          "height": 419
        },
        "id": "o2O5o0yX360s",
        "outputId": "544a4bd4-a707-4fb0-ec57-91309f7a8da0"
      },
      "source": [
        "d"
      ],
      "execution_count": 15,
      "outputs": [
        {
          "output_type": "execute_result",
          "data": {
            "text/html": [
              "<div>\n",
              "<style scoped>\n",
              "    .dataframe tbody tr th:only-of-type {\n",
              "        vertical-align: middle;\n",
              "    }\n",
              "\n",
              "    .dataframe tbody tr th {\n",
              "        vertical-align: top;\n",
              "    }\n",
              "\n",
              "    .dataframe thead th {\n",
              "        text-align: right;\n",
              "    }\n",
              "</style>\n",
              "<table border=\"1\" class=\"dataframe\">\n",
              "  <thead>\n",
              "    <tr style=\"text-align: right;\">\n",
              "      <th></th>\n",
              "      <th>1.0</th>\n",
              "      <th>2.0</th>\n",
              "      <th>3.0</th>\n",
              "      <th>4.0</th>\n",
              "      <th>5.0</th>\n",
              "      <th>6.0</th>\n",
              "      <th>7.0</th>\n",
              "      <th>8.0</th>\n",
              "      <th>9.0</th>\n",
              "      <th>10.0</th>\n",
              "      <th>11.0</th>\n",
              "      <th>12.0</th>\n",
              "      <th>13.0</th>\n",
              "      <th>14.0</th>\n",
              "      <th>15.0</th>\n",
              "      <th>16.0</th>\n",
              "      <th>17.0</th>\n",
              "      <th>18.0</th>\n",
              "      <th>19.0</th>\n",
              "      <th>20.0</th>\n",
              "      <th>21.0</th>\n",
              "      <th>22.0</th>\n",
              "      <th>23.0</th>\n",
              "      <th>24.0</th>\n",
              "      <th>25.0</th>\n",
              "    </tr>\n",
              "  </thead>\n",
              "  <tbody>\n",
              "    <tr>\n",
              "      <th>0</th>\n",
              "      <td>0</td>\n",
              "      <td>0</td>\n",
              "      <td>0</td>\n",
              "      <td>0</td>\n",
              "      <td>0</td>\n",
              "      <td>0</td>\n",
              "      <td>0</td>\n",
              "      <td>0</td>\n",
              "      <td>0</td>\n",
              "      <td>0</td>\n",
              "      <td>0</td>\n",
              "      <td>0</td>\n",
              "      <td>0</td>\n",
              "      <td>1</td>\n",
              "      <td>0</td>\n",
              "      <td>0</td>\n",
              "      <td>0</td>\n",
              "      <td>0</td>\n",
              "      <td>0</td>\n",
              "      <td>0</td>\n",
              "      <td>0</td>\n",
              "      <td>0</td>\n",
              "      <td>0</td>\n",
              "      <td>0</td>\n",
              "      <td>0</td>\n",
              "    </tr>\n",
              "    <tr>\n",
              "      <th>1</th>\n",
              "      <td>0</td>\n",
              "      <td>0</td>\n",
              "      <td>0</td>\n",
              "      <td>0</td>\n",
              "      <td>0</td>\n",
              "      <td>0</td>\n",
              "      <td>0</td>\n",
              "      <td>0</td>\n",
              "      <td>0</td>\n",
              "      <td>0</td>\n",
              "      <td>0</td>\n",
              "      <td>0</td>\n",
              "      <td>0</td>\n",
              "      <td>0</td>\n",
              "      <td>0</td>\n",
              "      <td>0</td>\n",
              "      <td>0</td>\n",
              "      <td>1</td>\n",
              "      <td>0</td>\n",
              "      <td>0</td>\n",
              "      <td>0</td>\n",
              "      <td>0</td>\n",
              "      <td>0</td>\n",
              "      <td>0</td>\n",
              "      <td>0</td>\n",
              "    </tr>\n",
              "    <tr>\n",
              "      <th>2</th>\n",
              "      <td>0</td>\n",
              "      <td>0</td>\n",
              "      <td>0</td>\n",
              "      <td>0</td>\n",
              "      <td>0</td>\n",
              "      <td>0</td>\n",
              "      <td>0</td>\n",
              "      <td>0</td>\n",
              "      <td>0</td>\n",
              "      <td>0</td>\n",
              "      <td>0</td>\n",
              "      <td>0</td>\n",
              "      <td>0</td>\n",
              "      <td>0</td>\n",
              "      <td>1</td>\n",
              "      <td>0</td>\n",
              "      <td>0</td>\n",
              "      <td>0</td>\n",
              "      <td>0</td>\n",
              "      <td>0</td>\n",
              "      <td>0</td>\n",
              "      <td>0</td>\n",
              "      <td>0</td>\n",
              "      <td>0</td>\n",
              "      <td>0</td>\n",
              "    </tr>\n",
              "    <tr>\n",
              "      <th>3</th>\n",
              "      <td>0</td>\n",
              "      <td>0</td>\n",
              "      <td>0</td>\n",
              "      <td>0</td>\n",
              "      <td>0</td>\n",
              "      <td>0</td>\n",
              "      <td>0</td>\n",
              "      <td>0</td>\n",
              "      <td>0</td>\n",
              "      <td>0</td>\n",
              "      <td>0</td>\n",
              "      <td>0</td>\n",
              "      <td>0</td>\n",
              "      <td>0</td>\n",
              "      <td>0</td>\n",
              "      <td>0</td>\n",
              "      <td>0</td>\n",
              "      <td>0</td>\n",
              "      <td>0</td>\n",
              "      <td>0</td>\n",
              "      <td>0</td>\n",
              "      <td>1</td>\n",
              "      <td>0</td>\n",
              "      <td>0</td>\n",
              "      <td>0</td>\n",
              "    </tr>\n",
              "    <tr>\n",
              "      <th>4</th>\n",
              "      <td>0</td>\n",
              "      <td>0</td>\n",
              "      <td>0</td>\n",
              "      <td>0</td>\n",
              "      <td>0</td>\n",
              "      <td>0</td>\n",
              "      <td>0</td>\n",
              "      <td>0</td>\n",
              "      <td>0</td>\n",
              "      <td>0</td>\n",
              "      <td>0</td>\n",
              "      <td>0</td>\n",
              "      <td>0</td>\n",
              "      <td>0</td>\n",
              "      <td>0</td>\n",
              "      <td>0</td>\n",
              "      <td>0</td>\n",
              "      <td>0</td>\n",
              "      <td>1</td>\n",
              "      <td>0</td>\n",
              "      <td>0</td>\n",
              "      <td>0</td>\n",
              "      <td>0</td>\n",
              "      <td>0</td>\n",
              "      <td>0</td>\n",
              "    </tr>\n",
              "    <tr>\n",
              "      <th>...</th>\n",
              "      <td>...</td>\n",
              "      <td>...</td>\n",
              "      <td>...</td>\n",
              "      <td>...</td>\n",
              "      <td>...</td>\n",
              "      <td>...</td>\n",
              "      <td>...</td>\n",
              "      <td>...</td>\n",
              "      <td>...</td>\n",
              "      <td>...</td>\n",
              "      <td>...</td>\n",
              "      <td>...</td>\n",
              "      <td>...</td>\n",
              "      <td>...</td>\n",
              "      <td>...</td>\n",
              "      <td>...</td>\n",
              "      <td>...</td>\n",
              "      <td>...</td>\n",
              "      <td>...</td>\n",
              "      <td>...</td>\n",
              "      <td>...</td>\n",
              "      <td>...</td>\n",
              "      <td>...</td>\n",
              "      <td>...</td>\n",
              "      <td>...</td>\n",
              "    </tr>\n",
              "    <tr>\n",
              "      <th>9995</th>\n",
              "      <td>0</td>\n",
              "      <td>0</td>\n",
              "      <td>0</td>\n",
              "      <td>0</td>\n",
              "      <td>0</td>\n",
              "      <td>0</td>\n",
              "      <td>0</td>\n",
              "      <td>0</td>\n",
              "      <td>0</td>\n",
              "      <td>0</td>\n",
              "      <td>0</td>\n",
              "      <td>0</td>\n",
              "      <td>0</td>\n",
              "      <td>0</td>\n",
              "      <td>0</td>\n",
              "      <td>0</td>\n",
              "      <td>0</td>\n",
              "      <td>0</td>\n",
              "      <td>0</td>\n",
              "      <td>0</td>\n",
              "      <td>1</td>\n",
              "      <td>0</td>\n",
              "      <td>0</td>\n",
              "      <td>0</td>\n",
              "      <td>0</td>\n",
              "    </tr>\n",
              "    <tr>\n",
              "      <th>9996</th>\n",
              "      <td>0</td>\n",
              "      <td>0</td>\n",
              "      <td>0</td>\n",
              "      <td>0</td>\n",
              "      <td>0</td>\n",
              "      <td>0</td>\n",
              "      <td>0</td>\n",
              "      <td>0</td>\n",
              "      <td>0</td>\n",
              "      <td>0</td>\n",
              "      <td>0</td>\n",
              "      <td>1</td>\n",
              "      <td>0</td>\n",
              "      <td>0</td>\n",
              "      <td>0</td>\n",
              "      <td>0</td>\n",
              "      <td>0</td>\n",
              "      <td>0</td>\n",
              "      <td>0</td>\n",
              "      <td>0</td>\n",
              "      <td>0</td>\n",
              "      <td>0</td>\n",
              "      <td>0</td>\n",
              "      <td>0</td>\n",
              "      <td>0</td>\n",
              "    </tr>\n",
              "    <tr>\n",
              "      <th>9997</th>\n",
              "      <td>0</td>\n",
              "      <td>0</td>\n",
              "      <td>0</td>\n",
              "      <td>0</td>\n",
              "      <td>0</td>\n",
              "      <td>0</td>\n",
              "      <td>0</td>\n",
              "      <td>0</td>\n",
              "      <td>0</td>\n",
              "      <td>0</td>\n",
              "      <td>0</td>\n",
              "      <td>0</td>\n",
              "      <td>0</td>\n",
              "      <td>0</td>\n",
              "      <td>0</td>\n",
              "      <td>0</td>\n",
              "      <td>0</td>\n",
              "      <td>0</td>\n",
              "      <td>0</td>\n",
              "      <td>0</td>\n",
              "      <td>1</td>\n",
              "      <td>0</td>\n",
              "      <td>0</td>\n",
              "      <td>0</td>\n",
              "      <td>0</td>\n",
              "    </tr>\n",
              "    <tr>\n",
              "      <th>9998</th>\n",
              "      <td>0</td>\n",
              "      <td>0</td>\n",
              "      <td>0</td>\n",
              "      <td>0</td>\n",
              "      <td>0</td>\n",
              "      <td>0</td>\n",
              "      <td>0</td>\n",
              "      <td>0</td>\n",
              "      <td>0</td>\n",
              "      <td>0</td>\n",
              "      <td>0</td>\n",
              "      <td>0</td>\n",
              "      <td>0</td>\n",
              "      <td>0</td>\n",
              "      <td>0</td>\n",
              "      <td>0</td>\n",
              "      <td>0</td>\n",
              "      <td>0</td>\n",
              "      <td>0</td>\n",
              "      <td>0</td>\n",
              "      <td>0</td>\n",
              "      <td>0</td>\n",
              "      <td>1</td>\n",
              "      <td>0</td>\n",
              "      <td>0</td>\n",
              "    </tr>\n",
              "    <tr>\n",
              "      <th>9999</th>\n",
              "      <td>0</td>\n",
              "      <td>0</td>\n",
              "      <td>0</td>\n",
              "      <td>0</td>\n",
              "      <td>0</td>\n",
              "      <td>0</td>\n",
              "      <td>0</td>\n",
              "      <td>0</td>\n",
              "      <td>0</td>\n",
              "      <td>0</td>\n",
              "      <td>1</td>\n",
              "      <td>0</td>\n",
              "      <td>0</td>\n",
              "      <td>0</td>\n",
              "      <td>0</td>\n",
              "      <td>0</td>\n",
              "      <td>0</td>\n",
              "      <td>0</td>\n",
              "      <td>0</td>\n",
              "      <td>0</td>\n",
              "      <td>0</td>\n",
              "      <td>0</td>\n",
              "      <td>0</td>\n",
              "      <td>0</td>\n",
              "      <td>0</td>\n",
              "    </tr>\n",
              "  </tbody>\n",
              "</table>\n",
              "<p>10000 rows × 25 columns</p>\n",
              "</div>"
            ],
            "text/plain": [
              "      1.0   2.0   3.0   4.0   5.0   6.0   ...  20.0  21.0  22.0  23.0  24.0  25.0\n",
              "0        0     0     0     0     0     0  ...     0     0     0     0     0     0\n",
              "1        0     0     0     0     0     0  ...     0     0     0     0     0     0\n",
              "2        0     0     0     0     0     0  ...     0     0     0     0     0     0\n",
              "3        0     0     0     0     0     0  ...     0     0     1     0     0     0\n",
              "4        0     0     0     0     0     0  ...     0     0     0     0     0     0\n",
              "...    ...   ...   ...   ...   ...   ...  ...   ...   ...   ...   ...   ...   ...\n",
              "9995     0     0     0     0     0     0  ...     0     1     0     0     0     0\n",
              "9996     0     0     0     0     0     0  ...     0     0     0     0     0     0\n",
              "9997     0     0     0     0     0     0  ...     0     1     0     0     0     0\n",
              "9998     0     0     0     0     0     0  ...     0     0     0     1     0     0\n",
              "9999     0     0     0     0     0     0  ...     0     0     0     0     0     0\n",
              "\n",
              "[10000 rows x 25 columns]"
            ]
          },
          "metadata": {
            "tags": []
          },
          "execution_count": 15
        }
      ]
    },
    {
      "cell_type": "code",
      "metadata": {
        "id": "y7d82FzWb2n-"
      },
      "source": [
        "data = d"
      ],
      "execution_count": 16,
      "outputs": []
    },
    {
      "cell_type": "code",
      "metadata": {
        "id": "uwNJxB7Vccyu"
      },
      "source": [
        "#zd = (zd-zd.min())/(zd.max())"
      ],
      "execution_count": 17,
      "outputs": []
    },
    {
      "cell_type": "code",
      "metadata": {
        "colab": {
          "base_uri": "https://localhost:8080/"
        },
        "id": "GFlXzplidHuR",
        "outputId": "db375d9d-0535-459a-c1bb-0a316c1e7f79"
      },
      "source": [
        "zd[:5]"
      ],
      "execution_count": 18,
      "outputs": [
        {
          "output_type": "execute_result",
          "data": {
            "text/plain": [
              "array([[27.05, 13.01, 14.99, ..., 32.05, 12.36, 10.45]])"
            ]
          },
          "metadata": {
            "tags": []
          },
          "execution_count": 18
        }
      ]
    },
    {
      "cell_type": "code",
      "metadata": {
        "colab": {
          "base_uri": "https://localhost:8080/",
          "height": 204
        },
        "id": "y4ryUtkOaSex",
        "outputId": "bad248af-ea8d-41d3-aa37-6d07e81176b4"
      },
      "source": [
        "data[:5]"
      ],
      "execution_count": 19,
      "outputs": [
        {
          "output_type": "execute_result",
          "data": {
            "text/html": [
              "<div>\n",
              "<style scoped>\n",
              "    .dataframe tbody tr th:only-of-type {\n",
              "        vertical-align: middle;\n",
              "    }\n",
              "\n",
              "    .dataframe tbody tr th {\n",
              "        vertical-align: top;\n",
              "    }\n",
              "\n",
              "    .dataframe thead th {\n",
              "        text-align: right;\n",
              "    }\n",
              "</style>\n",
              "<table border=\"1\" class=\"dataframe\">\n",
              "  <thead>\n",
              "    <tr style=\"text-align: right;\">\n",
              "      <th></th>\n",
              "      <th>1.0</th>\n",
              "      <th>2.0</th>\n",
              "      <th>3.0</th>\n",
              "      <th>4.0</th>\n",
              "      <th>5.0</th>\n",
              "      <th>6.0</th>\n",
              "      <th>7.0</th>\n",
              "      <th>8.0</th>\n",
              "      <th>9.0</th>\n",
              "      <th>10.0</th>\n",
              "      <th>11.0</th>\n",
              "      <th>12.0</th>\n",
              "      <th>13.0</th>\n",
              "      <th>14.0</th>\n",
              "      <th>15.0</th>\n",
              "      <th>16.0</th>\n",
              "      <th>17.0</th>\n",
              "      <th>18.0</th>\n",
              "      <th>19.0</th>\n",
              "      <th>20.0</th>\n",
              "      <th>21.0</th>\n",
              "      <th>22.0</th>\n",
              "      <th>23.0</th>\n",
              "      <th>24.0</th>\n",
              "      <th>25.0</th>\n",
              "    </tr>\n",
              "  </thead>\n",
              "  <tbody>\n",
              "    <tr>\n",
              "      <th>0</th>\n",
              "      <td>0</td>\n",
              "      <td>0</td>\n",
              "      <td>0</td>\n",
              "      <td>0</td>\n",
              "      <td>0</td>\n",
              "      <td>0</td>\n",
              "      <td>0</td>\n",
              "      <td>0</td>\n",
              "      <td>0</td>\n",
              "      <td>0</td>\n",
              "      <td>0</td>\n",
              "      <td>0</td>\n",
              "      <td>0</td>\n",
              "      <td>1</td>\n",
              "      <td>0</td>\n",
              "      <td>0</td>\n",
              "      <td>0</td>\n",
              "      <td>0</td>\n",
              "      <td>0</td>\n",
              "      <td>0</td>\n",
              "      <td>0</td>\n",
              "      <td>0</td>\n",
              "      <td>0</td>\n",
              "      <td>0</td>\n",
              "      <td>0</td>\n",
              "    </tr>\n",
              "    <tr>\n",
              "      <th>1</th>\n",
              "      <td>0</td>\n",
              "      <td>0</td>\n",
              "      <td>0</td>\n",
              "      <td>0</td>\n",
              "      <td>0</td>\n",
              "      <td>0</td>\n",
              "      <td>0</td>\n",
              "      <td>0</td>\n",
              "      <td>0</td>\n",
              "      <td>0</td>\n",
              "      <td>0</td>\n",
              "      <td>0</td>\n",
              "      <td>0</td>\n",
              "      <td>0</td>\n",
              "      <td>0</td>\n",
              "      <td>0</td>\n",
              "      <td>0</td>\n",
              "      <td>1</td>\n",
              "      <td>0</td>\n",
              "      <td>0</td>\n",
              "      <td>0</td>\n",
              "      <td>0</td>\n",
              "      <td>0</td>\n",
              "      <td>0</td>\n",
              "      <td>0</td>\n",
              "    </tr>\n",
              "    <tr>\n",
              "      <th>2</th>\n",
              "      <td>0</td>\n",
              "      <td>0</td>\n",
              "      <td>0</td>\n",
              "      <td>0</td>\n",
              "      <td>0</td>\n",
              "      <td>0</td>\n",
              "      <td>0</td>\n",
              "      <td>0</td>\n",
              "      <td>0</td>\n",
              "      <td>0</td>\n",
              "      <td>0</td>\n",
              "      <td>0</td>\n",
              "      <td>0</td>\n",
              "      <td>0</td>\n",
              "      <td>1</td>\n",
              "      <td>0</td>\n",
              "      <td>0</td>\n",
              "      <td>0</td>\n",
              "      <td>0</td>\n",
              "      <td>0</td>\n",
              "      <td>0</td>\n",
              "      <td>0</td>\n",
              "      <td>0</td>\n",
              "      <td>0</td>\n",
              "      <td>0</td>\n",
              "    </tr>\n",
              "    <tr>\n",
              "      <th>3</th>\n",
              "      <td>0</td>\n",
              "      <td>0</td>\n",
              "      <td>0</td>\n",
              "      <td>0</td>\n",
              "      <td>0</td>\n",
              "      <td>0</td>\n",
              "      <td>0</td>\n",
              "      <td>0</td>\n",
              "      <td>0</td>\n",
              "      <td>0</td>\n",
              "      <td>0</td>\n",
              "      <td>0</td>\n",
              "      <td>0</td>\n",
              "      <td>0</td>\n",
              "      <td>0</td>\n",
              "      <td>0</td>\n",
              "      <td>0</td>\n",
              "      <td>0</td>\n",
              "      <td>0</td>\n",
              "      <td>0</td>\n",
              "      <td>0</td>\n",
              "      <td>1</td>\n",
              "      <td>0</td>\n",
              "      <td>0</td>\n",
              "      <td>0</td>\n",
              "    </tr>\n",
              "    <tr>\n",
              "      <th>4</th>\n",
              "      <td>0</td>\n",
              "      <td>0</td>\n",
              "      <td>0</td>\n",
              "      <td>0</td>\n",
              "      <td>0</td>\n",
              "      <td>0</td>\n",
              "      <td>0</td>\n",
              "      <td>0</td>\n",
              "      <td>0</td>\n",
              "      <td>0</td>\n",
              "      <td>0</td>\n",
              "      <td>0</td>\n",
              "      <td>0</td>\n",
              "      <td>0</td>\n",
              "      <td>0</td>\n",
              "      <td>0</td>\n",
              "      <td>0</td>\n",
              "      <td>0</td>\n",
              "      <td>1</td>\n",
              "      <td>0</td>\n",
              "      <td>0</td>\n",
              "      <td>0</td>\n",
              "      <td>0</td>\n",
              "      <td>0</td>\n",
              "      <td>0</td>\n",
              "    </tr>\n",
              "  </tbody>\n",
              "</table>\n",
              "</div>"
            ],
            "text/plain": [
              "   1.0   2.0   3.0   4.0   5.0   6.0   ...  20.0  21.0  22.0  23.0  24.0  25.0\n",
              "0     0     0     0     0     0     0  ...     0     0     0     0     0     0\n",
              "1     0     0     0     0     0     0  ...     0     0     0     0     0     0\n",
              "2     0     0     0     0     0     0  ...     0     0     0     0     0     0\n",
              "3     0     0     0     0     0     0  ...     0     0     1     0     0     0\n",
              "4     0     0     0     0     0     0  ...     0     0     0     0     0     0\n",
              "\n",
              "[5 rows x 25 columns]"
            ]
          },
          "metadata": {
            "tags": []
          },
          "execution_count": 19
        }
      ]
    },
    {
      "cell_type": "code",
      "metadata": {
        "colab": {
          "base_uri": "https://localhost:8080/"
        },
        "id": "6x5KjA244T8s",
        "outputId": "204ddfad-9243-4197-b411-1b225fd5c5dd"
      },
      "source": [
        "data[:8000].shape"
      ],
      "execution_count": 20,
      "outputs": [
        {
          "output_type": "execute_result",
          "data": {
            "text/plain": [
              "(8000, 25)"
            ]
          },
          "metadata": {
            "tags": []
          },
          "execution_count": 20
        }
      ]
    },
    {
      "cell_type": "code",
      "metadata": {
        "id": "w9qNUrOnwRKP"
      },
      "source": [
        "test_set_size = int(np.round(0.2*data.shape[1]));\n",
        "train_set_size = data.shape[1] - (test_set_size);"
      ],
      "execution_count": 21,
      "outputs": []
    },
    {
      "cell_type": "code",
      "metadata": {
        "id": "nABObTTbxfnp"
      },
      "source": [
        "x_train = data[:8000]\n",
        "y_train = zd[:,:8000]\n",
        "\n",
        "x_test = data[8000:]\n",
        "y_test = zd[:,8000:]"
      ],
      "execution_count": 22,
      "outputs": []
    },
    {
      "cell_type": "code",
      "metadata": {
        "colab": {
          "base_uri": "https://localhost:8080/"
        },
        "id": "hdFdGj4T5Ggs",
        "outputId": "00682f4f-88d7-497c-c66b-4a46e52e6141"
      },
      "source": [
        "x_train.shape"
      ],
      "execution_count": 23,
      "outputs": [
        {
          "output_type": "execute_result",
          "data": {
            "text/plain": [
              "(8000, 25)"
            ]
          },
          "metadata": {
            "tags": []
          },
          "execution_count": 23
        }
      ]
    },
    {
      "cell_type": "code",
      "metadata": {
        "colab": {
          "base_uri": "https://localhost:8080/"
        },
        "id": "sIkArTIxynLd",
        "outputId": "27372ebe-6707-4d5f-a8a3-ab88f3590b27"
      },
      "source": [
        "y_train.T.shape"
      ],
      "execution_count": 24,
      "outputs": [
        {
          "output_type": "execute_result",
          "data": {
            "text/plain": [
              "(8000, 1)"
            ]
          },
          "metadata": {
            "tags": []
          },
          "execution_count": 24
        }
      ]
    },
    {
      "cell_type": "code",
      "metadata": {
        "colab": {
          "base_uri": "https://localhost:8080/"
        },
        "id": "A5KMkMoGyrPq",
        "outputId": "3469c595-cec1-4fbc-da2e-2658d4adf811"
      },
      "source": [
        "x_train.shape"
      ],
      "execution_count": 25,
      "outputs": [
        {
          "output_type": "execute_result",
          "data": {
            "text/plain": [
              "(8000, 25)"
            ]
          },
          "metadata": {
            "tags": []
          },
          "execution_count": 25
        }
      ]
    },
    {
      "cell_type": "code",
      "metadata": {
        "id": "odG9_amzruZ0"
      },
      "source": [
        "x_train = x_train\n",
        "y_train = y_train.T\n",
        "x_test = x_test\n",
        "y_test = y_test.T"
      ],
      "execution_count": 26,
      "outputs": []
    },
    {
      "cell_type": "code",
      "metadata": {
        "colab": {
          "base_uri": "https://localhost:8080/"
        },
        "id": "Wbb-SkeU_Gdv",
        "outputId": "c4f3e4d6-f348-466f-a9c8-d42e1dd14722"
      },
      "source": [
        "y_train.shape[1]"
      ],
      "execution_count": 27,
      "outputs": [
        {
          "output_type": "execute_result",
          "data": {
            "text/plain": [
              "1"
            ]
          },
          "metadata": {
            "tags": []
          },
          "execution_count": 27
        }
      ]
    },
    {
      "cell_type": "code",
      "metadata": {
        "colab": {
          "base_uri": "https://localhost:8080/"
        },
        "id": "eQqalT0mk4yv",
        "outputId": "2e3258fb-6662-40d2-f1f4-8cb5f14e700d"
      },
      "source": [
        "import numpy\n",
        "from sklearn.model_selection import GridSearchCV\n",
        "from keras.models import Sequential\n",
        "from keras.layers import Dense\n",
        "from keras.layers import Dropout\n",
        "from keras.wrappers.scikit_learn import KerasClassifier\n",
        "from keras.constraints import maxnorm\n",
        "from keras.optimizers import Adam\n",
        "from keras.layers.core import Dense, Dropout, Activation\n",
        "'''\n",
        "#build our model\n",
        "model = Sequential()\n",
        "\n",
        "model.add(Dense(25, activation='relu'))\n",
        "model.add(Dense(50, activation='relu'))\n",
        "model.add(Dense(25, activation='relu'))\n",
        "model.add(Dense(1))\n",
        "\n",
        "model.compile(loss='mean_squared_error', optimizer='Adam')\n",
        "\n",
        "#build our model\n",
        "model = Sequential()\n",
        "model.add(Dense(250,input_dim=y_train.shape[1],kernel_initializer='normal', activation='relu'))\n",
        "model.add(Dense(500,kernel_initializer='normal', activation='relu'))\n",
        "model.add(Dropout(0.2))\n",
        "model.add(Dense(250,kernel_initializer='normal', activation='relu'))\n",
        "model.add(Dense(50,activation='softmax'))\n",
        "# Compile model\n",
        "optimizer = Adam(learning_rate=0.01, beta_1=0.9, beta_2=0.999, epsilon=1e-08, decay=0.0)\n",
        "#optimizer = SGD(learning_rate=0.01, momentum=0)\n",
        "\n",
        "'''\n",
        "\n",
        "model = Sequential()\n",
        "model.add(Dense(50,input_dim=y_train.shape[1]))\n",
        "model.add(Activation('relu'))\n",
        "model.add(Dense(500))\n",
        "model.add(Activation('relu'))\n",
        "model.add(Dropout(0.2))\n",
        "model.add(Dense(25))\n",
        "model.add(Activation('softmax'))\n",
        "\n",
        "model.summary()"
      ],
      "execution_count": 31,
      "outputs": [
        {
          "output_type": "stream",
          "text": [
            "Model: \"sequential_1\"\n",
            "_________________________________________________________________\n",
            "Layer (type)                 Output Shape              Param #   \n",
            "=================================================================\n",
            "dense_3 (Dense)              (None, 50)                100       \n",
            "_________________________________________________________________\n",
            "activation_3 (Activation)    (None, 50)                0         \n",
            "_________________________________________________________________\n",
            "dense_4 (Dense)              (None, 500)               25500     \n",
            "_________________________________________________________________\n",
            "activation_4 (Activation)    (None, 500)               0         \n",
            "_________________________________________________________________\n",
            "dropout_1 (Dropout)          (None, 500)               0         \n",
            "_________________________________________________________________\n",
            "dense_5 (Dense)              (None, 25)                12525     \n",
            "_________________________________________________________________\n",
            "activation_5 (Activation)    (None, 25)                0         \n",
            "=================================================================\n",
            "Total params: 38,125\n",
            "Trainable params: 38,125\n",
            "Non-trainable params: 0\n",
            "_________________________________________________________________\n"
          ],
          "name": "stdout"
        }
      ]
    },
    {
      "cell_type": "code",
      "metadata": {
        "id": "Mt5uZzC5-8r8"
      },
      "source": [
        "model.compile(loss='categorical_crossentropy', optimizer='ADAM', metrics=['accuracy'])"
      ],
      "execution_count": 32,
      "outputs": []
    },
    {
      "cell_type": "code",
      "metadata": {
        "colab": {
          "base_uri": "https://localhost:8080/"
        },
        "id": "W880uUsJ_P4K",
        "outputId": "3d8cb8d5-fecd-479c-aaaa-f148dffeff8e"
      },
      "source": [
        "model.fit(y_train, x_train, batch_size=32, epochs=100,verbose=1)"
      ],
      "execution_count": 33,
      "outputs": [
        {
          "output_type": "stream",
          "text": [
            "Epoch 1/100\n",
            "250/250 [==============================] - 7s 2ms/step - loss: 3.2768 - accuracy: 0.0412\n",
            "Epoch 2/100\n",
            "250/250 [==============================] - 0s 2ms/step - loss: 3.0917 - accuracy: 0.0677\n",
            "Epoch 3/100\n",
            "250/250 [==============================] - 1s 2ms/step - loss: 2.7820 - accuracy: 0.1505\n",
            "Epoch 4/100\n",
            "250/250 [==============================] - 1s 2ms/step - loss: 2.3646 - accuracy: 0.2120\n",
            "Epoch 5/100\n",
            "250/250 [==============================] - 1s 2ms/step - loss: 2.1439 - accuracy: 0.2741\n",
            "Epoch 6/100\n",
            "250/250 [==============================] - 1s 2ms/step - loss: 2.0461 - accuracy: 0.2864\n",
            "Epoch 7/100\n",
            "250/250 [==============================] - 1s 2ms/step - loss: 1.9407 - accuracy: 0.3147\n",
            "Epoch 8/100\n",
            "250/250 [==============================] - 1s 2ms/step - loss: 1.8942 - accuracy: 0.3257\n",
            "Epoch 9/100\n",
            "250/250 [==============================] - 1s 2ms/step - loss: 1.8173 - accuracy: 0.3495\n",
            "Epoch 10/100\n",
            "250/250 [==============================] - 1s 2ms/step - loss: 1.7761 - accuracy: 0.3481\n",
            "Epoch 11/100\n",
            "250/250 [==============================] - 1s 2ms/step - loss: 1.7353 - accuracy: 0.3506\n",
            "Epoch 12/100\n",
            "250/250 [==============================] - 0s 2ms/step - loss: 1.7062 - accuracy: 0.3520\n",
            "Epoch 13/100\n",
            "250/250 [==============================] - 1s 2ms/step - loss: 1.6747 - accuracy: 0.3684\n",
            "Epoch 14/100\n",
            "250/250 [==============================] - 1s 2ms/step - loss: 1.6464 - accuracy: 0.3639\n",
            "Epoch 15/100\n",
            "250/250 [==============================] - 0s 2ms/step - loss: 1.6065 - accuracy: 0.3785\n",
            "Epoch 16/100\n",
            "250/250 [==============================] - 1s 2ms/step - loss: 1.5928 - accuracy: 0.3815\n",
            "Epoch 17/100\n",
            "250/250 [==============================] - 1s 2ms/step - loss: 1.5888 - accuracy: 0.3841\n",
            "Epoch 18/100\n",
            "250/250 [==============================] - 0s 2ms/step - loss: 1.5718 - accuracy: 0.3749\n",
            "Epoch 19/100\n",
            "250/250 [==============================] - 0s 2ms/step - loss: 1.5639 - accuracy: 0.3813\n",
            "Epoch 20/100\n",
            "250/250 [==============================] - 1s 2ms/step - loss: 1.5388 - accuracy: 0.3919\n",
            "Epoch 21/100\n",
            "250/250 [==============================] - 1s 2ms/step - loss: 1.5360 - accuracy: 0.3917\n",
            "Epoch 22/100\n",
            "250/250 [==============================] - 0s 2ms/step - loss: 1.5032 - accuracy: 0.4168\n",
            "Epoch 23/100\n",
            "250/250 [==============================] - 1s 2ms/step - loss: 1.5114 - accuracy: 0.4022\n",
            "Epoch 24/100\n",
            "250/250 [==============================] - 0s 2ms/step - loss: 1.5045 - accuracy: 0.4078\n",
            "Epoch 25/100\n",
            "250/250 [==============================] - 1s 2ms/step - loss: 1.5137 - accuracy: 0.3979\n",
            "Epoch 26/100\n",
            "250/250 [==============================] - 1s 2ms/step - loss: 1.4850 - accuracy: 0.4100\n",
            "Epoch 27/100\n",
            "250/250 [==============================] - 1s 2ms/step - loss: 1.4755 - accuracy: 0.4091\n",
            "Epoch 28/100\n",
            "250/250 [==============================] - 1s 2ms/step - loss: 1.4699 - accuracy: 0.4292\n",
            "Epoch 29/100\n",
            "250/250 [==============================] - 1s 2ms/step - loss: 1.4736 - accuracy: 0.4031\n",
            "Epoch 30/100\n",
            "250/250 [==============================] - 1s 2ms/step - loss: 1.4574 - accuracy: 0.4183\n",
            "Epoch 31/100\n",
            "250/250 [==============================] - 1s 2ms/step - loss: 1.4398 - accuracy: 0.4224\n",
            "Epoch 32/100\n",
            "250/250 [==============================] - 1s 2ms/step - loss: 1.4490 - accuracy: 0.4151\n",
            "Epoch 33/100\n",
            "250/250 [==============================] - 1s 2ms/step - loss: 1.4474 - accuracy: 0.4232\n",
            "Epoch 34/100\n",
            "250/250 [==============================] - 1s 2ms/step - loss: 1.4405 - accuracy: 0.4298\n",
            "Epoch 35/100\n",
            "250/250 [==============================] - 1s 2ms/step - loss: 1.4292 - accuracy: 0.4243\n",
            "Epoch 36/100\n",
            "250/250 [==============================] - 1s 2ms/step - loss: 1.4096 - accuracy: 0.4321\n",
            "Epoch 37/100\n",
            "250/250 [==============================] - 1s 2ms/step - loss: 1.4156 - accuracy: 0.4174\n",
            "Epoch 38/100\n",
            "250/250 [==============================] - 0s 2ms/step - loss: 1.4120 - accuracy: 0.4356\n",
            "Epoch 39/100\n",
            "250/250 [==============================] - 1s 2ms/step - loss: 1.4038 - accuracy: 0.4290\n",
            "Epoch 40/100\n",
            "250/250 [==============================] - 1s 2ms/step - loss: 1.4306 - accuracy: 0.4358\n",
            "Epoch 41/100\n",
            "250/250 [==============================] - 0s 2ms/step - loss: 1.4041 - accuracy: 0.4346\n",
            "Epoch 42/100\n",
            "250/250 [==============================] - 1s 2ms/step - loss: 1.4139 - accuracy: 0.4273\n",
            "Epoch 43/100\n",
            "250/250 [==============================] - 1s 2ms/step - loss: 1.3990 - accuracy: 0.4258\n",
            "Epoch 44/100\n",
            "250/250 [==============================] - 1s 2ms/step - loss: 1.4017 - accuracy: 0.4339\n",
            "Epoch 45/100\n",
            "250/250 [==============================] - 0s 2ms/step - loss: 1.3842 - accuracy: 0.4375\n",
            "Epoch 46/100\n",
            "250/250 [==============================] - 0s 2ms/step - loss: 1.3846 - accuracy: 0.4372\n",
            "Epoch 47/100\n",
            "250/250 [==============================] - 0s 2ms/step - loss: 1.3720 - accuracy: 0.4454\n",
            "Epoch 48/100\n",
            "250/250 [==============================] - 0s 2ms/step - loss: 1.4105 - accuracy: 0.4327\n",
            "Epoch 49/100\n",
            "250/250 [==============================] - 0s 2ms/step - loss: 1.3849 - accuracy: 0.4382\n",
            "Epoch 50/100\n",
            "250/250 [==============================] - 0s 2ms/step - loss: 1.3651 - accuracy: 0.4433\n",
            "Epoch 51/100\n",
            "250/250 [==============================] - 0s 2ms/step - loss: 1.3736 - accuracy: 0.4374\n",
            "Epoch 52/100\n",
            "250/250 [==============================] - 0s 2ms/step - loss: 1.3846 - accuracy: 0.4416\n",
            "Epoch 53/100\n",
            "250/250 [==============================] - 0s 2ms/step - loss: 1.3786 - accuracy: 0.4458\n",
            "Epoch 54/100\n",
            "250/250 [==============================] - 0s 2ms/step - loss: 1.3708 - accuracy: 0.4470\n",
            "Epoch 55/100\n",
            "250/250 [==============================] - 0s 2ms/step - loss: 1.3871 - accuracy: 0.4357\n",
            "Epoch 56/100\n",
            "250/250 [==============================] - 0s 2ms/step - loss: 1.3571 - accuracy: 0.4472\n",
            "Epoch 57/100\n",
            "250/250 [==============================] - 0s 2ms/step - loss: 1.3591 - accuracy: 0.4587\n",
            "Epoch 58/100\n",
            "250/250 [==============================] - 0s 2ms/step - loss: 1.3628 - accuracy: 0.4462\n",
            "Epoch 59/100\n",
            "250/250 [==============================] - 0s 2ms/step - loss: 1.3596 - accuracy: 0.4451\n",
            "Epoch 60/100\n",
            "250/250 [==============================] - 0s 2ms/step - loss: 1.3858 - accuracy: 0.4362\n",
            "Epoch 61/100\n",
            "250/250 [==============================] - 0s 2ms/step - loss: 1.3615 - accuracy: 0.4463\n",
            "Epoch 62/100\n",
            "250/250 [==============================] - 0s 2ms/step - loss: 1.3485 - accuracy: 0.4458\n",
            "Epoch 63/100\n",
            "250/250 [==============================] - 1s 2ms/step - loss: 1.3661 - accuracy: 0.4491\n",
            "Epoch 64/100\n",
            "250/250 [==============================] - 1s 2ms/step - loss: 1.3327 - accuracy: 0.4576\n",
            "Epoch 65/100\n",
            "250/250 [==============================] - 1s 2ms/step - loss: 1.3361 - accuracy: 0.4589\n",
            "Epoch 66/100\n",
            "250/250 [==============================] - 1s 2ms/step - loss: 1.3442 - accuracy: 0.4538\n",
            "Epoch 67/100\n",
            "250/250 [==============================] - 1s 2ms/step - loss: 1.3651 - accuracy: 0.4368\n",
            "Epoch 68/100\n",
            "250/250 [==============================] - 0s 2ms/step - loss: 1.3573 - accuracy: 0.4413\n",
            "Epoch 69/100\n",
            "250/250 [==============================] - 1s 2ms/step - loss: 1.3271 - accuracy: 0.4564\n",
            "Epoch 70/100\n",
            "250/250 [==============================] - 1s 2ms/step - loss: 1.3087 - accuracy: 0.4661\n",
            "Epoch 71/100\n",
            "250/250 [==============================] - 1s 2ms/step - loss: 1.3530 - accuracy: 0.4543\n",
            "Epoch 72/100\n",
            "250/250 [==============================] - 1s 2ms/step - loss: 1.3139 - accuracy: 0.4684\n",
            "Epoch 73/100\n",
            "250/250 [==============================] - 1s 2ms/step - loss: 1.3257 - accuracy: 0.4571\n",
            "Epoch 74/100\n",
            "250/250 [==============================] - 1s 2ms/step - loss: 1.3291 - accuracy: 0.4570\n",
            "Epoch 75/100\n",
            "250/250 [==============================] - 1s 2ms/step - loss: 1.3171 - accuracy: 0.4634\n",
            "Epoch 76/100\n",
            "250/250 [==============================] - 1s 2ms/step - loss: 1.3301 - accuracy: 0.4574\n",
            "Epoch 77/100\n",
            "250/250 [==============================] - 1s 2ms/step - loss: 1.3184 - accuracy: 0.4511\n",
            "Epoch 78/100\n",
            "250/250 [==============================] - 1s 2ms/step - loss: 1.3390 - accuracy: 0.4563\n",
            "Epoch 79/100\n",
            "250/250 [==============================] - 1s 2ms/step - loss: 1.3253 - accuracy: 0.4621\n",
            "Epoch 80/100\n",
            "250/250 [==============================] - 1s 2ms/step - loss: 1.3234 - accuracy: 0.4621\n",
            "Epoch 81/100\n",
            "250/250 [==============================] - 1s 2ms/step - loss: 1.3088 - accuracy: 0.4638\n",
            "Epoch 82/100\n",
            "250/250 [==============================] - 0s 2ms/step - loss: 1.3100 - accuracy: 0.4651\n",
            "Epoch 83/100\n",
            "250/250 [==============================] - 1s 2ms/step - loss: 1.3181 - accuracy: 0.4597\n",
            "Epoch 84/100\n",
            "250/250 [==============================] - 1s 2ms/step - loss: 1.3330 - accuracy: 0.4625\n",
            "Epoch 85/100\n",
            "250/250 [==============================] - 1s 2ms/step - loss: 1.3213 - accuracy: 0.4533\n",
            "Epoch 86/100\n",
            "250/250 [==============================] - 1s 2ms/step - loss: 1.3106 - accuracy: 0.4711\n",
            "Epoch 87/100\n",
            "250/250 [==============================] - 1s 2ms/step - loss: 1.3078 - accuracy: 0.4601\n",
            "Epoch 88/100\n",
            "250/250 [==============================] - 1s 2ms/step - loss: 1.3286 - accuracy: 0.4605\n",
            "Epoch 89/100\n",
            "250/250 [==============================] - 0s 2ms/step - loss: 1.3105 - accuracy: 0.4672\n",
            "Epoch 90/100\n",
            "250/250 [==============================] - 1s 2ms/step - loss: 1.3030 - accuracy: 0.4653\n",
            "Epoch 91/100\n",
            "250/250 [==============================] - 1s 2ms/step - loss: 1.3020 - accuracy: 0.4711\n",
            "Epoch 92/100\n",
            "250/250 [==============================] - 1s 2ms/step - loss: 1.3075 - accuracy: 0.4635\n",
            "Epoch 93/100\n",
            "250/250 [==============================] - 1s 2ms/step - loss: 1.3102 - accuracy: 0.4632\n",
            "Epoch 94/100\n",
            "250/250 [==============================] - 1s 2ms/step - loss: 1.2894 - accuracy: 0.4707\n",
            "Epoch 95/100\n",
            "250/250 [==============================] - 1s 2ms/step - loss: 1.3031 - accuracy: 0.4657\n",
            "Epoch 96/100\n",
            "250/250 [==============================] - 1s 2ms/step - loss: 1.2949 - accuracy: 0.4674\n",
            "Epoch 97/100\n",
            "250/250 [==============================] - 1s 2ms/step - loss: 1.3068 - accuracy: 0.4665\n",
            "Epoch 98/100\n",
            "250/250 [==============================] - 1s 2ms/step - loss: 1.3284 - accuracy: 0.4578\n",
            "Epoch 99/100\n",
            "250/250 [==============================] - 1s 2ms/step - loss: 1.3369 - accuracy: 0.4586\n",
            "Epoch 100/100\n",
            "250/250 [==============================] - 1s 2ms/step - loss: 1.3157 - accuracy: 0.4661\n"
          ],
          "name": "stdout"
        },
        {
          "output_type": "execute_result",
          "data": {
            "text/plain": [
              "<keras.callbacks.History at 0x7f2d8ec99190>"
            ]
          },
          "metadata": {
            "tags": []
          },
          "execution_count": 33
        }
      ]
    },
    {
      "cell_type": "code",
      "metadata": {
        "colab": {
          "base_uri": "https://localhost:8080/",
          "height": 80
        },
        "id": "t87-d6n0WA9u",
        "outputId": "194c38ea-e042-479e-b6a5-ebf89b178b2f"
      },
      "source": [
        "x_test[0:1]"
      ],
      "execution_count": 34,
      "outputs": [
        {
          "output_type": "execute_result",
          "data": {
            "text/html": [
              "<div>\n",
              "<style scoped>\n",
              "    .dataframe tbody tr th:only-of-type {\n",
              "        vertical-align: middle;\n",
              "    }\n",
              "\n",
              "    .dataframe tbody tr th {\n",
              "        vertical-align: top;\n",
              "    }\n",
              "\n",
              "    .dataframe thead th {\n",
              "        text-align: right;\n",
              "    }\n",
              "</style>\n",
              "<table border=\"1\" class=\"dataframe\">\n",
              "  <thead>\n",
              "    <tr style=\"text-align: right;\">\n",
              "      <th></th>\n",
              "      <th>1.0</th>\n",
              "      <th>2.0</th>\n",
              "      <th>3.0</th>\n",
              "      <th>4.0</th>\n",
              "      <th>5.0</th>\n",
              "      <th>6.0</th>\n",
              "      <th>7.0</th>\n",
              "      <th>8.0</th>\n",
              "      <th>9.0</th>\n",
              "      <th>10.0</th>\n",
              "      <th>11.0</th>\n",
              "      <th>12.0</th>\n",
              "      <th>13.0</th>\n",
              "      <th>14.0</th>\n",
              "      <th>15.0</th>\n",
              "      <th>16.0</th>\n",
              "      <th>17.0</th>\n",
              "      <th>18.0</th>\n",
              "      <th>19.0</th>\n",
              "      <th>20.0</th>\n",
              "      <th>21.0</th>\n",
              "      <th>22.0</th>\n",
              "      <th>23.0</th>\n",
              "      <th>24.0</th>\n",
              "      <th>25.0</th>\n",
              "    </tr>\n",
              "  </thead>\n",
              "  <tbody>\n",
              "    <tr>\n",
              "      <th>8000</th>\n",
              "      <td>0</td>\n",
              "      <td>0</td>\n",
              "      <td>0</td>\n",
              "      <td>0</td>\n",
              "      <td>0</td>\n",
              "      <td>1</td>\n",
              "      <td>0</td>\n",
              "      <td>0</td>\n",
              "      <td>0</td>\n",
              "      <td>0</td>\n",
              "      <td>0</td>\n",
              "      <td>0</td>\n",
              "      <td>0</td>\n",
              "      <td>0</td>\n",
              "      <td>0</td>\n",
              "      <td>0</td>\n",
              "      <td>0</td>\n",
              "      <td>0</td>\n",
              "      <td>0</td>\n",
              "      <td>0</td>\n",
              "      <td>0</td>\n",
              "      <td>0</td>\n",
              "      <td>0</td>\n",
              "      <td>0</td>\n",
              "      <td>0</td>\n",
              "    </tr>\n",
              "  </tbody>\n",
              "</table>\n",
              "</div>"
            ],
            "text/plain": [
              "      1.0   2.0   3.0   4.0   5.0   6.0   ...  20.0  21.0  22.0  23.0  24.0  25.0\n",
              "8000     0     0     0     0     0     1  ...     0     0     0     0     0     0\n",
              "\n",
              "[1 rows x 25 columns]"
            ]
          },
          "metadata": {
            "tags": []
          },
          "execution_count": 34
        }
      ]
    },
    {
      "cell_type": "code",
      "metadata": {
        "id": "o0HBzzBE-PDi"
      },
      "source": [
        "# Use scikit-learn to grid search the batch size and epochs\n",
        "import numpy\n",
        "from sklearn.model_selection import GridSearchCV\n",
        "from keras.models import Sequential\n",
        "from keras.layers import Dense\n",
        "from keras.wrappers.scikit_learn import KerasClassifier\n",
        "# Function to create model, required for KerasClassifier\n",
        "def create_model():\n",
        "  # create model\n",
        "  model = Sequential()\n",
        "  model.add(Dense(12, input_dim=y_train.shape[1], activation='relu'))\n",
        "  model.add(Dense(1, activation='sigmoid'))\n",
        "  # Compile model\n",
        "  model.compile(loss='binary_crossentropy', optimizer='adam', metrics=['accuracy'])\n",
        "  return model\n",
        "\n",
        "\n",
        "# create model\n",
        "model = KerasClassifier(build_fn=create_model, verbose=0)\n",
        "\n",
        "# define the grid search parameters\n",
        "batch_size = [10, 20, 40, 60, 80, 100]\n",
        "epochs = [10, 50, 100]\n",
        "param_grid = dict(batch_size=batch_size, epochs=epochs)\n",
        "grid = GridSearchCV(estimator=model, param_grid=param_grid, n_jobs=-1, cv=3)\n",
        "grid_result = grid.fit(y_train,x_train)\n",
        "\n",
        "\n",
        "# summarize results\n",
        "print(\"Best: %f using %s\" % (grid_result.best_score_, grid_result.best_params_))\n",
        "means = grid_result.cv_results_['mean_test_score']\n",
        "stds = grid_result.cv_results_['std_test_score']\n",
        "params = grid_result.cv_results_['params']\n",
        "for mean, stdev, param in zip(means, stds, params):\n",
        "    print(\"%f (%f) with: %r\" % (mean, stdev, param))"
      ],
      "execution_count": null,
      "outputs": []
    },
    {
      "cell_type": "code",
      "metadata": {
        "id": "0pd5N-xl-utp"
      },
      "source": [
        "# Use scikit-learn to grid search the learning rate and momentum\n",
        "import numpy\n",
        "from sklearn.model_selection import GridSearchCV\n",
        "from keras.models import Sequential\n",
        "from keras.layers import Dense\n",
        "from keras.wrappers.scikit_learn import KerasClassifier\n",
        "from keras.optimizers import Adam\n",
        "# Function to create model, required for KerasClassifier\n",
        "def create_model(learn_rate=0.01, momentum=0):\n",
        "  # create model\n",
        "  model = Sequential()\n",
        "  model.add(Dense(25, input_dim=y_train.shape[1], activation='relu'))\n",
        "  model.add(Dense(50, activation='relu'))\n",
        "  model.add(Dense(25, activation='relu'))\n",
        "  model.add(Dense(1, activation='sigmoid'))\n",
        "  # Compile model\n",
        "  optimizer = Adam(lr=learn_rate, beta_1=0.9, beta_2=0.999, epsilon=1e-08, decay=0.0)\n",
        "  model.compile(loss='binary_crossentropy', optimizer=optimizer, metrics=['accuracy'])\n",
        "  return model\n",
        "\n",
        "# create model\n",
        "model = KerasClassifier(build_fn=create_model, epochs=100, batch_size=10, verbose=0)\n",
        "# define the grid search parameters\n",
        "learn_rate = [0.001, 0.01, 0.1, 0.2, 0.3]\n",
        "param_grid = dict(learn_rate=learn_rate, momentum=momentum)\n",
        "grid = GridSearchCV(estimator=model, param_grid=param_grid, n_jobs=-1, cv=3)\n",
        "grid_result = grid.fit(y_train,x_train)\n",
        "# summarize results\n",
        "print(\"Best: %f using %s\" % (grid_result.best_score_, grid_result.best_params_))\n",
        "means = grid_result.cv_results_['mean_test_score']\n",
        "stds = grid_result.cv_results_['std_test_score']\n",
        "params = grid_result.cv_results_['params']\n",
        "for mean, stdev, param in zip(means, stds, params):\n",
        "    print(\"%f (%f) with: %r\" % (mean, stdev, param))"
      ],
      "execution_count": null,
      "outputs": []
    },
    {
      "cell_type": "code",
      "metadata": {
        "colab": {
          "base_uri": "https://localhost:8080/"
        },
        "id": "RtImAkCwWEO6",
        "outputId": "2121f1c3-0e84-49e2-f106-1470b4648fb1"
      },
      "source": [
        "score = model.evaluate(y_test,x_test)\n",
        "print('Test score:', score[0])\n",
        "print('Test accuracy:', score[1])"
      ],
      "execution_count": 35,
      "outputs": [
        {
          "output_type": "stream",
          "text": [
            "63/63 [==============================] - 1s 2ms/step - loss: 1.2163 - accuracy: 0.4855\n",
            "Test score: 1.2162830829620361\n",
            "Test accuracy: 0.4855000078678131\n"
          ],
          "name": "stdout"
        }
      ]
    },
    {
      "cell_type": "code",
      "metadata": {
        "id": "UUO9vSLaqhu8"
      },
      "source": [
        "test_predictions = model.predict(y_test)"
      ],
      "execution_count": 36,
      "outputs": []
    },
    {
      "cell_type": "code",
      "metadata": {
        "id": "poV4PxmMNZbh"
      },
      "source": [
        "data2 = x_test"
      ],
      "execution_count": 37,
      "outputs": []
    },
    {
      "cell_type": "code",
      "metadata": {
        "id": "e2qK_pCG6Zcf"
      },
      "source": [
        "itemindex = numpy.where(data2==1)"
      ],
      "execution_count": 38,
      "outputs": []
    },
    {
      "cell_type": "code",
      "metadata": {
        "colab": {
          "base_uri": "https://localhost:8080/"
        },
        "id": "oJdR4mOhChrQ",
        "outputId": "4c930e6f-8d25-4888-85ff-48e4095d6b6f"
      },
      "source": [
        "itemindex[:10][1]+1"
      ],
      "execution_count": 39,
      "outputs": [
        {
          "output_type": "execute_result",
          "data": {
            "text/plain": [
              "array([ 6,  2, 10, ..., 21, 23, 11])"
            ]
          },
          "metadata": {
            "tags": []
          },
          "execution_count": 39
        }
      ]
    },
    {
      "cell_type": "code",
      "metadata": {
        "colab": {
          "base_uri": "https://localhost:8080/"
        },
        "id": "GLqGWZtIC5B1",
        "outputId": "7cc61a9e-2798-4b84-b1a4-cf43e4cbdd8f"
      },
      "source": [
        "for i in range(10):\n",
        "  print(\"prediction classes\",test_predictions[i].sum())"
      ],
      "execution_count": 40,
      "outputs": [
        {
          "output_type": "stream",
          "text": [
            "prediction classes 1.0\n",
            "prediction classes 1.0\n",
            "prediction classes 1.0000001\n",
            "prediction classes 1.0\n",
            "prediction classes 1.0\n",
            "prediction classes 0.99999994\n",
            "prediction classes 1.0\n",
            "prediction classes 0.99999994\n",
            "prediction classes 1.0\n",
            "prediction classes 1.0\n"
          ],
          "name": "stdout"
        }
      ]
    },
    {
      "cell_type": "code",
      "metadata": {
        "colab": {
          "base_uri": "https://localhost:8080/"
        },
        "id": "7MB3zueZDSVh",
        "outputId": "46c49d3a-008e-494f-a320-4d21a3aaad51"
      },
      "source": [
        "np.set_printoptions(precision=2)\n",
        "for i in range(10):\n",
        "  print(\"no\",i+1, np.round(test_predictions[i],decimals=2) )"
      ],
      "execution_count": 41,
      "outputs": [
        {
          "output_type": "stream",
          "text": [
            "no 1 [0.   0.   0.   0.   0.   0.49 0.   0.   0.   0.   0.   0.   0.   0.\n",
            " 0.   0.   0.   0.   0.02 0.   0.   0.   0.5  0.   0.  ]\n",
            "no 2 [0.   0.09 0.02 0.   0.12 0.   0.1  0.   0.   0.07 0.   0.08 0.   0.\n",
            " 0.08 0.   0.03 0.   0.   0.19 0.   0.   0.   0.   0.22]\n",
            "no 3 [0.01 0.15 0.14 0.   0.   0.   0.07 0.01 0.   0.14 0.   0.06 0.   0.\n",
            " 0.13 0.   0.25 0.   0.   0.   0.   0.01 0.   0.   0.  ]\n",
            "no 4 [0.   0.08 0.01 0.   0.14 0.   0.08 0.   0.   0.09 0.   0.07 0.   0.\n",
            " 0.09 0.   0.03 0.   0.   0.21 0.   0.   0.   0.   0.2 ]\n",
            "no 5 [0.   0.15 0.06 0.   0.04 0.   0.1  0.   0.   0.2  0.   0.08 0.   0.\n",
            " 0.19 0.   0.13 0.   0.   0.04 0.   0.   0.   0.   0.  ]\n",
            "no 6 [0.04 0.18 0.27 0.   0.   0.   0.25 0.   0.   0.02 0.   0.18 0.   0.\n",
            " 0.03 0.   0.01 0.01 0.   0.   0.   0.   0.   0.   0.01]\n",
            "no 7 [0.   0.   0.   0.   0.   0.   0.   0.   0.   0.   0.   0.   0.   0.88\n",
            " 0.   0.   0.   0.   0.   0.   0.12 0.   0.   0.   0.  ]\n",
            "no 8 [0.   0.17 0.08 0.   0.02 0.   0.21 0.   0.   0.06 0.   0.17 0.   0.\n",
            " 0.08 0.   0.03 0.   0.   0.05 0.   0.   0.   0.   0.12]\n",
            "no 9 [0.   0.07 0.01 0.   0.16 0.   0.08 0.   0.   0.1  0.   0.06 0.   0.\n",
            " 0.1  0.   0.03 0.   0.   0.21 0.   0.   0.   0.   0.18]\n",
            "no 10 [0.   0.   0.   0.   0.   0.47 0.   0.   0.   0.   0.   0.   0.   0.\n",
            " 0.   0.   0.   0.   0.02 0.   0.   0.   0.52 0.   0.  ]\n"
          ],
          "name": "stdout"
        }
      ]
    },
    {
      "cell_type": "code",
      "metadata": {
        "id": "YokDYCUZOoTm"
      },
      "source": [
        "a = itemindex[:][1]+1"
      ],
      "execution_count": 42,
      "outputs": []
    },
    {
      "cell_type": "code",
      "metadata": {
        "colab": {
          "base_uri": "https://localhost:8080/"
        },
        "id": "qG6W9atm0uus",
        "outputId": "1ea7316e-a9a6-43f9-b3d5-9a3c57cbd64d"
      },
      "source": [
        "for i in range(10):\n",
        "  b = test_predictions[i].argsort()[-5:][::-1]+1\n",
        "  print(\"prediction classes\",(b))\n",
        "  print(\"answer\",a[i])\n",
        "  #print(\"prediction probabilities\",test_predictions[i].sort()[-5:][::-1])\n",
        "  print(\"associated var\",y_test[i])"
      ],
      "execution_count": 43,
      "outputs": [
        {
          "output_type": "stream",
          "text": [
            "prediction classes [23  6 19 18 11]\n",
            "answer 6\n",
            "associated var [11.87]\n",
            "prediction classes [25 20  5  7  2]\n",
            "answer 2\n",
            "associated var [15.14]\n",
            "prediction classes [17  2 10  3 15]\n",
            "answer 10\n",
            "associated var [16.12]\n",
            "prediction classes [20 25  5 15 10]\n",
            "answer 5\n",
            "associated var [15.25]\n",
            "prediction classes [10 15  2 17  7]\n",
            "answer 7\n",
            "associated var [15.83]\n",
            "prediction classes [ 3  7 12  2  1]\n",
            "answer 12\n",
            "associated var [14.53]\n",
            "prediction classes [14 21  9 16 13]\n",
            "answer 14\n",
            "associated var [27.12]\n",
            "prediction classes [ 7  2 12 25 15]\n",
            "answer 25\n",
            "associated var [14.89]\n",
            "prediction classes [20 25  5 10 15]\n",
            "answer 20\n",
            "associated var [15.31]\n",
            "prediction classes [23  6 19 18 11]\n",
            "answer 6\n",
            "associated var [11.9]\n"
          ],
          "name": "stdout"
        }
      ]
    },
    {
      "cell_type": "code",
      "metadata": {
        "id": "RG9IZmr9fECT",
        "colab": {
          "base_uri": "https://localhost:8080/"
        },
        "outputId": "6a92093d-f2f9-4a5b-82cf-c2eb42073711"
      },
      "source": [
        "count = 0\n",
        "for i in range(len(y_test)):\n",
        "  b = test_predictions[i].argsort()[-5:][::-1]+1\n",
        "  for j in range(5):\n",
        "    if(b[j]==a[i]):\n",
        "      count+=1\n",
        "\n",
        "print(\"answer : \",count)"
      ],
      "execution_count": 44,
      "outputs": [
        {
          "output_type": "stream",
          "text": [
            "answer :  1850\n"
          ],
          "name": "stdout"
        }
      ]
    },
    {
      "cell_type": "code",
      "metadata": {
        "colab": {
          "base_uri": "https://localhost:8080/"
        },
        "id": "UYByq4YjSV4-",
        "outputId": "00c081b6-ef80-4a93-f320-5de02473a963"
      },
      "source": [
        "print(\"accuracy : \",count/(len(y_test))*100 )"
      ],
      "execution_count": 45,
      "outputs": [
        {
          "output_type": "stream",
          "text": [
            "accuracy :  92.5\n"
          ],
          "name": "stdout"
        }
      ]
    },
    {
      "cell_type": "code",
      "metadata": {
        "id": "GnbvHU3aDBy3"
      },
      "source": [
        ""
      ],
      "execution_count": null,
      "outputs": []
    }
  ]
}