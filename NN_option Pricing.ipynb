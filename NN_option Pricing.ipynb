{
 "cells": [
  {
   "cell_type": "code",
   "execution_count": 1,
   "id": "generic-coffee",
   "metadata": {},
   "outputs": [
    {
     "name": "stderr",
     "output_type": "stream",
     "text": [
      "/Users/parthparakh/opt/anaconda3/lib/python3.7/site-packages/ipykernel_launcher.py:26: RuntimeWarning: divide by zero encountered in double_scalars\n",
      "/Users/parthparakh/opt/anaconda3/lib/python3.7/site-packages/ipykernel_launcher.py:28: RuntimeWarning: divide by zero encountered in double_scalars\n"
     ]
    }
   ],
   "source": [
    "#!/usr/bin/python\n",
    "#NN_option Pricing.ipynb\n",
    "#Parth Parakh\n",
    "#purpose: Coursework\n",
    "\n",
    "#---------------------------------------------------------------------\n",
    "#import modules\n",
    "import numpy as np\n",
    "import matplotlib.pyplot as plt\n",
    "from scipy.stats import norm\n",
    "from scipy import fft\n",
    "from scipy import interpolate\n",
    "from scipy.interpolate import CubicSpline\n",
    "import sklearn\n",
    "from sklearn.model_selection import train_test_split \n",
    "#----------------------------------------------------------------------    \n",
    "def BSM(price,strike,rate,time,v):\n",
    "    \n",
    "    S0 = price;\n",
    "    K = strike;\n",
    "    sigma = v;\n",
    "    r = rate;\n",
    "    T = time;\n",
    "    q = 0;\n",
    "    #Analytical Solution\n",
    "    d1 = ((np.log(S0/K)+(r-q+0.5*sigma**2)*T))/(sigma*np.sqrt(T));\n",
    "    # d2 = d1 - sigma*sqrt(T);\n",
    "    d2 = ((np.log(S0/K)+(r-q-0.5*sigma**2)*T))/(sigma*np.sqrt(T));\n",
    "    Vca = (S0*np.exp(-q*T)*norm.cdf(d1)) - (K*np.exp(-r*T)*norm.cdf(d2));\n",
    "    # Put-call parity: V_call + K*exp(-r*T) = V_put - S_0\n",
    "    Vpa = (K*np.exp(-r*T)*norm.cdf(-d2)) - (S0*np.exp(-q*T)*norm.cdf(-d1));\n",
    "    \n",
    "    return Vca;\n",
    "#----------------------------------------------------------------------\n",
    "#Defining the parameters\n",
    "\n",
    "s = 115;\n",
    "r = 0.05;\n",
    "v = 0.5;\n",
    "\n",
    "p = np.linspace(75,130,1000);\n",
    "t = np.linspace(0,1,100);\n",
    "\n",
    "time, price = np.meshgrid(t,p);\n",
    "\n",
    "call = np.zeros((len(price),len(price[0])))\n",
    "\n",
    "for i in range(len(price)):\n",
    "    for j in range(len(price[0])):\n",
    "        call[i][j] = BSM(price[i][j],s,r,time[i][j],v);"
   ]
  },
  {
   "cell_type": "code",
   "execution_count": 2,
   "id": "continental-meaning",
   "metadata": {},
   "outputs": [],
   "source": [
    "Y= call.flatten()\n",
    "#Y = Y.reshape((1,len(Y)))\n",
    "time = time.flatten()\n",
    "price = price.flatten()\n",
    "X =  np.vstack((time,price)).T"
   ]
  },
  {
   "cell_type": "code",
   "execution_count": 3,
   "id": "still-eight",
   "metadata": {},
   "outputs": [
    {
     "data": {
      "text/plain": [
       "(30000, 2)"
      ]
     },
     "execution_count": 3,
     "metadata": {},
     "output_type": "execute_result"
    }
   ],
   "source": [
    "XTrain, XTest, YTrain, YTest = train_test_split(X, Y, test_size=0.3,random_state=2)\n",
    "#XTrain = XTrain.T\n",
    "#XTest = XTest.T\n",
    "#YTrain = YTrain.T\n",
    "#YTest = YTest.T\n",
    "\n",
    "np.shape(XTest)"
   ]
  },
  {
   "cell_type": "code",
   "execution_count": 4,
   "id": "dietary-southwest",
   "metadata": {},
   "outputs": [],
   "source": [
    "# Define useful functions    \n",
    "\n",
    "# Activation function\n",
    "def sigmoid(t):\n",
    "    return 1/(1+np.exp(-t))\n",
    "\n",
    "# Derivative of sigmoid\n",
    "def sigmoid_derivative(p):\n",
    "    return p * (1 - p)\n",
    "\n",
    "# Class definition\n",
    "class NeuralNetwork:\n",
    "    def __init__(self, x,y):\n",
    "        self.input = x\n",
    "        self.weights1= np.random.rand(self.input.shape[1],10) # considering we have 4 nodes in the hidden layer\n",
    "        self.weights2 = np.random.rand(10,1)\n",
    "        self.y = y\n",
    "        self.output = np. zeros(y.shape)\n",
    "        \n",
    "    def feedforward(self):\n",
    "        self.layer1 = sigmoid(np.dot(self.input, self.weights1))\n",
    "        self.layer2 = sigmoid(np.dot(self.layer1, self.weights2))\n",
    "        return self.layer2\n",
    "        \n",
    "    def backprop(self):\n",
    "        d_weights2 = np.dot(self.layer1.T, 2*(self.y -self.output)*sigmoid_derivative(self.output))\n",
    "        d_weights1 = np.dot(self.input.T, np.dot(2*(self.y -self.output)*sigmoid_derivative(self.output), self.weights2.T)*sigmoid_derivative(self.layer1))\n",
    "    \n",
    "        self.weights1 += d_weights1\n",
    "        self.weights2 += d_weights2\n",
    "\n",
    "    def train(self, X, y):\n",
    "        self.output = self.feedforward()\n",
    "        self.backprop()\n",
    "         "
   ]
  },
  {
   "cell_type": "code",
   "execution_count": null,
   "id": "julian-exclusive",
   "metadata": {},
   "outputs": [],
   "source": [
    "NN = NeuralNetwork(X,Y)\n",
    "for i in range(1000): # trains the NN 1,000 times\n",
    "    NN.train(XTrain,YTrain)"
   ]
  },
  {
   "cell_type": "code",
   "execution_count": null,
   "id": "indonesian-compression",
   "metadata": {},
   "outputs": [],
   "source": []
  }
 ],
 "metadata": {
  "kernelspec": {
   "display_name": "Python 3",
   "language": "python",
   "name": "python3"
  },
  "language_info": {
   "codemirror_mode": {
    "name": "ipython",
    "version": 3
   },
   "file_extension": ".py",
   "mimetype": "text/x-python",
   "name": "python",
   "nbconvert_exporter": "python",
   "pygments_lexer": "ipython3",
   "version": "3.7.7"
  },
  "varInspector": {
   "cols": {
    "lenName": 16,
    "lenType": 16,
    "lenVar": 40
   },
   "kernels_config": {
    "python": {
     "delete_cmd_postfix": "",
     "delete_cmd_prefix": "del ",
     "library": "var_list.py",
     "varRefreshCmd": "print(var_dic_list())"
    },
    "r": {
     "delete_cmd_postfix": ") ",
     "delete_cmd_prefix": "rm(",
     "library": "var_list.r",
     "varRefreshCmd": "cat(var_dic_list()) "
    }
   },
   "types_to_exclude": [
    "module",
    "function",
    "builtin_function_or_method",
    "instance",
    "_Feature"
   ],
   "window_display": false
  }
 },
 "nbformat": 4,
 "nbformat_minor": 5
}
