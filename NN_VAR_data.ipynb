{
  "nbformat": 4,
  "nbformat_minor": 0,
  "metadata": {
    "colab": {
      "name": "NN VAR data.ipynb",
      "provenance": [],
      "authorship_tag": "ABX9TyNu3xpF4edExwpVekG8wiuh",
      "include_colab_link": true
    },
    "kernelspec": {
      "name": "python3",
      "display_name": "Python 3"
    },
    "language_info": {
      "name": "python"
    },
    "accelerator": "GPU"
  },
  "cells": [
    {
      "cell_type": "markdown",
      "metadata": {
        "id": "view-in-github",
        "colab_type": "text"
      },
      "source": [
        "<a href=\"https://colab.research.google.com/github/Parth7/ML-for-finance/blob/main/NN_VAR_data.ipynb\" target=\"_parent\"><img src=\"https://colab.research.google.com/assets/colab-badge.svg\" alt=\"Open In Colab\"/></a>"
      ]
    },
    {
      "cell_type": "code",
      "metadata": {
        "colab": {
          "base_uri": "https://localhost:8080/"
        },
        "id": "KYcxZyPVViqM",
        "outputId": "ea273971-f40a-4023-8f98-2b32f38a77d0"
      },
      "source": [
        "# TensorFlow and tf.keras\n",
        "import tensorflow as tf\n",
        "from tensorflow import keras\n",
        "from tensorflow.keras.layers import Conv2D, MaxPooling2D, Dropout, Flatten, Dense\n",
        "\n",
        "# Commonly used modules\n",
        "import numpy as np\n",
        "import os\n",
        "import sys\n",
        "\n",
        "# Images, plots, display, and visualization\n",
        "import matplotlib.pyplot as plt\n",
        "import pandas as pd\n",
        "import seaborn as sns\n",
        "import cv2\n",
        "import IPython\n",
        "from six.moves import urllib\n",
        "import random\n",
        "print(tf.__version__)"
      ],
      "execution_count": 2,
      "outputs": [
        {
          "output_type": "stream",
          "text": [
            "2.5.0\n"
          ],
          "name": "stdout"
        }
      ]
    },
    {
      "cell_type": "code",
      "metadata": {
        "colab": {
          "resources": {
            "http://localhost:8080/nbextensions/google.colab/files.js": {
              "data": "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",
              "ok": true,
              "headers": [
                [
                  "content-type",
                  "application/javascript"
                ]
              ],
              "status": 200,
              "status_text": ""
            }
          },
          "base_uri": "https://localhost:8080/",
          "height": 72
        },
        "id": "iZAX4jkkxYVi",
        "outputId": "f28330fa-5652-45c8-b4bd-647dfb7f415c"
      },
      "source": [
        "from google.colab import files\n",
        "uploaded = files.upload()"
      ],
      "execution_count": 3,
      "outputs": [
        {
          "output_type": "display_data",
          "data": {
            "text/html": [
              "\n",
              "     <input type=\"file\" id=\"files-6da85d14-4a9b-465a-a8b4-a5aefbe22065\" name=\"files[]\" multiple disabled\n",
              "        style=\"border:none\" />\n",
              "     <output id=\"result-6da85d14-4a9b-465a-a8b4-a5aefbe22065\">\n",
              "      Upload widget is only available when the cell has been executed in the\n",
              "      current browser session. Please rerun this cell to enable.\n",
              "      </output>\n",
              "      <script src=\"/nbextensions/google.colab/files.js\"></script> "
            ],
            "text/plain": [
              "<IPython.core.display.HTML object>"
            ]
          },
          "metadata": {
            "tags": []
          }
        },
        {
          "output_type": "stream",
          "text": [
            "Saving cummulative_data.xls to cummulative_data.xls\n"
          ],
          "name": "stdout"
        }
      ]
    },
    {
      "cell_type": "code",
      "metadata": {
        "id": "sM30XWmPVjk_"
      },
      "source": [
        "file = pd.read_excel('cummulative_data.xls') \n",
        "# Data for three-dimensional scattered points\n",
        "\n",
        "\n",
        "#(train_features, train_labels), (test_features, test_labels) = keras.datasets.boston_housing.load_data()\n",
        "\n",
        "# get per-feature statistics (mean, standard deviation) from the training set to normalize by\n",
        "#train_mean = np.mean(train_features, axis=0)\n",
        "#train_std = np.std(train_features, axis=0)\n",
        "#train_features = (train_features - train_mean) / train_std"
      ],
      "execution_count": 4,
      "outputs": []
    },
    {
      "cell_type": "code",
      "metadata": {
        "id": "sfBOtckgPEPM"
      },
      "source": [
        "file = file.to_numpy()"
      ],
      "execution_count": 5,
      "outputs": []
    },
    {
      "cell_type": "code",
      "metadata": {
        "colab": {
          "base_uri": "https://localhost:8080/"
        },
        "id": "wU7eKk-KQC-K",
        "outputId": "3ae67f96-c7ec-4368-c03d-f451fe5d0af5"
      },
      "source": [
        "file[:10]"
      ],
      "execution_count": 6,
      "outputs": [
        {
          "output_type": "execute_result",
          "data": {
            "text/plain": [
              "array([[13.992114, 25.      , 10.      ],\n",
              "       [13.930585, 25.      , 10.      ],\n",
              "       [13.809978, 25.      , 10.      ],\n",
              "       [13.911977, 25.      , 10.      ],\n",
              "       [13.810281, 25.      , 10.      ],\n",
              "       [13.961872, 25.      , 10.      ],\n",
              "       [14.06189 , 25.      , 10.      ],\n",
              "       [13.994377, 25.      , 10.      ],\n",
              "       [13.922221, 25.      , 10.      ],\n",
              "       [13.952919, 25.      , 10.      ]])"
            ]
          },
          "metadata": {
            "tags": []
          },
          "execution_count": 6
        }
      ]
    },
    {
      "cell_type": "code",
      "metadata": {
        "id": "_p8zMOnaPq3e"
      },
      "source": [
        "np.random.shuffle(file) "
      ],
      "execution_count": 7,
      "outputs": []
    },
    {
      "cell_type": "code",
      "metadata": {
        "colab": {
          "base_uri": "https://localhost:8080/"
        },
        "id": "VaE-gjzsLpFE",
        "outputId": "b7ff764e-3668-4e30-f697-8838b8497c01"
      },
      "source": [
        "file[:10]"
      ],
      "execution_count": 8,
      "outputs": [
        {
          "output_type": "execute_result",
          "data": {
            "text/plain": [
              "array([[ 13.30079075,  75.        , -30.        ],\n",
              "       [ 15.202598  , 125.        ,  30.        ],\n",
              "       [ 13.44995436, 100.        , -10.        ],\n",
              "       [ 17.98685907,  75.        ,  30.        ],\n",
              "       [ 15.040808  ,  50.        ,  30.        ],\n",
              "       [ 10.87649   ,  25.        ,  40.        ],\n",
              "       [ 15.39652   , 125.        ,  40.        ],\n",
              "       [ 14.78732236,  75.        , -10.        ],\n",
              "       [ 15.361711  ,  50.        ,  50.        ],\n",
              "       [ 15.67493   , 125.        ,  10.        ]])"
            ]
          },
          "metadata": {
            "tags": []
          },
          "execution_count": 8
        }
      ]
    },
    {
      "cell_type": "code",
      "metadata": {
        "colab": {
          "base_uri": "https://localhost:8080/"
        },
        "id": "hwipTtZCTbK5",
        "outputId": "df0dd47c-f0d1-45da-da17-5ad41b75f68e"
      },
      "source": [
        "file[:,0]"
      ],
      "execution_count": 9,
      "outputs": [
        {
          "output_type": "execute_result",
          "data": {
            "text/plain": [
              "array([13.30079075, 15.202598  , 13.44995436, ..., 13.71242499,\n",
              "       11.7928284 , 14.976642  ])"
            ]
          },
          "metadata": {
            "tags": []
          },
          "execution_count": 9
        }
      ]
    },
    {
      "cell_type": "code",
      "metadata": {
        "id": "t-Spe9MPLkje"
      },
      "source": [
        "zdata = file[:,0]\n",
        "xdata = file[:,1]\n",
        "ydata = file[:,2]\n",
        "\n",
        "data = np.array([xdata,ydata])\n",
        "zd = np.array([zdata])"
      ],
      "execution_count": 10,
      "outputs": []
    },
    {
      "cell_type": "code",
      "metadata": {
        "id": "w9qNUrOnwRKP"
      },
      "source": [
        "test_set_size = int(np.round(0.2*data.shape[1]));\n",
        "train_set_size = data.shape[1] - (test_set_size);"
      ],
      "execution_count": 11,
      "outputs": []
    },
    {
      "cell_type": "code",
      "metadata": {
        "id": "nABObTTbxfnp"
      },
      "source": [
        "x_train = data[:,:train_set_size]\n",
        "y_train = zd[:,:train_set_size]\n",
        "\n",
        "x_test = data[:,train_set_size:]\n",
        "y_test = zd[:,train_set_size:]"
      ],
      "execution_count": 12,
      "outputs": []
    },
    {
      "cell_type": "code",
      "metadata": {
        "colab": {
          "base_uri": "https://localhost:8080/"
        },
        "id": "hdFdGj4T5Ggs",
        "outputId": "2eea0af6-c4c3-4e1b-9872-f9391cd67a14"
      },
      "source": [
        "x_train[:15]"
      ],
      "execution_count": 13,
      "outputs": [
        {
          "output_type": "execute_result",
          "data": {
            "text/plain": [
              "array([[ 75., 125., 100., ..., 125., 125.,  50.],\n",
              "       [-30.,  30., -10., ...,  30.,  10.,  40.]])"
            ]
          },
          "metadata": {
            "tags": []
          },
          "execution_count": 13
        }
      ]
    },
    {
      "cell_type": "code",
      "metadata": {
        "id": "3EXeC9GxAEOa"
      },
      "source": [
        "train_features = x_train"
      ],
      "execution_count": 14,
      "outputs": []
    },
    {
      "cell_type": "code",
      "metadata": {
        "colab": {
          "base_uri": "https://localhost:8080/"
        },
        "id": "sIkArTIxynLd",
        "outputId": "1c429daf-53ce-4c45-cd2a-fbc9fe374863"
      },
      "source": [
        "y_train.T.shape"
      ],
      "execution_count": 15,
      "outputs": [
        {
          "output_type": "execute_result",
          "data": {
            "text/plain": [
              "(8000, 1)"
            ]
          },
          "metadata": {
            "tags": []
          },
          "execution_count": 15
        }
      ]
    },
    {
      "cell_type": "code",
      "metadata": {
        "colab": {
          "base_uri": "https://localhost:8080/"
        },
        "id": "A5KMkMoGyrPq",
        "outputId": "9ae9c3f0-a1a6-40b4-e9eb-ce4ecea606c4"
      },
      "source": [
        "x_train.T.shape"
      ],
      "execution_count": 16,
      "outputs": [
        {
          "output_type": "execute_result",
          "data": {
            "text/plain": [
              "(8000, 2)"
            ]
          },
          "metadata": {
            "tags": []
          },
          "execution_count": 16
        }
      ]
    },
    {
      "cell_type": "code",
      "metadata": {
        "id": "odG9_amzruZ0"
      },
      "source": [
        "x_train = x_train.T\n",
        "y_train = y_train.T\n",
        "x_test = x_test.T\n",
        "y_test = y_test.T"
      ],
      "execution_count": 17,
      "outputs": []
    },
    {
      "cell_type": "code",
      "metadata": {
        "id": "nRXCWHuJywfH"
      },
      "source": [
        "#Define training hyperprameters.\n",
        "batch_size = 50\n",
        "num_epochs = 200\n",
        "learning_rate = 0.01\n",
        "size_hidden= 20\n",
        "\n",
        "#Calculate some other hyperparameters based on data.  \n",
        "batch_no = len(x_train) // batch_size  #batches\n",
        "cols=x_train.shape[1] #Number of columns in input matrix\n",
        "n_output=1"
      ],
      "execution_count": 31,
      "outputs": []
    },
    {
      "cell_type": "code",
      "metadata": {
        "id": "f9vvFrK2sr_G"
      },
      "source": [
        "import torch\n",
        "import torch.nn as nn\n",
        "import torch.nn.functional as F"
      ],
      "execution_count": 32,
      "outputs": []
    },
    {
      "cell_type": "code",
      "metadata": {
        "colab": {
          "base_uri": "https://localhost:8080/"
        },
        "id": "eQqalT0mk4yv",
        "outputId": "4140e3e6-4a8d-4d22-b6bc-aca30cdaf04f"
      },
      "source": [
        "#Create the model\n",
        "device = torch.device(\"cuda:0\" if torch.cuda.is_available() else \"cpu\")\n",
        "# Assume that we are on a CUDA machine, then this should print a CUDA device:\n",
        "print(\"Executing the model on :\",device)\n",
        "class Net(torch.nn.Module):\n",
        "    def __init__(self, n_feature, size_hidden, n_output):\n",
        "        super(Net, self).__init__()\n",
        "        self.hidden = torch.nn.Linear(cols, size_hidden)   # hidden layer\n",
        "        self.predict = torch.nn.Linear(size_hidden, n_output)   # output layer\n",
        "\n",
        "    def forward(self, x):\n",
        "        x = F.relu(self.hidden(x))      # activation function for hidden layer\n",
        "        x = self.predict(x)             # linear output\n",
        "        return x\n",
        "net = Net(cols, size_hidden, n_output)"
      ],
      "execution_count": 33,
      "outputs": [
        {
          "output_type": "stream",
          "text": [
            "Executing the model on : cuda:0\n"
          ],
          "name": "stdout"
        }
      ]
    },
    {
      "cell_type": "code",
      "metadata": {
        "colab": {
          "base_uri": "https://localhost:8080/"
        },
        "id": "w57JYoUOmMP3",
        "outputId": "d2ea428f-e5f6-4ef9-a604-7bf6804ca600"
      },
      "source": [
        "#Adam is a specific flavor of gradient decent which is typically better\n",
        "optimizer = torch.optim.Adam(net.parameters(), lr=learning_rate)\n",
        "#optimizer = torch.optim.SGD(net.parameters(), lr=0.2)\n",
        "criterion = torch.nn.MSELoss(size_average=False)  # this is for regression mean squared loss"
      ],
      "execution_count": 34,
      "outputs": [
        {
          "output_type": "stream",
          "text": [
            "/usr/local/lib/python3.7/dist-packages/torch/nn/_reduction.py:42: UserWarning: size_average and reduce args will be deprecated, please use reduction='sum' instead.\n",
            "  warnings.warn(warning.format(ret))\n"
          ],
          "name": "stderr"
        }
      ]
    },
    {
      "cell_type": "code",
      "metadata": {
        "id": "O3B5xrInzsqw"
      },
      "source": [
        "#Change to numpy arraay. \n",
        "X_train=x_train\n",
        "y_train=y_train\n",
        "X_test=x_test\n",
        "y_test=y_test"
      ],
      "execution_count": 35,
      "outputs": []
    },
    {
      "cell_type": "code",
      "metadata": {
        "colab": {
          "base_uri": "https://localhost:8080/"
        },
        "id": "4YhNp50V0DCg",
        "outputId": "cdad2178-82dd-465c-9497-0f5fac50c266"
      },
      "source": [
        "from sklearn.utils import shuffle\n",
        "from torch.autograd import Variable\n",
        "running_loss = 0.0\n",
        "for epoch in range(num_epochs):\n",
        "    #Shuffle just mixes up the dataset between epocs\n",
        "    X_train, y_train = shuffle(X_train, y_train)\n",
        "    # Mini batch learning\n",
        "    for i in range(batch_no):\n",
        "        start = i * batch_size\n",
        "        end = start + batch_size\n",
        "        inputs = Variable(torch.FloatTensor(X_train[start:end]))\n",
        "        labels = Variable(torch.FloatTensor(y_train[start:end]))\n",
        "        # zero the parameter gradients\n",
        "        optimizer.zero_grad()\n",
        "\n",
        "        # forward + backward + optimize\n",
        "        outputs = net(inputs)\n",
        "        #print(\"outputs\",outputs)\n",
        "        #print(\"outputs\",outputs,outputs.shape,\"labels\",labels, labels.shape)\n",
        "        loss = criterion(outputs, torch.unsqueeze(labels,dim=1))\n",
        "        loss.backward()\n",
        "        optimizer.step()\n",
        "\n",
        "        # print statistics\n",
        "        running_loss += loss.item()\n",
        "        \n",
        "    print('Epoch {}'.format(epoch+1), \"loss: \",running_loss)\n",
        "    running_loss = 0.0"
      ],
      "execution_count": 36,
      "outputs": [
        {
          "output_type": "stream",
          "text": [
            "/usr/local/lib/python3.7/dist-packages/torch/nn/modules/loss.py:528: UserWarning: Using a target size (torch.Size([50, 1, 1])) that is different to the input size (torch.Size([50, 1])). This will likely lead to incorrect results due to broadcasting. Please ensure they have the same size.\n",
            "  return F.mse_loss(input, target, reduction=self.reduction)\n"
          ],
          "name": "stderr"
        },
        {
          "output_type": "stream",
          "text": [
            "Epoch 1 loss:  18917375.84375\n",
            "Epoch 2 loss:  15262718.203125\n",
            "Epoch 3 loss:  11936691.171875\n",
            "Epoch 4 loss:  10954153.853515625\n",
            "Epoch 5 loss:  10740353.29296875\n",
            "Epoch 6 loss:  10930572.599609375\n",
            "Epoch 7 loss:  10710319.775390625\n",
            "Epoch 8 loss:  10959041.576171875\n",
            "Epoch 9 loss:  10571915.67578125\n",
            "Epoch 10 loss:  10701197.869140625\n",
            "Epoch 11 loss:  10555605.8984375\n",
            "Epoch 12 loss:  10615626.45703125\n",
            "Epoch 13 loss:  10618047.30859375\n",
            "Epoch 14 loss:  10657134.0703125\n",
            "Epoch 15 loss:  10649601.623046875\n",
            "Epoch 16 loss:  10576247.97265625\n",
            "Epoch 17 loss:  10604817.84765625\n",
            "Epoch 18 loss:  10526941.720703125\n",
            "Epoch 19 loss:  10691716.099609375\n",
            "Epoch 20 loss:  10584954.4453125\n",
            "Epoch 21 loss:  10650212.8203125\n",
            "Epoch 22 loss:  10495562.62890625\n",
            "Epoch 23 loss:  10483724.650390625\n",
            "Epoch 24 loss:  10493876.56640625\n",
            "Epoch 25 loss:  10448219.423828125\n",
            "Epoch 26 loss:  10613788.79296875\n",
            "Epoch 27 loss:  10479097.68359375\n",
            "Epoch 28 loss:  10558107.51953125\n",
            "Epoch 29 loss:  10485847.451171875\n",
            "Epoch 30 loss:  10482711.173828125\n",
            "Epoch 31 loss:  10411211.646484375\n",
            "Epoch 32 loss:  10474955.486328125\n",
            "Epoch 33 loss:  10461348.0390625\n",
            "Epoch 34 loss:  10446983.380859375\n",
            "Epoch 35 loss:  10432472.22265625\n",
            "Epoch 36 loss:  10455197.9765625\n",
            "Epoch 37 loss:  10408892.666015625\n",
            "Epoch 38 loss:  10467498.86328125\n",
            "Epoch 39 loss:  10443485.15234375\n",
            "Epoch 40 loss:  10466160.9453125\n",
            "Epoch 41 loss:  10489767.544921875\n",
            "Epoch 42 loss:  10425273.326171875\n",
            "Epoch 43 loss:  10449036.9921875\n",
            "Epoch 44 loss:  10404492.40625\n",
            "Epoch 45 loss:  10352681.46484375\n",
            "Epoch 46 loss:  10484259.08984375\n",
            "Epoch 47 loss:  10417248.98828125\n",
            "Epoch 48 loss:  10419538.396484375\n",
            "Epoch 49 loss:  10427018.212890625\n",
            "Epoch 50 loss:  10465598.49609375\n",
            "Epoch 51 loss:  10558433.373046875\n",
            "Epoch 52 loss:  10443071.48046875\n",
            "Epoch 53 loss:  10394602.265625\n",
            "Epoch 54 loss:  10395839.177734375\n",
            "Epoch 55 loss:  10545795.40234375\n",
            "Epoch 56 loss:  10616171.345703125\n",
            "Epoch 57 loss:  10430445.943359375\n",
            "Epoch 58 loss:  10391439.517578125\n",
            "Epoch 59 loss:  10389556.162109375\n",
            "Epoch 60 loss:  10467564.27734375\n",
            "Epoch 61 loss:  10489932.00390625\n",
            "Epoch 62 loss:  10439929.66796875\n",
            "Epoch 63 loss:  10413183.69921875\n",
            "Epoch 64 loss:  10387380.021484375\n",
            "Epoch 65 loss:  10373644.3359375\n",
            "Epoch 66 loss:  10463059.830078125\n",
            "Epoch 67 loss:  10508327.556640625\n",
            "Epoch 68 loss:  10516269.546875\n",
            "Epoch 69 loss:  10418595.345703125\n",
            "Epoch 70 loss:  10451648.59375\n",
            "Epoch 71 loss:  10434840.64453125\n",
            "Epoch 72 loss:  10377438.61328125\n",
            "Epoch 73 loss:  10405008.298828125\n",
            "Epoch 74 loss:  10433567.015625\n",
            "Epoch 75 loss:  10389213.767578125\n",
            "Epoch 76 loss:  10460193.466796875\n",
            "Epoch 77 loss:  10553250.97265625\n",
            "Epoch 78 loss:  10435486.103515625\n",
            "Epoch 79 loss:  10388339.787109375\n",
            "Epoch 80 loss:  10390989.142578125\n",
            "Epoch 81 loss:  10421358.046875\n",
            "Epoch 82 loss:  10432531.6796875\n",
            "Epoch 83 loss:  10377459.41015625\n",
            "Epoch 84 loss:  10403083.92578125\n",
            "Epoch 85 loss:  10430004.13671875\n",
            "Epoch 86 loss:  10347159.28515625\n",
            "Epoch 87 loss:  10382506.546875\n",
            "Epoch 88 loss:  10359823.693359375\n",
            "Epoch 89 loss:  10405018.322265625\n",
            "Epoch 90 loss:  10422420.1640625\n",
            "Epoch 91 loss:  10419307.103515625\n",
            "Epoch 92 loss:  10428716.041015625\n",
            "Epoch 93 loss:  10515090.8515625\n",
            "Epoch 94 loss:  10404550.419921875\n",
            "Epoch 95 loss:  10492086.0859375\n",
            "Epoch 96 loss:  10396077.287109375\n",
            "Epoch 97 loss:  10461983.318359375\n",
            "Epoch 98 loss:  10414783.947265625\n",
            "Epoch 99 loss:  10316503.19921875\n",
            "Epoch 100 loss:  10434926.806640625\n",
            "Epoch 101 loss:  10436359.7421875\n",
            "Epoch 102 loss:  10353552.64453125\n",
            "Epoch 103 loss:  10423369.232421875\n",
            "Epoch 104 loss:  10368874.962890625\n",
            "Epoch 105 loss:  10389248.03515625\n",
            "Epoch 106 loss:  10416581.671875\n",
            "Epoch 107 loss:  10371263.466796875\n",
            "Epoch 108 loss:  10422305.73828125\n",
            "Epoch 109 loss:  10411235.021484375\n",
            "Epoch 110 loss:  10373441.4375\n",
            "Epoch 111 loss:  10450948.591796875\n",
            "Epoch 112 loss:  10437000.82421875\n",
            "Epoch 113 loss:  10372704.80078125\n",
            "Epoch 114 loss:  10415453.134765625\n",
            "Epoch 115 loss:  10376779.26953125\n",
            "Epoch 116 loss:  10371540.41796875\n",
            "Epoch 117 loss:  10330540.578125\n",
            "Epoch 118 loss:  10374536.021484375\n",
            "Epoch 119 loss:  10418202.52734375\n",
            "Epoch 120 loss:  10401051.55078125\n",
            "Epoch 121 loss:  10447934.13671875\n",
            "Epoch 122 loss:  10363940.345703125\n",
            "Epoch 123 loss:  10358901.08984375\n",
            "Epoch 124 loss:  10338363.0390625\n",
            "Epoch 125 loss:  10365630.228515625\n",
            "Epoch 126 loss:  10373378.44921875\n",
            "Epoch 127 loss:  10382430.591796875\n",
            "Epoch 128 loss:  10395194.6015625\n",
            "Epoch 129 loss:  10389981.0390625\n",
            "Epoch 130 loss:  10407901.396484375\n",
            "Epoch 131 loss:  10446820.330078125\n",
            "Epoch 132 loss:  10386363.1875\n",
            "Epoch 133 loss:  10422940.24609375\n",
            "Epoch 134 loss:  10349556.408203125\n",
            "Epoch 135 loss:  10336822.353515625\n",
            "Epoch 136 loss:  10386760.6484375\n",
            "Epoch 137 loss:  10367836.373046875\n",
            "Epoch 138 loss:  10415404.318359375\n",
            "Epoch 139 loss:  10342370.12109375\n",
            "Epoch 140 loss:  10378458.0546875\n",
            "Epoch 141 loss:  10372130.1171875\n",
            "Epoch 142 loss:  10352931.880859375\n",
            "Epoch 143 loss:  10339859.44140625\n",
            "Epoch 144 loss:  10355743.15234375\n",
            "Epoch 145 loss:  10368291.54296875\n",
            "Epoch 146 loss:  10344896.015625\n",
            "Epoch 147 loss:  10375178.068359375\n",
            "Epoch 148 loss:  10371907.9296875\n",
            "Epoch 149 loss:  10332659.751953125\n",
            "Epoch 150 loss:  10407970.0859375\n",
            "Epoch 151 loss:  10378720.357421875\n",
            "Epoch 152 loss:  10361965.677734375\n",
            "Epoch 153 loss:  10355435.986328125\n",
            "Epoch 154 loss:  10340688.2890625\n",
            "Epoch 155 loss:  10330518.244140625\n",
            "Epoch 156 loss:  10399803.11328125\n",
            "Epoch 157 loss:  10355403.326171875\n",
            "Epoch 158 loss:  10359822.845703125\n",
            "Epoch 159 loss:  10396029.267578125\n",
            "Epoch 160 loss:  10357122.5546875\n",
            "Epoch 161 loss:  10351208.15234375\n",
            "Epoch 162 loss:  10370165.30078125\n",
            "Epoch 163 loss:  10385708.251953125\n",
            "Epoch 164 loss:  10366957.830078125\n",
            "Epoch 165 loss:  10436044.767578125\n",
            "Epoch 166 loss:  10336683.234375\n",
            "Epoch 167 loss:  10390099.525390625\n",
            "Epoch 168 loss:  10331516.947265625\n",
            "Epoch 169 loss:  10346076.091796875\n",
            "Epoch 170 loss:  10347460.423828125\n",
            "Epoch 171 loss:  10346469.712890625\n",
            "Epoch 172 loss:  10372370.396484375\n",
            "Epoch 173 loss:  10326180.2109375\n",
            "Epoch 174 loss:  10406645.021484375\n",
            "Epoch 175 loss:  10347958.009765625\n",
            "Epoch 176 loss:  10336113.427734375\n",
            "Epoch 177 loss:  10305531.16796875\n",
            "Epoch 178 loss:  10360009.943359375\n",
            "Epoch 179 loss:  10383864.5859375\n",
            "Epoch 180 loss:  10333262.578125\n",
            "Epoch 181 loss:  10346136.29296875\n",
            "Epoch 182 loss:  10311199.791015625\n",
            "Epoch 183 loss:  10367364.0546875\n",
            "Epoch 184 loss:  10354249.716796875\n",
            "Epoch 185 loss:  10325947.380859375\n",
            "Epoch 186 loss:  10351796.5625\n",
            "Epoch 187 loss:  10339574.099609375\n",
            "Epoch 188 loss:  10339486.849609375\n",
            "Epoch 189 loss:  10305190.310546875\n",
            "Epoch 190 loss:  10343968.27734375\n",
            "Epoch 191 loss:  10366973.5234375\n",
            "Epoch 192 loss:  10361983.771484375\n",
            "Epoch 193 loss:  10358438.525390625\n",
            "Epoch 194 loss:  10342850.11328125\n",
            "Epoch 195 loss:  10364830.4453125\n",
            "Epoch 196 loss:  10351891.140625\n",
            "Epoch 197 loss:  10324116.87109375\n",
            "Epoch 198 loss:  10335663.63671875\n",
            "Epoch 199 loss:  10350414.25390625\n",
            "Epoch 200 loss:  10341347.283203125\n"
          ],
          "name": "stdout"
        }
      ]
    },
    {
      "cell_type": "code",
      "metadata": {
        "colab": {
          "base_uri": "https://localhost:8080/"
        },
        "id": "kw0IzfeLtOWU",
        "outputId": "8c499a71-54f0-4137-e3e6-9b15c94f013f"
      },
      "source": [
        "import pandas as pd\n",
        "from sklearn.metrics import r2_score\n",
        "\n",
        "X = Variable(torch.FloatTensor(X_train)) \n",
        "result = net(X)\n",
        "pred=result.data[:,0].numpy()\n",
        "print(len(pred),len(y_train))\n",
        "r2_score(pred,y_train)"
      ],
      "execution_count": 37,
      "outputs": [
        {
          "output_type": "stream",
          "text": [
            "8000 8000\n"
          ],
          "name": "stdout"
        },
        {
          "output_type": "execute_result",
          "data": {
            "text/plain": [
              "-938.1946533197736"
            ]
          },
          "metadata": {
            "tags": []
          },
          "execution_count": 37
        }
      ]
    },
    {
      "cell_type": "code",
      "metadata": {
        "id": "_-eiHklVtiKU"
      },
      "source": [
        "import pandas as pd\n",
        "from sklearn.metrics import r2_score\n",
        "#This is a little bit tricky to get the resulting prediction.  \n",
        "def calculate_r2(x,y=[]):\n",
        "    \"\"\"\n",
        "    This function will return the r2 if passed x and y or return predictions if just passed x. \n",
        "    \"\"\"\n",
        "    # Evaluate the model with the test set. \n",
        "    X = Variable(torch.FloatTensor(x))  \n",
        "    result = net(X) #This outputs the value for regression\n",
        "    result=result.data[:,0].numpy()\n",
        "  \n",
        "    if len(y) != 0:\n",
        "        r2=r2_score(result, y)\n",
        "        print(\"R-Squared\", r2)\n",
        "        #print('Accuracy {:.2f}'.format(num_right / len(y)), \"for a total of \", len(y), \"records\")\n",
        "        return pd.DataFrame(data= {'actual': y, 'predicted': result})\n",
        "    else:\n",
        "        print(\"returning predictions\")\n",
        "        return result"
      ],
      "execution_count": 28,
      "outputs": []
    },
    {
      "cell_type": "code",
      "metadata": {
        "colab": {
          "base_uri": "https://localhost:8080/"
        },
        "id": "y9PGELUMtlv2",
        "outputId": "b7e7f617-1aae-4919-f9f2-24342e8d6116"
      },
      "source": [
        "from sklearn.linear_model import LinearRegression\n",
        "lm = LinearRegression()\n",
        "lm.fit( X_train, y_train )"
      ],
      "execution_count": 29,
      "outputs": [
        {
          "output_type": "execute_result",
          "data": {
            "text/plain": [
              "LinearRegression(copy_X=True, fit_intercept=True, n_jobs=None, normalize=False)"
            ]
          },
          "metadata": {
            "tags": []
          },
          "execution_count": 29
        }
      ]
    },
    {
      "cell_type": "code",
      "metadata": {
        "colab": {
          "base_uri": "https://localhost:8080/"
        },
        "id": "sJfJUlHytxXV",
        "outputId": "99d720a7-88e2-4458-9d8a-1a400a38f91d"
      },
      "source": [
        "\n",
        "print('R2 for Train)', lm.score( X_train, y_train ))\n",
        "print('R2 for Test (cross validation)', lm.score(X_test, y_test))"
      ],
      "execution_count": 30,
      "outputs": [
        {
          "output_type": "stream",
          "text": [
            "R2 for Train) 0.03218773200271918\n",
            "R2 for Test (cross validation) 0.0283905623190871\n"
          ],
          "name": "stdout"
        }
      ]
    },
    {
      "cell_type": "code",
      "metadata": {
        "id": "4SwrtuJpt1uR"
      },
      "source": [
        ""
      ],
      "execution_count": null,
      "outputs": []
    }
  ]
}