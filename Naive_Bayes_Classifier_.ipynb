{
  "nbformat": 4,
  "nbformat_minor": 0,
  "metadata": {
    "colab": {
      "name": "Naive Bayes Classifier .ipynb",
      "provenance": [],
      "collapsed_sections": [],
      "authorship_tag": "ABX9TyNRUvHFClNXHdtwbrHFMNo9",
      "include_colab_link": true
    },
    "kernelspec": {
      "name": "python3",
      "display_name": "Python 3"
    },
    "language_info": {
      "name": "python"
    }
  },
  "cells": [
    {
      "cell_type": "markdown",
      "metadata": {
        "id": "view-in-github",
        "colab_type": "text"
      },
      "source": [
        "<a href=\"https://colab.research.google.com/github/Parth7/ML-for-finance/blob/main/Naive_Bayes_Classifier_.ipynb\" target=\"_parent\"><img src=\"https://colab.research.google.com/assets/colab-badge.svg\" alt=\"Open In Colab\"/></a>"
      ]
    },
    {
      "cell_type": "code",
      "metadata": {
        "colab": {
          "resources": {
            "http://localhost:8080/nbextensions/google.colab/files.js": {
              "data": "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",
              "ok": true,
              "headers": [
                [
                  "content-type",
                  "application/javascript"
                ]
              ],
              "status": 200,
              "status_text": ""
            }
          },
          "base_uri": "https://localhost:8080/",
          "height": 72
        },
        "id": "VVbTEYRyVvt2",
        "outputId": "3ab60748-880a-4382-a2ff-603e1e32653e"
      },
      "source": [
        "from google.colab import files\n",
        "uploaded = files.upload()"
      ],
      "execution_count": 226,
      "outputs": [
        {
          "output_type": "display_data",
          "data": {
            "text/html": [
              "\n",
              "     <input type=\"file\" id=\"files-90c6be1a-3202-4d7e-8fda-109ab6a8f54c\" name=\"files[]\" multiple disabled\n",
              "        style=\"border:none\" />\n",
              "     <output id=\"result-90c6be1a-3202-4d7e-8fda-109ab6a8f54c\">\n",
              "      Upload widget is only available when the cell has been executed in the\n",
              "      current browser session. Please rerun this cell to enable.\n",
              "      </output>\n",
              "      <script src=\"/nbextensions/google.colab/files.js\"></script> "
            ],
            "text/plain": [
              "<IPython.core.display.HTML object>"
            ]
          },
          "metadata": {
            "tags": []
          }
        },
        {
          "output_type": "stream",
          "text": [
            "Saving cummulative_data_complete_corrected.xlsx to cummulative_data_complete_corrected (1).xlsx\n"
          ],
          "name": "stdout"
        }
      ]
    },
    {
      "cell_type": "code",
      "metadata": {
        "id": "cufqVoMsWGtd"
      },
      "source": [
        "import pandas as pd\n",
        "dataset = pd.read_excel('cummulative_data_complete_corrected.xlsx') \n",
        "X = dataset.iloc[:, [0]].values\n",
        "y = dataset.iloc[:, -1].values"
      ],
      "execution_count": 227,
      "outputs": []
    },
    {
      "cell_type": "code",
      "metadata": {
        "colab": {
          "base_uri": "https://localhost:8080/"
        },
        "id": "U8T3GyzqWL-B",
        "outputId": "787f3886-1582-4ecb-b225-9af60c9cde1e"
      },
      "source": [
        "print(X.shape, y.shape)\n",
        "print(X[:5])\n",
        "print(y[:5])"
      ],
      "execution_count": 228,
      "outputs": [
        {
          "output_type": "stream",
          "text": [
            "(10000, 1) (10000,)\n",
            "[[13.992114]\n",
            " [13.930585]\n",
            " [13.809978]\n",
            " [13.911977]\n",
            " [13.810281]]\n",
            "[1 1 1 1 1]\n"
          ],
          "name": "stdout"
        }
      ]
    },
    {
      "cell_type": "code",
      "metadata": {
        "id": "V4fpPUZFWhAa"
      },
      "source": [
        "import numpy as np\n",
        "from scipy.stats import norm\n",
        "def fit_distribution(data):\n",
        "  # estimate parameters\n",
        "  mu = np.mean(data)\n",
        "  sigma = np.std(data)\n",
        "  #print(mu, sigma)\n",
        "  # fit distribution\n",
        "  dist = norm(mu, sigma)\n",
        "  return dist"
      ],
      "execution_count": 253,
      "outputs": []
    },
    {
      "cell_type": "code",
      "metadata": {
        "id": "C_8yT4Q4jSyV"
      },
      "source": [
        "Xy = np.zeros((50,200))"
      ],
      "execution_count": 230,
      "outputs": []
    },
    {
      "cell_type": "code",
      "metadata": {
        "colab": {
          "base_uri": "https://localhost:8080/"
        },
        "id": "xMh7dM30uEeo",
        "outputId": "aa10725b-7ae4-4c60-93ea-9e9eb4b648e7"
      },
      "source": [
        "Xy.shape"
      ],
      "execution_count": 231,
      "outputs": [
        {
          "output_type": "execute_result",
          "data": {
            "text/plain": [
              "(50, 200)"
            ]
          },
          "metadata": {
            "tags": []
          },
          "execution_count": 231
        }
      ]
    },
    {
      "cell_type": "code",
      "metadata": {
        "colab": {
          "base_uri": "https://localhost:8080/"
        },
        "id": "s4vDYo3AjW0j",
        "outputId": "e0956444-9d63-443a-d095-19166c6f00b0"
      },
      "source": [
        "Xy[1][199]"
      ],
      "execution_count": 232,
      "outputs": [
        {
          "output_type": "execute_result",
          "data": {
            "text/plain": [
              "0.0"
            ]
          },
          "metadata": {
            "tags": []
          },
          "execution_count": 232
        }
      ]
    },
    {
      "cell_type": "code",
      "metadata": {
        "colab": {
          "base_uri": "https://localhost:8080/"
        },
        "id": "nW_Xt74GlktI",
        "outputId": "df62fa8e-57d9-47d3-8fd0-c21733f0ff57"
      },
      "source": [
        "X[y == 49][0]"
      ],
      "execution_count": 233,
      "outputs": [
        {
          "output_type": "execute_result",
          "data": {
            "text/plain": [
              "array([5.80504441])"
            ]
          },
          "metadata": {
            "tags": []
          },
          "execution_count": 233
        }
      ]
    },
    {
      "cell_type": "code",
      "metadata": {
        "id": "v01Ap-SyjIvv"
      },
      "source": [
        "for i in range(50):\n",
        "    for j in range(0,200):\n",
        "      Xy[i][j] = X[y == i+1][j]"
      ],
      "execution_count": 234,
      "outputs": []
    },
    {
      "cell_type": "code",
      "metadata": {
        "colab": {
          "base_uri": "https://localhost:8080/"
        },
        "id": "nNjJvL1vkIPB",
        "outputId": "b750d7e3-59c9-484b-82d5-255279df8694"
      },
      "source": [
        "Xy[48][0]"
      ],
      "execution_count": 235,
      "outputs": [
        {
          "output_type": "execute_result",
          "data": {
            "text/plain": [
              "5.805044411"
            ]
          },
          "metadata": {
            "tags": []
          },
          "execution_count": 235
        }
      ]
    },
    {
      "cell_type": "code",
      "metadata": {
        "colab": {
          "base_uri": "https://localhost:8080/"
        },
        "id": "TmV_jrKQFsGU",
        "outputId": "965b626f-4d9e-4d2f-a5bb-b436ee477be2"
      },
      "source": [
        "Xy49[0]"
      ],
      "execution_count": 236,
      "outputs": [
        {
          "output_type": "execute_result",
          "data": {
            "text/plain": [
              "array([5.80504441])"
            ]
          },
          "metadata": {
            "tags": []
          },
          "execution_count": 236
        }
      ]
    },
    {
      "cell_type": "code",
      "metadata": {
        "id": "NQ_Ug8ZCJPAi"
      },
      "source": [
        "priory = np.zeros(50)\n",
        "\n",
        "for i in range(50):\n",
        "  priory[i] = len(Xy[i])/len(X)"
      ],
      "execution_count": 237,
      "outputs": []
    },
    {
      "cell_type": "code",
      "metadata": {
        "colab": {
          "base_uri": "https://localhost:8080/"
        },
        "id": "KpvXYhhEJjNa",
        "outputId": "bf607d17-6329-4a14-eecc-6680bf14c75d"
      },
      "source": [
        "print(priory[30])"
      ],
      "execution_count": 238,
      "outputs": [
        {
          "output_type": "stream",
          "text": [
            "0.02\n"
          ],
          "name": "stdout"
        }
      ]
    },
    {
      "cell_type": "code",
      "metadata": {
        "id": "QKw2OGEAZ0fh"
      },
      "source": [
        "def probability(X, prior, dist1):\n",
        "\treturn prior * dist1.pdf(X[0])"
      ],
      "execution_count": 239,
      "outputs": []
    },
    {
      "cell_type": "code",
      "metadata": {
        "colab": {
          "base_uri": "https://localhost:8080/"
        },
        "id": "QCvbXc93PUfL",
        "outputId": "d2233d69-cacb-4139-fb16-1c26c929f769"
      },
      "source": [
        "Xy[i].mean()"
      ],
      "execution_count": 242,
      "outputs": [
        {
          "output_type": "execute_result",
          "data": {
            "text/plain": [
              "13.967048135"
            ]
          },
          "metadata": {
            "tags": []
          },
          "execution_count": 242
        }
      ]
    },
    {
      "cell_type": "code",
      "metadata": {
        "colab": {
          "base_uri": "https://localhost:8080/"
        },
        "id": "bGMph-ogSO0p",
        "outputId": "7fc5bdc9-f90a-4559-f4df-2c4717128675"
      },
      "source": [
        "fit_distribution(Xy[1])"
      ],
      "execution_count": 246,
      "outputs": [
        {
          "output_type": "stream",
          "text": [
            "15.2138302 0.5442985028361828\n"
          ],
          "name": "stdout"
        },
        {
          "output_type": "execute_result",
          "data": {
            "text/plain": [
              "<scipy.stats._distn_infrastructure.rv_frozen at 0x7f66527d4690>"
            ]
          },
          "metadata": {
            "tags": []
          },
          "execution_count": 246
        }
      ]
    },
    {
      "cell_type": "code",
      "metadata": {
        "id": "O9R3-rboh5uC"
      },
      "source": [
        "distXy = []\n",
        "for i in range(50):\n",
        "  distXy.append(fit_distribution(Xy[i]))"
      ],
      "execution_count": 255,
      "outputs": []
    },
    {
      "cell_type": "code",
      "metadata": {
        "colab": {
          "base_uri": "https://localhost:8080/"
        },
        "id": "lJzpKhUiY5At",
        "outputId": "fa11f2b9-afe2-403a-e7f9-35c920e7820a"
      },
      "source": [
        "from sklearn.model_selection import train_test_split\n",
        "X_train, X_test, y_train, y_test = train_test_split(X, y, test_size=0.4, random_state=1)\n",
        "  \n",
        "# training the model on training set\n",
        "from sklearn.naive_bayes import GaussianNB\n",
        "gnb = GaussianNB()\n",
        "gnb.fit(X_train, y_train)"
      ],
      "execution_count": 257,
      "outputs": [
        {
          "output_type": "execute_result",
          "data": {
            "text/plain": [
              "GaussianNB(priors=None, var_smoothing=1e-09)"
            ]
          },
          "metadata": {
            "tags": []
          },
          "execution_count": 257
        }
      ]
    },
    {
      "cell_type": "code",
      "metadata": {
        "colab": {
          "base_uri": "https://localhost:8080/"
        },
        "id": "rplj_DwmwZK8",
        "outputId": "1777224e-52ec-4a84-aff4-13299c00c0b6"
      },
      "source": [
        "# classify one example\n",
        "py = np.zeros((50,1))\n",
        "Xsample, ysample = X[0], y[0]\n",
        "\n",
        "for i in range(50):\n",
        "  py[i] = probability(Xsample, priory[i], distXy[i])\n",
        "\n",
        "for i in range(50):\n",
        "  print('P(y=%d | %s) = %.3f' % (i+1,Xsample, py[i]*100))\n",
        "\n",
        "print('Truth: y=%d' % ysample)"
      ],
      "execution_count": 256,
      "outputs": [
        {
          "output_type": "stream",
          "text": [
            "P(y=1 | [13.992114]) = 8.388\n",
            "P(y=2 | [13.992114]) = 0.118\n",
            "P(y=3 | [13.992114]) = 0.000\n",
            "P(y=4 | [13.992114]) = 0.000\n",
            "P(y=5 | [13.992114]) = 0.000\n",
            "P(y=6 | [13.992114]) = 0.000\n",
            "P(y=7 | [13.992114]) = 0.138\n",
            "P(y=8 | [13.992114]) = 0.000\n",
            "P(y=9 | [13.992114]) = 0.000\n",
            "P(y=10 | [13.992114]) = 0.000\n",
            "P(y=11 | [13.992114]) = 0.000\n",
            "P(y=12 | [13.992114]) = 0.159\n",
            "P(y=13 | [13.992114]) = 0.000\n",
            "P(y=14 | [13.992114]) = 0.000\n",
            "P(y=15 | [13.992114]) = 0.027\n",
            "P(y=16 | [13.992114]) = 0.000\n",
            "P(y=17 | [13.992114]) = 0.171\n",
            "P(y=18 | [13.992114]) = 0.000\n",
            "P(y=19 | [13.992114]) = 0.000\n",
            "P(y=20 | [13.992114]) = 0.065\n",
            "P(y=21 | [13.992114]) = 0.000\n",
            "P(y=22 | [13.992114]) = 0.099\n",
            "P(y=23 | [13.992114]) = 0.000\n",
            "P(y=24 | [13.992114]) = 0.000\n",
            "P(y=25 | [13.992114]) = 0.000\n",
            "P(y=26 | [13.992114]) = 0.000\n",
            "P(y=27 | [13.992114]) = 0.046\n",
            "P(y=28 | [13.992114]) = 0.002\n",
            "P(y=29 | [13.992114]) = 0.002\n",
            "P(y=30 | [13.992114]) = 0.000\n",
            "P(y=31 | [13.992114]) = 0.000\n",
            "P(y=32 | [13.992114]) = 0.005\n",
            "P(y=33 | [13.992114]) = 2.537\n",
            "P(y=34 | [13.992114]) = 0.000\n",
            "P(y=35 | [13.992114]) = 0.000\n",
            "P(y=36 | [13.992114]) = 0.000\n",
            "P(y=37 | [13.992114]) = 0.000\n",
            "P(y=38 | [13.992114]) = 0.000\n",
            "P(y=39 | [13.992114]) = 0.000\n",
            "P(y=40 | [13.992114]) = 0.000\n",
            "P(y=41 | [13.992114]) = 0.000\n",
            "P(y=42 | [13.992114]) = 0.000\n",
            "P(y=43 | [13.992114]) = 0.000\n",
            "P(y=44 | [13.992114]) = 0.000\n",
            "P(y=45 | [13.992114]) = 0.000\n",
            "P(y=46 | [13.992114]) = 0.000\n",
            "P(y=47 | [13.992114]) = 0.000\n",
            "P(y=48 | [13.992114]) = 0.000\n",
            "P(y=49 | [13.992114]) = 0.000\n",
            "P(y=50 | [13.992114]) = 0.000\n",
            "Truth: y=1\n"
          ],
          "name": "stdout"
        }
      ]
    },
    {
      "cell_type": "code",
      "metadata": {
        "colab": {
          "base_uri": "https://localhost:8080/"
        },
        "id": "QGqDjZXPYG19",
        "outputId": "e3005beb-ed83-4457-90b7-4ad0fb91e70e"
      },
      "source": [
        "# classify one example\n",
        "py = np.zeros((50,1))\n",
        "Xsample, ysample = X[2764], y[2764]\n",
        "\n",
        "for i in range(50):\n",
        "  py[i] = probability(Xsample, priory[i], distXy[i])\n",
        "\n",
        "for i in range(50):\n",
        "  print('P(y=%d | %s) = %.3f' % (i+1,Xsample, py[i]*100))\n",
        "\n",
        "print('Truth: y=%d' % ysample)"
      ],
      "execution_count": 259,
      "outputs": [
        {
          "output_type": "stream",
          "text": [
            "P(y=1 | [15.67899]) = 0.000\n",
            "P(y=2 | [15.67899]) = 1.017\n",
            "P(y=3 | [15.67899]) = 0.021\n",
            "P(y=4 | [15.67899]) = 0.000\n",
            "P(y=5 | [15.67899]) = 1.716\n",
            "P(y=6 | [15.67899]) = 0.000\n",
            "P(y=7 | [15.67899]) = 0.997\n",
            "P(y=8 | [15.67899]) = 0.000\n",
            "P(y=9 | [15.67899]) = 0.000\n",
            "P(y=10 | [15.67899]) = 3.728\n",
            "P(y=11 | [15.67899]) = 0.000\n",
            "P(y=12 | [15.67899]) = 0.895\n",
            "P(y=13 | [15.67899]) = 0.000\n",
            "P(y=14 | [15.67899]) = 0.000\n",
            "P(y=15 | [15.67899]) = 1.389\n",
            "P(y=16 | [15.67899]) = 0.000\n",
            "P(y=17 | [15.67899]) = 0.828\n",
            "P(y=18 | [15.67899]) = 0.000\n",
            "P(y=19 | [15.67899]) = 0.000\n",
            "P(y=20 | [15.67899]) = 1.246\n",
            "P(y=21 | [15.67899]) = 0.000\n",
            "P(y=22 | [15.67899]) = 1.086\n",
            "P(y=23 | [15.67899]) = 0.000\n",
            "P(y=24 | [15.67899]) = 0.000\n",
            "P(y=25 | [15.67899]) = 3.988\n",
            "P(y=26 | [15.67899]) = 0.000\n",
            "P(y=27 | [15.67899]) = 1.273\n",
            "P(y=28 | [15.67899]) = 0.000\n",
            "P(y=29 | [15.67899]) = 0.000\n",
            "P(y=30 | [15.67899]) = 0.663\n",
            "P(y=31 | [15.67899]) = 0.000\n",
            "P(y=32 | [15.67899]) = 1.114\n",
            "P(y=33 | [15.67899]) = 0.000\n",
            "P(y=34 | [15.67899]) = 0.000\n",
            "P(y=35 | [15.67899]) = 1.158\n",
            "P(y=36 | [15.67899]) = 0.000\n",
            "P(y=37 | [15.67899]) = 0.536\n",
            "P(y=38 | [15.67899]) = 0.000\n",
            "P(y=39 | [15.67899]) = 0.000\n",
            "P(y=40 | [15.67899]) = 0.274\n",
            "P(y=41 | [15.67899]) = 0.000\n",
            "P(y=42 | [15.67899]) = 0.055\n",
            "P(y=43 | [15.67899]) = 0.000\n",
            "P(y=44 | [15.67899]) = 0.000\n",
            "P(y=45 | [15.67899]) = 0.120\n",
            "P(y=46 | [15.67899]) = 0.000\n",
            "P(y=47 | [15.67899]) = 0.000\n",
            "P(y=48 | [15.67899]) = 0.000\n",
            "P(y=49 | [15.67899]) = 0.000\n",
            "P(y=50 | [15.67899]) = 0.046\n",
            "Truth: y=27\n"
          ],
          "name": "stdout"
        }
      ]
    },
    {
      "cell_type": "code",
      "metadata": {
        "colab": {
          "base_uri": "https://localhost:8080/"
        },
        "id": "3DazfdM3ZDIL",
        "outputId": "a07aacb5-3c7a-4121-a54e-17a167bdac56"
      },
      "source": [
        "# classify one example\n",
        "py = np.zeros((50,1))\n",
        "Xsample, ysample = X[764], y[764]\n",
        "\n",
        "for i in range(50):\n",
        "  py[i] = probability(Xsample, priory[i], distXy[i])\n",
        "\n",
        "for i in range(50):\n",
        "  print('P(y=%d | %s) = %.3f' % (i+1,Xsample, py[i]*100))\n",
        "\n",
        "print('Truth: y=%d' % ysample)"
      ],
      "execution_count": 260,
      "outputs": [
        {
          "output_type": "stream",
          "text": [
            "P(y=1 | [10.89075]) = 0.000\n",
            "P(y=2 | [10.89075]) = 0.000\n",
            "P(y=3 | [10.89075]) = 0.000\n",
            "P(y=4 | [10.89075]) = 0.000\n",
            "P(y=5 | [10.89075]) = 0.000\n",
            "P(y=6 | [10.89075]) = 0.000\n",
            "P(y=7 | [10.89075]) = 0.000\n",
            "P(y=8 | [10.89075]) = 0.000\n",
            "P(y=9 | [10.89075]) = 0.000\n",
            "P(y=10 | [10.89075]) = 0.000\n",
            "P(y=11 | [10.89075]) = 0.000\n",
            "P(y=12 | [10.89075]) = 0.000\n",
            "P(y=13 | [10.89075]) = 0.000\n",
            "P(y=14 | [10.89075]) = 0.000\n",
            "P(y=15 | [10.89075]) = 0.000\n",
            "P(y=16 | [10.89075]) = 2.923\n",
            "P(y=17 | [10.89075]) = 0.000\n",
            "P(y=18 | [10.89075]) = 0.000\n",
            "P(y=19 | [10.89075]) = 0.000\n",
            "P(y=20 | [10.89075]) = 0.000\n",
            "P(y=21 | [10.89075]) = 0.000\n",
            "P(y=22 | [10.89075]) = 0.000\n",
            "P(y=23 | [10.89075]) = 0.000\n",
            "P(y=24 | [10.89075]) = 0.000\n",
            "P(y=25 | [10.89075]) = 0.000\n",
            "P(y=26 | [10.89075]) = 0.000\n",
            "P(y=27 | [10.89075]) = 0.000\n",
            "P(y=28 | [10.89075]) = 0.000\n",
            "P(y=29 | [10.89075]) = 0.000\n",
            "P(y=30 | [10.89075]) = 0.000\n",
            "P(y=31 | [10.89075]) = 0.000\n",
            "P(y=32 | [10.89075]) = 0.000\n",
            "P(y=33 | [10.89075]) = 0.000\n",
            "P(y=34 | [10.89075]) = 0.044\n",
            "P(y=35 | [10.89075]) = 0.000\n",
            "P(y=36 | [10.89075]) = 0.000\n",
            "P(y=37 | [10.89075]) = 0.000\n",
            "P(y=38 | [10.89075]) = 0.000\n",
            "P(y=39 | [10.89075]) = 0.000\n",
            "P(y=40 | [10.89075]) = 0.000\n",
            "P(y=41 | [10.89075]) = 0.000\n",
            "P(y=42 | [10.89075]) = 0.000\n",
            "P(y=43 | [10.89075]) = 0.000\n",
            "P(y=44 | [10.89075]) = 0.000\n",
            "P(y=45 | [10.89075]) = 0.000\n",
            "P(y=46 | [10.89075]) = 0.000\n",
            "P(y=47 | [10.89075]) = 0.000\n",
            "P(y=48 | [10.89075]) = 0.000\n",
            "P(y=49 | [10.89075]) = 0.000\n",
            "P(y=50 | [10.89075]) = 0.000\n",
            "Truth: y=16\n"
          ],
          "name": "stdout"
        }
      ]
    },
    {
      "cell_type": "code",
      "metadata": {
        "id": "HyswXnHNbhc6"
      },
      "source": [
        "from random import randint\n",
        "value = randint(0,10000)"
      ],
      "execution_count": 269,
      "outputs": []
    },
    {
      "cell_type": "code",
      "metadata": {
        "id": "NFMybrSGaM3z"
      },
      "source": [
        "# classify one example\n",
        "count = 0\n",
        "for j in range(10000):\n",
        "  py = {}\n",
        "  Xsample, ysample = X[j], y[j]\n",
        "  for i in range(50):\n",
        "    py[i] = probability(Xsample, priory[i], distXy[i])\n",
        "\n",
        "  #for i in range(50):\n",
        "    #print('P(y=%d | %s) = %.3f' % (i+1,Xsample, py[i]*100))\n",
        "\n",
        "  a = np.array(sorted(py, key=py.get, reverse=True)[:5])+1\n",
        "\n",
        "  for k in range(5):\n",
        "    if(ysample==a[k]):\n",
        "      count+=1"
      ],
      "execution_count": 288,
      "outputs": []
    },
    {
      "cell_type": "code",
      "metadata": {
        "colab": {
          "base_uri": "https://localhost:8080/"
        },
        "id": "Ex9JiQ49cx46",
        "outputId": "3a139965-3476-4a33-e02d-11e8131ac52c"
      },
      "source": [
        "count/10000 *100"
      ],
      "execution_count": 290,
      "outputs": [
        {
          "output_type": "execute_result",
          "data": {
            "text/plain": [
              "84.43"
            ]
          },
          "metadata": {
            "tags": []
          },
          "execution_count": 290
        }
      ]
    },
    {
      "cell_type": "code",
      "metadata": {
        "id": "v61Xdv2EoKwl"
      },
      "source": [
        ""
      ],
      "execution_count": null,
      "outputs": []
    }
  ]
}