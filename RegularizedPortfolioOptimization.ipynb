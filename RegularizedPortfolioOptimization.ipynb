{
 "cells": [
  {
   "cell_type": "code",
   "execution_count": 22,
   "id": "cosmetic-aircraft",
   "metadata": {},
   "outputs": [
    {
     "data": {
      "image/png": "[encoded data removed]",
      "text/plain": [
       "<Figure size 432x288 with 1 Axes>"
      ]
     },
     "metadata": {
      "needs_background": "light"
     },
     "output_type": "display_data"
    }
   ],
   "source": [
    "#!/usr/bin/python3.7\n",
    "#regularizedPortfolioOptimization.ipynb\n",
    "#Parth Parakh\n",
    "#purpose: Finding the appropriate value of lambda for regularised Markowitz portfolio\n",
    "#---------------------------------------------------------------------\n",
    "#import modules\n",
    "import numpy as np\n",
    "import matplotlib.pyplot as plt\n",
    "#---------------------------------------------------------------------\n",
    "\n",
    "if __name__ == \"__main__\":\n",
    "\n",
    "    X = np.loadtxt(open(\"XReturns.csv\", \"rb\"), delimiter=\",\")\n",
    "\n",
    "    xTrain = X[0:120,:];\n",
    "    xTest = X[121:200,:];\n",
    "    \n",
    "    xTrain = xTrain.transpose();\n",
    "    xTest = xTest.transpose();\n",
    "    \n",
    "    CTrain = np.cov(xTrain);\n",
    "    CTest = np.cov(xTest);\n",
    "    p=48;\n",
    "    vol2Test = [];\n",
    "    L = [];\n",
    "\n",
    "    for lambdaa in np.arange(0,10,0.01):\n",
    "        invCTrain = np.linalg.inv(CTrain+lambdaa*np.eye(p));\n",
    "        z = np.sum(invCTrain);\n",
    "        w = np.sum(invCTrain,axis=1)/z;\n",
    "        wT = np.transpose(w);\n",
    "        c = wT@CTest@w\n",
    "        vol2Test = np.append(vol2Test,c);\n",
    "        L = np.append(L,lambdaa);\n",
    "        \n",
    "    plt.plot(L,vol2Test)"
   ]
  },
  {
   "cell_type": "code",
   "execution_count": null,
   "id": "chief-survival",
   "metadata": {},
   "outputs": [],
   "source": []
  }
 ],
 "metadata": {
  "kernelspec": {
   "display_name": "Python 3",
   "language": "python",
   "name": "python3"
  },
  "language_info": {
   "codemirror_mode": {
    "name": "ipython",
    "version": 3
   },
   "file_extension": ".py",
   "mimetype": "text/x-python",
   "name": "python",
   "nbconvert_exporter": "python",
   "pygments_lexer": "ipython3",
   "version": "3.7.7"
  }
 },
 "nbformat": 4,
 "nbformat_minor": 5
}
